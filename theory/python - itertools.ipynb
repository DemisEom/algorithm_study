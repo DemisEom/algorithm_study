{
 "cells": [
  {
   "cell_type": "markdown",
   "metadata": {},
   "source": [
    "# Python \"itertools\" 패키지 정리"
   ]
  },
  {
   "cell_type": "markdown",
   "metadata": {},
   "source": [
    "파이썬 알고리즘을 풀면서 유용하게 사용할수 있는 패키지인 itertools에 대해 간단하게 정리하려고 합니다."
   ]
  },
  {
   "cell_type": "markdown",
   "metadata": {},
   "source": [
    "사실 비슷한 기능을 할수있는 pandas도 있지만 추가 라이브러리 설치없이 python자체 패키지로 사용가능한 기능들이기 때문에 더 유용하게 사용할 수있습니다."
   ]
  },
  {
   "cell_type": "markdown",
   "metadata": {},
   "source": [
    "파이썬 3.7.4 버전의 공식 document의 링크는 아래와 같습니다.  \n",
    "공식 표현을 빌리자면 \" Functions creating iterators for efficient looping\"이라고 표현 하고 있습니다."
   ]
  },
  {
   "cell_type": "markdown",
   "metadata": {},
   "source": [
    "https://docs.python.org/3/library/itertools.html"
   ]
  },
  {
   "cell_type": "markdown",
   "metadata": {},
   "source": [
    "## 사용법"
   ]
  },
  {
   "cell_type": "markdown",
   "metadata": {},
   "source": [
    "다른 패키지들과 동일하게 import로 간단하게 사용할 수 있습니다."
   ]
  },
  {
   "cell_type": "code",
   "execution_count": 1,
   "metadata": {
    "collapsed": true
   },
   "outputs": [],
   "source": [
    "import itertools"
   ]
  },
  {
   "cell_type": "markdown",
   "metadata": {},
   "source": [
    "### chain"
   ]
  },
  {
   "cell_type": "markdown",
   "metadata": {},
   "source": [
    "간단하게 생각하면 리스트들을 연결 해주는 기능을 합니다.  \n",
    "정확하게는 iterables한 자료형들을 연결해줍니다."
   ]
  },
  {
   "cell_type": "code",
   "execution_count": 4,
   "metadata": {},
   "outputs": [
    {
     "name": "stdout",
     "output_type": "stream",
     "text": [
      "['a', 'b', 'c', 'd', 'e', 'f', 1, 0, 1, 0, 0, 1, 0.1, 0.7, 0.4, 0.4, 0.5]\n"
     ]
    }
   ],
   "source": [
    "letters = ['a', 'b', 'c', 'd', 'e', 'f']\n",
    "booleans = [1, 0, 1, 0, 0, 1]\n",
    "decimals = [0.1, 0.7, 0.4, 0.4, 0.5]\n",
    "\n",
    "print(list(itertools.chain(letters, booleans, decimals)))"
   ]
  },
  {
   "cell_type": "markdown",
   "metadata": {},
   "source": [
    "### combinations & permutations"
   ]
  },
  {
   "cell_type": "markdown",
   "metadata": {},
   "source": [
    "조합과 순열의 경우의수들을 만들어 줍니다.  \n",
    "입력으로는 iterable자료형과 몇개의 데이터를 선택할지 r을 입력으로 받습니다."
   ]
  },
  {
   "cell_type": "code",
   "execution_count": 7,
   "metadata": {},
   "outputs": [
    {
     "name": "stdout",
     "output_type": "stream",
     "text": [
      "[('A', 'B'), ('A', 'C'), ('A', 'D'), ('B', 'C'), ('B', 'D'), ('C', 'D')]\n"
     ]
    }
   ],
   "source": [
    "print(list(itertools.combinations('ABCD',2)))"
   ]
  },
  {
   "cell_type": "code",
   "execution_count": 8,
   "metadata": {
    "scrolled": true
   },
   "outputs": [
    {
     "name": "stdout",
     "output_type": "stream",
     "text": [
      "[('A', 'B', 'C'), ('A', 'B', 'D'), ('A', 'C', 'D'), ('B', 'C', 'D')]\n"
     ]
    }
   ],
   "source": [
    "print(list(itertools.combinations('ABCD',3)))"
   ]
  },
  {
   "cell_type": "code",
   "execution_count": 2,
   "metadata": {},
   "outputs": [
    {
     "name": "stdout",
     "output_type": "stream",
     "text": [
      "[('A', 'B'), ('A', 'C'), ('A', 'D'), ('B', 'A'), ('B', 'C'), ('B', 'D'), ('C', 'A'), ('C', 'B'), ('C', 'D'), ('D', 'A'), ('D', 'B'), ('D', 'C')]\n"
     ]
    }
   ],
   "source": [
    "print(list(itertools.permutations('ABCD',2)))"
   ]
  },
  {
   "cell_type": "markdown",
   "metadata": {},
   "source": [
    "### count"
   ]
  },
  {
   "cell_type": "markdown",
   "metadata": {},
   "source": [
    "시작으로 입력 받은 값부터 디폴트 1씩 값을 키워 나갑니다.\n"
   ]
  },
  {
   "cell_type": "code",
   "execution_count": null,
   "metadata": {},
   "outputs": [],
   "source": [
    "print(list(itertools.count(10)))"
   ]
  },
  {
   "cell_type": "markdown",
   "metadata": {},
   "source": [
    "### cycle"
   ]
  },
  {
   "cell_type": "markdown",
   "metadata": {},
   "source": [
    "주어진 iterable에 대해서 반복적으로 연결합니다."
   ]
  },
  {
   "cell_type": "code",
   "execution_count": null,
   "metadata": {
    "collapsed": true
   },
   "outputs": [],
   "source": [
    "print(list())"
   ]
  },
  {
   "cell_type": "markdown",
   "metadata": {},
   "source": [
    "### groupby"
   ]
  },
  {
   "cell_type": "markdown",
   "metadata": {},
   "source": [
    "iterable에서 연속 키와 그룹을 반환하는 iterator를 만듭니다.  \n",
    "Unix의 uniq필터와 유사한 기능을 합니다.  \n",
    "나열된 시쿼스들을 압축하거나 동일한 스트링으로 나눌때 유용합니다.\n",
    "연속된 값에 대해서 group을 하기 때문에 전체 개수나 그룹을 하고 싶은 경우에는 먼저 정렬을 한 후 사용해야 합니다."
   ]
  },
  {
   "cell_type": "code",
   "execution_count": 3,
   "metadata": {},
   "outputs": [
    {
     "name": "stdout",
     "output_type": "stream",
     "text": [
      "['A', 'A'] A\n",
      "['B', 'B'] B\n",
      "['C', 'C'] C\n",
      "['D', 'D'] D\n"
     ]
    }
   ],
   "source": [
    "for k, g in itertools.groupby('AABBCCDD'):\n",
    "    print(list(g), k)"
   ]
  },
  {
   "cell_type": "code",
   "execution_count": 4,
   "metadata": {},
   "outputs": [
    {
     "name": "stdout",
     "output_type": "stream",
     "text": [
      "['A'] A\n",
      "['B', 'B'] B\n",
      "['A'] A\n",
      "['B'] B\n",
      "['D', 'D'] D\n",
      "['B'] B\n",
      "['F', 'F'] F\n",
      "['C', 'C'] C\n",
      "['D', 'D'] D\n"
     ]
    }
   ],
   "source": [
    "for k, g in itertools.groupby('ABBABDDBFFCCDD'):\n",
    "    print(list(g), k)"
   ]
  },
  {
   "cell_type": "markdown",
   "metadata": {},
   "source": [
    "### dropwhile & takewhile"
   ]
  },
  {
   "cell_type": "markdown",
   "metadata": {},
   "source": [
    "dropwhile은 lambda조건에 해당하는 값들은 drop시키고 그 이후의 값들을 리턴합니다.\n",
    "takewhile은 drop과 반대로 해당 조건이 만족하는 값이 나올때까지 값을 리턴합니다.\n"
   ]
  },
  {
   "cell_type": "code",
   "execution_count": 7,
   "metadata": {},
   "outputs": [
    {
     "name": "stdout",
     "output_type": "stream",
     "text": [
      "[11, 34, 66, 100, 1]\n"
     ]
    }
   ],
   "source": [
    "print(list(itertools.dropwhile(lambda x: x < 10, [1, 4, 6, 7, 11, 34, 66, 100, 1])))\n"
   ]
  },
  {
   "cell_type": "code",
   "execution_count": 9,
   "metadata": {
    "scrolled": true
   },
   "outputs": [
    {
     "name": "stdout",
     "output_type": "stream",
     "text": [
      "[100, 120, 70, 80, 600]\n"
     ]
    }
   ],
   "source": [
    "a = [1,2,5,6,7,8,100,120,70, 80, 600]\n",
    "print(list(itertools.dropwhile(lambda x: x < 10, a)))"
   ]
  }
 ],
 "metadata": {
  "kernelspec": {
   "display_name": "Python 3",
   "language": "python",
   "name": "python3"
  },
  "language_info": {
   "codemirror_mode": {
    "name": "ipython",
    "version": 3
   },
   "file_extension": ".py",
   "mimetype": "text/x-python",
   "name": "python",
   "nbconvert_exporter": "python",
   "pygments_lexer": "ipython3",
   "version": "3.6.8"
  }
 },
 "nbformat": 4,
 "nbformat_minor": 2
}
