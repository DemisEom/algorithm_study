{
 "cells": [
  {
   "cell_type": "markdown",
   "metadata": {},
   "source": [
    "# Python \"collections.Counter\"\n"
   ]
  },
  {
   "cell_type": "markdown",
   "metadata": {},
   "source": [
    "작성시에 해당 링크의 자료를 참고했습니다.  \n",
    "https://www.slideshare.net/dahlmoon/collections-20160313"
   ]
  },
  {
   "cell_type": "markdown",
   "metadata": {},
   "source": [
    "python의 collections중에서 Counter객체에 대해서 정리해 보려고 합니다.\n",
    "Counter는 이름 그대로 입력으로 받는 iterable혹은 mapping에 대해서 hashable한 것들을 카운팅 해줍니다."
   ]
  },
  {
   "cell_type": "code",
   "execution_count": 1,
   "metadata": {
    "collapsed": true
   },
   "outputs": [],
   "source": [
    "from collections import Counter"
   ]
  },
  {
   "cell_type": "code",
   "execution_count": 2,
   "metadata": {},
   "outputs": [
    {
     "name": "stdout",
     "output_type": "stream",
     "text": [
      "Counter({'a': 3, 'l': 2, 'g': 1, 'h': 1, 'd': 1})\n"
     ]
    }
   ],
   "source": [
    ">>> c = Counter('gallahad')# a new counter from an iterable\n",
    "print(c)"
   ]
  },
  {
   "cell_type": "markdown",
   "metadata": {},
   "source": [
    "객체를 출력해보면 결과가 딕셔너리와 유사한 것을 볼수 있습니다.\n",
    "실제 counter객체를 만들때 입력으로 딕셔너리 형태를 넣어줘도 됩니다."
   ]
  },
  {
   "cell_type": "code",
   "execution_count": 3,
   "metadata": {},
   "outputs": [
    {
     "name": "stdout",
     "output_type": "stream",
     "text": [
      "Counter({'red': 4, 'blue': 2})\n"
     ]
    }
   ],
   "source": [
    ">>> c = Counter({'red': 4, 'blue': 2})      # a new counter from a mapping\n",
    "print(c)"
   ]
  },
  {
   "cell_type": "markdown",
   "metadata": {},
   "source": [
    "## elements()"
   ]
  },
  {
   "cell_type": "code",
   "execution_count": 4,
   "metadata": {
    "collapsed": true
   },
   "outputs": [],
   "source": [
    "c = Counter('gallahad')   "
   ]
  },
  {
   "cell_type": "markdown",
   "metadata": {},
   "source": [
    "counter로 객체의 원소들을 순서대로 나열합니다."
   ]
  },
  {
   "cell_type": "code",
   "execution_count": 5,
   "metadata": {},
   "outputs": [
    {
     "name": "stdout",
     "output_type": "stream",
     "text": [
      "['g', 'a', 'a', 'a', 'l', 'l', 'h', 'd']\n"
     ]
    }
   ],
   "source": [
    "print(list(c.elements()))"
   ]
  },
  {
   "cell_type": "code",
   "execution_count": 6,
   "metadata": {},
   "outputs": [
    {
     "name": "stdout",
     "output_type": "stream",
     "text": [
      "['a', 'a', 'a', 'd', 'g', 'h', 'l', 'l']\n"
     ]
    }
   ],
   "source": [
    "print(sorted(c.elements()))"
   ]
  },
  {
   "cell_type": "markdown",
   "metadata": {},
   "source": [
    "## most_common"
   ]
  },
  {
   "cell_type": "markdown",
   "metadata": {},
   "source": [
    "counter객체의 빈도수, 카운트 수가 높은 n개를 리스트튜플 형태로 반환합니다.  \n",
    "개수를 넣지 않을 경우 디폴트로 전체 카운터를 큰순서로 반환합니다."
   ]
  },
  {
   "cell_type": "code",
   "execution_count": 7,
   "metadata": {},
   "outputs": [
    {
     "data": {
      "text/plain": [
       "[('a', 3), ('l', 2), ('g', 1), ('h', 1), ('d', 1)]"
      ]
     },
     "execution_count": 7,
     "metadata": {},
     "output_type": "execute_result"
    }
   ],
   "source": [
    "c.most_common()"
   ]
  },
  {
   "cell_type": "markdown",
   "metadata": {},
   "source": [
    "## subtract"
   ]
  },
  {
   "cell_type": "markdown",
   "metadata": {},
   "source": [
    "counter객체간의 뺄셈을 적용할수 있습니다. "
   ]
  },
  {
   "cell_type": "code",
   "execution_count": 8,
   "metadata": {},
   "outputs": [
    {
     "data": {
      "text/plain": [
       "Counter({'a': 3, 'b': 0, 'c': -3, 'd': -6})"
      ]
     },
     "execution_count": 8,
     "metadata": {},
     "output_type": "execute_result"
    }
   ],
   "source": [
    ">>> c = Counter(a=4, b=2, c=0, d=-2)\n",
    ">>> d = Counter(a=1, b=2, c=3, d=4)\n",
    ">>> c.subtract(d)\n",
    ">>> c\n",
    "Counter({'a': 3, 'b': 0, 'c': -3, 'd': -6})"
   ]
  }
 ],
 "metadata": {
  "kernelspec": {
   "display_name": "Python 3",
   "language": "python",
   "name": "python3"
  },
  "language_info": {
   "codemirror_mode": {
    "name": "ipython",
    "version": 3
   },
   "file_extension": ".py",
   "mimetype": "text/x-python",
   "name": "python",
   "nbconvert_exporter": "python",
   "pygments_lexer": "ipython3",
   "version": "3.6.8"
  }
 },
 "nbformat": 4,
 "nbformat_minor": 2
}
