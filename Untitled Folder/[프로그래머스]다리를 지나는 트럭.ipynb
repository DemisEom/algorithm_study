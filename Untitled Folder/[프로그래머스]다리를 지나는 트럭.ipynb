{
 "cells": [
  {
   "cell_type": "markdown",
   "metadata": {},
   "source": [
    "# [프로그래머스] 스택/큐 - 다리를 지나는 트럭"
   ]
  },
  {
   "cell_type": "markdown",
   "metadata": {},
   "source": [
    "- 모든 트럭이 지나는데 걸리는 시간을 알고자함.\n",
    "- 1초에 1만큼 움직임.\n",
    "- 다리길이, 무게는 주어진값만큼 견딜수 있음.(트럭이 완전히 오르지 않은경우 무게 고려 하지 않음.)"
   ]
  },
  {
   "cell_type": "markdown",
   "metadata": {},
   "source": [
    "- 주어지는 값  \n",
    "다리 길이, 견딜수 있는 무게, 트럭별 무게  \n",
    "- 출력값  \n",
    "모든 트럭이 다리를 건너는데 걸리는 시간."
   ]
  },
  {
   "cell_type": "markdown",
   "metadata": {},
   "source": [
    "- 다리위에 있는 트럭 리스트, 다리위 트럭들이 있었던 시간 리스트  \n",
    "- 반복문, 다리위 리스트랑 다음 트럭 값 비교하기, 다리위 시간이랑 다리 길이 비교하기"
   ]
  },
  {
   "cell_type": "code",
   "execution_count": null,
   "metadata": {
    "collapsed": true
   },
   "outputs": [],
   "source": []
  },
  {
   "cell_type": "code",
   "execution_count": null,
   "metadata": {
    "collapsed": true
   },
   "outputs": [],
   "source": []
  },
  {
   "cell_type": "code",
   "execution_count": 10,
   "metadata": {
    "collapsed": true
   },
   "outputs": [],
   "source": [
    "test = []"
   ]
  },
  {
   "cell_type": "code",
   "execution_count": 14,
   "metadata": {},
   "outputs": [
    {
     "name": "stdout",
     "output_type": "stream",
     "text": [
      "3\n"
     ]
    }
   ],
   "source": [
    "for i in test:\n",
    "    print(i)"
   ]
  },
  {
   "cell_type": "code",
   "execution_count": null,
   "metadata": {
    "collapsed": true
   },
   "outputs": [],
   "source": []
  },
  {
   "cell_type": "code",
   "execution_count": 13,
   "metadata": {
    "collapsed": true
   },
   "outputs": [],
   "source": [
    "test = [3]"
   ]
  },
  {
   "cell_type": "code",
   "execution_count": 9,
   "metadata": {},
   "outputs": [
    {
     "data": {
      "text/plain": [
       "1"
      ]
     },
     "execution_count": 9,
     "metadata": {},
     "output_type": "execute_result"
    }
   ],
   "source": [
    "len(test)"
   ]
  },
  {
   "cell_type": "markdown",
   "metadata": {},
   "source": [
    "# 내 풀이"
   ]
  },
  {
   "cell_type": "code",
   "execution_count": null,
   "metadata": {
    "collapsed": true
   },
   "outputs": [],
   "source": [
    "def solution(bridge_length, weight, truck_weights):\n",
    "    on_bridge = []\n",
    "    on_time = []\n",
    "    answer = 0\n",
    "    \n",
    "    while true:\n",
    "        \n",
    "        if len(on_time)>=1:\n",
    "            for i in on_time:\n",
    "                if i > bridge_length : \n",
    "                    on_time.pop()\n",
    "                    on_bridge.pop()   \n",
    "        \n",
    "        if sum(on_bridge) + truck_weights[0] > weight:\n",
    "            answer += 1\n",
    "        else: \n",
    "            on_bridge.append(truck_weights.pop())\n",
    "            on_\n",
    "            answer += 1\n",
    "            \n",
    "        if \n",
    "    \n",
    "    return answer"
   ]
  }
 ],
 "metadata": {
  "kernelspec": {
   "display_name": "Python 3",
   "language": "python",
   "name": "python3"
  },
  "language_info": {
   "codemirror_mode": {
    "name": "ipython",
    "version": 3
   },
   "file_extension": ".py",
   "mimetype": "text/x-python",
   "name": "python",
   "nbconvert_exporter": "python",
   "pygments_lexer": "ipython3",
   "version": "3.6.8"
  }
 },
 "nbformat": 4,
 "nbformat_minor": 2
}
