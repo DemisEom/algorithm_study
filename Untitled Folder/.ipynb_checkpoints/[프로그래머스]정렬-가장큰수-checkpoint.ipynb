{
 "cells": [
  {
   "cell_type": "markdown",
   "metadata": {},
   "source": [
    "# [프로그래머스]정렬 - 가장큰수"
   ]
  },
  {
   "cell_type": "markdown",
   "metadata": {},
   "source": [
    "입력 => 리스트, 숫자로 구성됨.  \n",
    "각 숫자들을 이어 붙였을 때 가장 큰수가 되도록해라.  \n",
    "일단 큰 숫자로 만들기 위해서는 가장 큰 앞자리가 와야함.  \n",
    "몇 자리수인지 무시하고 일단 맨 앞 숫자가 큰 순서로 나열해야함.  \n",
    "그다음 같은 앞자리인 경우 그 뒤수를 비교?  "
   ]
  },
  {
   "cell_type": "markdown",
   "metadata": {},
   "source": [
    "- 문자로 타입을 바꾸고 정렬하면 앞자리는 맞춰짐. 하지만 뒷자리수를 어떻게 비교하는지가 문제.\n",
    "- 같은 앞자리를 가진 숫자간의 배열 배치를 어떻게 할것인가?  \n",
    "1.같은 앞자리인 애들을 나열해서 하나씩 비교?\n"
   ]
  },
  {
   "cell_type": "markdown",
   "metadata": {},
   "source": [
    "- 케이스 정리  \n",
    "1. 숫자의 자리수가 같은 경우  \n",
    "더 큰 숫자가 앞으로 와야함\n",
    "2. 숫자의 자리수가 다른 경우  \n",
    "자리숫자가 같은 곳까지 더 큰 숫자가 앞으로 와야함\n",
    "\n"
   ]
  },
  {
   "cell_type": "markdown",
   "metadata": {},
   "source": [
    "- 결국 문제는 자리수가 바뀔때 생김. 다음 자리수를 비교해야하나?"
   ]
  },
  {
   "cell_type": "code",
   "execution_count": 52,
   "metadata": {
    "collapsed": true
   },
   "outputs": [],
   "source": [
    "numbers = [6, 10, 2] # 6 2 10\n",
    "numbers = [3, 30, 34, 5, 9] # 9 5 34 3 30 ///  334 vs 39 // 32 vs 3"
   ]
  },
  {
   "cell_type": "code",
   "execution_count": 53,
   "metadata": {
    "collapsed": true
   },
   "outputs": [],
   "source": [
    "numbers = list(map(str, numbers))"
   ]
  },
  {
   "cell_type": "code",
   "execution_count": 25,
   "metadata": {
    "collapsed": true
   },
   "outputs": [],
   "source": [
    "numbers_str = [str(i)[0] for i in numbers]\n",
    "numbers_str = [str(i) for i in numbers]"
   ]
  },
  {
   "cell_type": "code",
   "execution_count": 31,
   "metadata": {
    "collapsed": true
   },
   "outputs": [],
   "source": [
    "numbers_str.sort(reverse=True)\n",
    "numbers.sort(reverse=True)"
   ]
  },
  {
   "cell_type": "markdown",
   "metadata": {},
   "source": [
    "## 내 풀이 - 오래걸려서 답봄..."
   ]
  },
  {
   "cell_type": "code",
   "execution_count": 49,
   "metadata": {
    "collapsed": true
   },
   "outputs": [],
   "source": [
    "def solution(numbers):\n",
    "    numbers_str = [str(i) for i in numbers]\n",
    "    numbers.sort()\n",
    "    \n",
    "    for i in range(len(numbers_str)-1):\n",
    "        print(numbers_str)\n",
    "        val = numbers_str[i]\n",
    "        next_val = numbers_str[i+1]\n",
    "        \n",
    "        temp1 = val+next_val\n",
    "        temp2 = next_val+val\n",
    "        \n",
    "        if temp1 < temp2:\n",
    "            temp = numbers_str[i]\n",
    "            numbers_str[i] = numbers_str[i+1]\n",
    "            numbers_str[i+1] = temp\n",
    "    \n",
    "    return numbers_str"
   ]
  },
  {
   "cell_type": "code",
   "execution_count": 51,
   "metadata": {},
   "outputs": [
    {
     "data": {
      "text/plain": [
       "'333'"
      ]
     },
     "execution_count": 51,
     "metadata": {},
     "output_type": "execute_result"
    }
   ],
   "source": [
    "'3'*3"
   ]
  },
  {
   "cell_type": "markdown",
   "metadata": {},
   "source": [
    "## 다른 사람 풀이"
   ]
  },
  {
   "cell_type": "markdown",
   "metadata": {},
   "source": [
    "- sort를 할때 key의 사용이 중요했던것 같다. str으로 리스트를 바꾼거까지는 좋았는데 그 정렬을 어떻게 할지를 자리수의 반복으로 해결한 답들이 많다."
   ]
  },
  {
   "cell_type": "code",
   "execution_count": null,
   "metadata": {
    "collapsed": true
   },
   "outputs": [],
   "source": [
    "def solution(numbers):\n",
    "    numbers = list(map(str, numbers))\n",
    "    numbers.sort(key=lambda x: x*3, reverse=True)\n",
    "    return str(int(''.join(numbers)))\n",
    "\n"
   ]
  },
  {
   "cell_type": "code",
   "execution_count": 50,
   "metadata": {
    "collapsed": true
   },
   "outputs": [],
   "source": [
    "def solution(numbers):\n",
    "    nums = [str(n) for n in numbers]\n",
    "    longest = max([len(n) for n in nums], default=0)\n",
    "    nums.sort(key=lambda x: x*(longest//len(x)+1), reverse=True)\n",
    "    return str(int(''.join(nums)))\n"
   ]
  },
  {
   "cell_type": "code",
   "execution_count": null,
   "metadata": {
    "collapsed": true
   },
   "outputs": [],
   "source": []
  }
 ],
 "metadata": {
  "kernelspec": {
   "display_name": "Python 3",
   "language": "python",
   "name": "python3"
  },
  "language_info": {
   "codemirror_mode": {
    "name": "ipython",
    "version": 3
   },
   "file_extension": ".py",
   "mimetype": "text/x-python",
   "name": "python",
   "nbconvert_exporter": "python",
   "pygments_lexer": "ipython3",
   "version": "3.6.8"
  }
 },
 "nbformat": 4,
 "nbformat_minor": 2
}
