{
 "cells": [
  {
   "cell_type": "markdown",
   "metadata": {},
   "source": [
    "# [프로그래머스] 네트워크 - 깊이,너비우선 탐색"
   ]
  },
  {
   "cell_type": "markdown",
   "metadata": {},
   "source": [
    "## 뭘 구해야하지?"
   ]
  },
  {
   "cell_type": "markdown",
   "metadata": {},
   "source": [
    "- 네트워크의 연결 관련 문제.\n",
    "- 몇개의 컴퓨터가 연결 되어 있는지 찾는 문제.\n",
    "- 다르게 표현하면 연결되어 있는 간선이 몇개인지 확인."
   ]
  },
  {
   "cell_type": "markdown",
   "metadata": {},
   "source": [
    "## 뭐가 주어지지?"
   ]
  },
  {
   "cell_type": "markdown",
   "metadata": {},
   "source": [
    "- 컴퓨터의 개수 n\n",
    "    - 이게 다음 들어오는 2차원 배열의 개수를 결정\n",
    "- 2차원 배열이 인덱스가 컴퓨터 번호, [1,1,0]이면 1번과 2번 컴퓨터가 연결됨."
   ]
  },
  {
   "cell_type": "markdown",
   "metadata": {},
   "source": [
    "## 어떻게 구할래?"
   ]
  },
  {
   "cell_type": "markdown",
   "metadata": {
    "collapsed": true
   },
   "source": [
    "- 입력의 형태가 인접행렬인 그래프 문제.\n",
    "- 그래프에서 연결되어 있는 노드들을 찾는 문제임. dfs를 사용해서 들어갈수, 탐색되는 노드들을 발견하고 그 길이를 리턴하자."
   ]
  },
  {
   "cell_type": "markdown",
   "metadata": {
    "collapsed": true
   },
   "source": [
    "## 내 풀이"
   ]
  },
  {
   "cell_type": "code",
   "execution_count": null,
   "metadata": {},
   "outputs": [],
   "source": [
    "def dfs(graph, start_node):\n",
    "    visited = []\n",
    "    stack = [start_node]\n",
    "    \n",
    "    while stack:\n",
    "        node = stack.pop()\n",
    "        for i in range(len(graph[node])):\n",
    "            if graph[node][i] == 1 and i != node:\n",
    "                if i not in visited:\n",
    "                    stack += [i]\n",
    "                    visited += [i]\n",
    "    return visited\n",
    "\n",
    "def solution(n, computers):\n",
    "    node_list = list(range(n))\n",
    "    answer = 0\n",
    "    \n",
    "    while node_list:\n",
    "        \n",
    "        if len(node_list) == 1:\n",
    "            answer += 1\n",
    "            break\n",
    "            \n",
    "        visited=dfs(computers,node_list[0])\n",
    "        \n",
    "        node_list = list(set(node_list) - set(visited))\n",
    "        \n",
    "        answer +=1\n",
    "        \n",
    "    return answer"
   ]
  },
  {
   "cell_type": "code",
   "execution_count": null,
   "metadata": {
    "collapsed": true
   },
   "outputs": [],
   "source": [
    "computers = [[1, 1, 0], [1, 1, 0], [0, 0, 1]]"
   ]
  },
  {
   "cell_type": "code",
   "execution_count": null,
   "metadata": {
    "collapsed": true
   },
   "outputs": [],
   "source": [
    "computers = [[1, 1, 0], [1, 1, 1], [0, 1, 1]]"
   ]
  },
  {
   "cell_type": "code",
   "execution_count": null,
   "metadata": {
    "scrolled": false
   },
   "outputs": [
    {
     "data": {
      "text/plain": [
       "1"
      ]
     },
     "execution_count": 4,
     "metadata": {},
     "output_type": "execute_result"
    }
   ],
   "source": [
    "solution(3, computers)"
   ]
  },
  {
   "cell_type": "markdown",
   "metadata": {},
   "source": [
    "## 다른 사람 풀이"
   ]
  },
  {
   "cell_type": "code",
   "execution_count": null,
   "metadata": {
    "collapsed": true
   },
   "outputs": [],
   "source": [
    "def solution(n, computers):\n",
    "    answer = 0\n",
    "    visited = [0 for i in range(n)]\n",
    "    def dfs(computers, visited, start):\n",
    "        stack = [start]\n",
    "        while stack:\n",
    "            j = stack.pop()\n",
    "            if visited[j] == 0:\n",
    "                visited[j] = 1\n",
    "            for i in range(0, len(computers)):\n",
    "                if computers[j][i] ==1 and visited[i] == 0:\n",
    "                    stack.append(i)\n",
    "    i=0\n",
    "    while 0 in visited:\n",
    "        if visited[i] ==0:\n",
    "            dfs(computers, visited, i)\n",
    "            answer +=1\n",
    "        i+=1\n",
    "    return answer\n"
   ]
  },
  {
   "cell_type": "code",
   "execution_count": null,
   "metadata": {
    "collapsed": true
   },
   "outputs": [],
   "source": []
  }
 ],
 "metadata": {
  "kernelspec": {
   "display_name": "Python 3",
   "language": "python",
   "name": "python3"
  },
  "language_info": {
   "codemirror_mode": {
    "name": "ipython",
    "version": 3
   },
   "file_extension": ".py",
   "mimetype": "text/x-python",
   "name": "python",
   "nbconvert_exporter": "python",
   "pygments_lexer": "ipython3",
   "version": "3.6.8"
  }
 },
 "nbformat": 4,
 "nbformat_minor": 2
}
