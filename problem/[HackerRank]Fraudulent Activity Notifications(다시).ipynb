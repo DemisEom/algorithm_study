{
 "cells": [
  {
   "cell_type": "markdown",
   "metadata": {},
   "source": [
    "# [HackerRank]Fraudulent Activity Notifications"
   ]
  },
  {
   "cell_type": "markdown",
   "metadata": {},
   "source": [
    "## 풀어야 하는 것"
   ]
  },
  {
   "cell_type": "markdown",
   "metadata": {},
   "source": [
    "- 은행에서 부정 사용에 대한 알림을 주고 싶음.\n",
    "- 특정 기간의 중간값의 두배 이상일 경우 알림을 줌.\n",
    "- 특정기간보다 짧은 기간에 대해서는 알림은 없음.\n",
    "- 총 몇번의 알림을 받는지에 대해 출력."
   ]
  },
  {
   "cell_type": "markdown",
   "metadata": {},
   "source": [
    "## 주어지는 것"
   ]
  },
  {
   "cell_type": "markdown",
   "metadata": {},
   "source": [
    "- 알림에 대한 중간값을 계산할 기간\n",
    "- 일자별 지출 금액 정수값을 갖는 리스트."
   ]
  },
  {
   "cell_type": "markdown",
   "metadata": {},
   "source": [
    "## 어떻게 풀까"
   ]
  },
  {
   "cell_type": "markdown",
   "metadata": {},
   "source": [
    "- 1차적으로 간단하게 그리디 방법을 사용해보자.\n",
    "    - 날짜기간에 해당하는 부분들을 가져와서 정렬하고 중간값을 가져오자.\n",
    "        - 날짜기간이 짝수인경우와 홀수인경우를 나눠서 생각해야함.\n",
    "    - 순회하면서 중간값 X2 를 넘는 경우를 카운트 하자.\n",
    "    - 리스트의 길이가 최대 2x10^5임. 그리디하게 갈경우 너무 길어질수 있음.\n",
    "- 구현은 간단하게 했으나 역시 타임아웃....\n",
    "    - 디스커션을 참고했는데 많은 분들이 bisect를 사용함."
   ]
  },
  {
   "cell_type": "markdown",
   "metadata": {},
   "source": [
    "## 내 풀이"
   ]
  },
  {
   "cell_type": "code",
   "execution_count": 78,
   "metadata": {
    "collapsed": true
   },
   "outputs": [],
   "source": [
    "def median(num_list):\n",
    "    num_list = sorted(num_list)\n",
    "    if len(num_list)%2 == 0:\n",
    "        return num_list[int(len(num_list)/2)]+num_list[int(len(num_list)/2)+1]\n",
    "    return num_list[int(len(num_list)/2)]*2"
   ]
  },
  {
   "cell_type": "code",
   "execution_count": 79,
   "metadata": {},
   "outputs": [],
   "source": [
    "def activityNotifications(expenditure, d):\n",
    "    cnt = 0\n",
    "    \n",
    "    for i in range(d,len(expenditure)):\n",
    "        temp_median = median(expenditure[i-d:i])\n",
    "        \n",
    "        if expenditure[i] >= temp_median*2:\n",
    "            cnt += 1\n",
    "            \n",
    "    return cnt"
   ]
  },
  {
   "cell_type": "code",
   "execution_count": 60,
   "metadata": {
    "collapsed": true
   },
   "outputs": [],
   "source": [
    "def activityNotifications(expenditure, d):\n",
    "    cnt = 0\n",
    "    median_list = [median(expenditure[i-d:i]) for i in range(d,len(expenditure))]\n",
    "    j = 0\n",
    "    \n",
    "    for i in range(d,len(expenditure)):\n",
    "        if expenditure[i] >= median_list[j]:\n",
    "            cnt += 1\n",
    "        j += 1\n",
    "    return cnt\n",
    "            "
   ]
  },
  {
   "cell_type": "code",
   "execution_count": 66,
   "metadata": {
    "collapsed": true
   },
   "outputs": [],
   "source": [
    "expenditure = [2, 3, 4, 2, 3, 6, 8, 4, 5]\n",
    "d = 5"
   ]
  },
  {
   "cell_type": "code",
   "execution_count": 77,
   "metadata": {
    "scrolled": false
   },
   "outputs": [
    {
     "name": "stdout",
     "output_type": "stream",
     "text": [
      "2 6 [2, 2, 3, 3, 4]\n",
      "0\n",
      "3 8 [2, 3, 3, 4, 6]\n",
      "1\n",
      "4 4 [2, 3, 4, 6, 8]\n",
      "2\n",
      "2 5 [2, 3, 4, 6, 8]\n",
      "0\n"
     ]
    },
    {
     "data": {
      "text/plain": [
       "2"
      ]
     },
     "execution_count": 77,
     "metadata": {},
     "output_type": "execute_result"
    }
   ],
   "source": [
    "activityNotifications(expenditure, d)"
   ]
  },
  {
   "cell_type": "markdown",
   "metadata": {},
   "source": [
    "## 다른 사람 풀이"
   ]
  },
  {
   "cell_type": "markdown",
   "metadata": {},
   "source": [
    "- 이진 탐색 트리인 bisect를 사용.  \n",
    "- 전체 적인 방향성은 비슷하나 초반에 중앙값 리스트를 가지고 거기에 더하고 뺴면서 간다. 그떄 이진 탐색을 사용"
   ]
  },
  {
   "cell_type": "code",
   "execution_count": 76,
   "metadata": {
    "collapsed": true
   },
   "outputs": [],
   "source": [
    "from bisect import insort, bisect_left\n",
    "def activityNotifications(expenditure, d):\n",
    "    v = sorted(expenditure[: d])\n",
    "    count = 0\n",
    "    for i, current in enumerate(expenditure[d:]):\n",
    "        de = expenditure[i]\n",
    "        print(de, current, v)\n",
    "        if d%2 == 0:\n",
    "            if current >= v[d//2] + v[d//2-1]:\n",
    "                count += 1\n",
    "        elif current >= v[d//2]*2:\n",
    "                count += 1\n",
    "        ix = bisect_left(v, de)\n",
    "        print(ix)\n",
    "        del v[ix]\n",
    "        insort(v, current)\n",
    "    return count"
   ]
  }
 ],
 "metadata": {
  "kernelspec": {
   "display_name": "Python 3",
   "language": "python",
   "name": "python3"
  },
  "language_info": {
   "codemirror_mode": {
    "name": "ipython",
    "version": 3
   },
   "file_extension": ".py",
   "mimetype": "text/x-python",
   "name": "python",
   "nbconvert_exporter": "python",
   "pygments_lexer": "ipython3",
   "version": "3.6.8"
  }
 },
 "nbformat": 4,
 "nbformat_minor": 2
}
