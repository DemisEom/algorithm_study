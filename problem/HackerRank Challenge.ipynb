{
 "cells": [
  {
   "cell_type": "markdown",
   "metadata": {},
   "source": [
    "# 1번 문제"
   ]
  },
  {
   "cell_type": "markdown",
   "metadata": {},
   "source": [
    "## 구해야 하는것"
   ]
  },
  {
   "cell_type": "markdown",
   "metadata": {},
   "source": [
    "- 발전기를 꺼야함.\n",
    "- 특정 모델의 모든 발전기는 유사, 단일 장치로 제어 가능.\n",
    "- 발전기의 절반 이상을 비활성 하는데 필요한 최소 모델수를 찾으시오.\n",
    "- n개의 발전기가 있는 경우 n/2 생성기의 ceiling을 비활성화 해야함.\n"
   ]
  },
  {
   "cell_type": "markdown",
   "metadata": {},
   "source": [
    "## 주어지는 것"
   ]
  },
  {
   "cell_type": "markdown",
   "metadata": {},
   "source": [
    "- 전체 발전기의 개수\n",
    "    - 최대 10^5\n",
    "- 발전기가 들어있는 리스트.\n",
    "    - 최대값 10^5"
   ]
  },
  {
   "cell_type": "markdown",
   "metadata": {},
   "source": [
    "## 어떻게 풀까?"
   ]
  },
  {
   "cell_type": "markdown",
   "metadata": {},
   "source": [
    "- 딕셔너리를 사용해서 최대값을 가지고 있는 모델을 찾고, 그 모델을 먼저 끄자."
   ]
  },
  {
   "cell_type": "markdown",
   "metadata": {},
   "source": [
    "## 내풀이"
   ]
  },
  {
   "cell_type": "code",
   "execution_count": 1,
   "metadata": {
    "collapsed": true
   },
   "outputs": [],
   "source": [
    "import collections\n",
    "\n",
    "def reduceCapacity(model):\n",
    "    # calculate have to deactivate model number\n",
    "    total_num = len(model)\n",
    "    target_num = math.ceil(total_num/2)\n",
    "\n",
    "    # Count each model number\n",
    "    count_model = collections.Counter(model)\n",
    "    count_list = count_model.most_common()\n",
    "\n",
    "    deactivated = 0\n",
    "    deactivated_num = 0\n",
    "\n",
    "    # first deactivated most number model\n",
    "    while True:\n",
    "        deactivated += 1\n",
    "        temp_generator = count_list.pop(0)\n",
    "        deactivated_num += temp_generator[1]\n",
    "\n",
    "        if deactivated_num >= target_num:\n",
    "            break;\n",
    "\n",
    "    return deactivated"
   ]
  },
  {
   "cell_type": "code",
   "execution_count": 2,
   "metadata": {
    "collapsed": true
   },
   "outputs": [],
   "source": [
    "test = [7, 10, 1, 2, 7, 7, 1]"
   ]
  },
  {
   "cell_type": "code",
   "execution_count": 3,
   "metadata": {
    "collapsed": true
   },
   "outputs": [],
   "source": [
    "import collections\n",
    "\n",
    "count_model = collections.Counter(test)"
   ]
  },
  {
   "cell_type": "code",
   "execution_count": 4,
   "metadata": {},
   "outputs": [
    {
     "data": {
      "text/plain": [
       "Counter({1: 2, 2: 1, 7: 3, 10: 1})"
      ]
     },
     "execution_count": 4,
     "metadata": {},
     "output_type": "execute_result"
    }
   ],
   "source": [
    "count_model"
   ]
  },
  {
   "cell_type": "code",
   "execution_count": 5,
   "metadata": {
    "collapsed": true
   },
   "outputs": [],
   "source": [
    "test_list = count_model.most_common(len(test))"
   ]
  },
  {
   "cell_type": "code",
   "execution_count": 6,
   "metadata": {},
   "outputs": [
    {
     "data": {
      "text/plain": [
       "[(7, 3), (1, 2), (10, 1), (2, 1)]"
      ]
     },
     "execution_count": 6,
     "metadata": {},
     "output_type": "execute_result"
    }
   ],
   "source": [
    "test_list"
   ]
  },
  {
   "cell_type": "code",
   "execution_count": 7,
   "metadata": {
    "collapsed": true
   },
   "outputs": [],
   "source": [
    "tt =test_list.pop()"
   ]
  },
  {
   "cell_type": "code",
   "execution_count": 8,
   "metadata": {},
   "outputs": [
    {
     "data": {
      "text/plain": [
       "1"
      ]
     },
     "execution_count": 8,
     "metadata": {},
     "output_type": "execute_result"
    }
   ],
   "source": [
    "tt[1]"
   ]
  },
  {
   "cell_type": "markdown",
   "metadata": {},
   "source": [
    "# 2번 문제"
   ]
  },
  {
   "cell_type": "markdown",
   "metadata": {},
   "source": [
    "## 구해야 하는 것"
   ]
  },
  {
   "cell_type": "markdown",
   "metadata": {},
   "source": [
    "- almost quivalent한 문자열을 찾는 문제.\n",
    "    - 조건은 두가지\n",
    "    - 길이가 같다.\n",
    "    - 각각의 소문자 x의 출현 빈도의 차이가 최대 3인 경우.\n",
    "- 두개의 문자열이 주어짐. 문자열은 모두 소문자로 구성됨."
   ]
  },
  {
   "cell_type": "markdown",
   "metadata": {},
   "source": [
    "## 주어지는 것"
   ]
  },
  {
   "cell_type": "markdown",
   "metadata": {},
   "source": [
    "- 두개의 문자열\n",
    "    - 문자열의 최대 길이는 10^5\n",
    "    - 문자열은 한줄로만 들어오는게 아니라 n개의 라인으로 들어옴.\n",
    "- 두번 들어오면 두번의 결과를 return 해야함."
   ]
  },
  {
   "cell_type": "markdown",
   "metadata": {},
   "source": [
    "## 어떻게 구할까?\n"
   ]
  },
  {
   "cell_type": "markdown",
   "metadata": {},
   "source": [
    "- 각 문자들의 개수를 세자.\n",
    "- 그리고 두 케이스의 counter를 빼기.\n",
    "- 각각의 빼기의 값중 가장 큰값이 3미만이면 yes, 아니면 no\n",
    "- 여러줄 들어올수 있으니깐 for"
   ]
  },
  {
   "cell_type": "markdown",
   "metadata": {},
   "source": [
    "## 내 풀이"
   ]
  },
  {
   "cell_type": "code",
   "execution_count": 29,
   "metadata": {
    "collapsed": true
   },
   "outputs": [],
   "source": [
    "import collections\n",
    "def areAlmostEquivalent(s, t):\n",
    "    answer = []\n",
    "\n",
    "    for ind in range(len(s)):\n",
    "        \n",
    "        temp_s, temp_t = s[ind], t[ind]\n",
    "        \n",
    "        if temp_s == temp_t:\n",
    "            answer += [\"YES\"]\n",
    "            break\n",
    "    \n",
    "        temp_s_count = collections.Counter(list(temp_s))\n",
    "        temp_t_count = collections.Counter(list(temp_t))\n",
    "        # print(temp_s_count, temp_t_count)\n",
    "        \n",
    "        sub_s = (temp_s_count - temp_t_count).most_common()\n",
    "        sub_b = (temp_t_count - temp_s_count).most_common()\n",
    "        \n",
    "        iter_length = len(sub_s+sub_s)\n",
    "\n",
    "        for ind, val in enumerate(sub_s+sub_b):\n",
    "            temp_val = val[1]\n",
    "            print(val, temp_val)\n",
    "\n",
    "            if temp_val >3:\n",
    "                answer += [\"NO\"]\n",
    "                break\n",
    "\n",
    "            if ind == iter_length-1:\n",
    "                answer += [\"YES\"]\n",
    "\n",
    "    return answer"
   ]
  },
  {
   "cell_type": "code",
   "execution_count": 9,
   "metadata": {},
   "outputs": [
    {
     "ename": "SyntaxError",
     "evalue": "unexpected EOF while parsing (<ipython-input-9-ddb2deb72f7c>, line 52)",
     "output_type": "error",
     "traceback": [
      "\u001b[0;36m  File \u001b[0;32m\"<ipython-input-9-ddb2deb72f7c>\"\u001b[0;36m, line \u001b[0;32m52\u001b[0m\n\u001b[0;31m    if __name__ == '__main__':\u001b[0m\n\u001b[0m                              ^\u001b[0m\n\u001b[0;31mSyntaxError\u001b[0m\u001b[0;31m:\u001b[0m unexpected EOF while parsing\n"
     ]
    }
   ],
   "source": [
    "#!/bin/python3\n",
    "\n",
    "import math\n",
    "import os\n",
    "import random\n",
    "import re\n",
    "import sys\n",
    "\n",
    "\n",
    "\n",
    "#\n",
    "# Complete the 'areAlmostEquivalent' function below.\n",
    "#\n",
    "# The function is expected to return a STRING_ARRAY.\n",
    "# The function accepts following parameters:\n",
    "#  1. STRING_ARRAY s\n",
    "#  2. STRING_ARRAY t\n",
    "#\n",
    "import collections\n",
    "def areAlmostEquivalent(s, t):\n",
    "    answer = []\n",
    "\n",
    "    for ind in range(len(s)):\n",
    "        \n",
    "        temp_s, temp_t = s[ind], t[ind]\n",
    "        \n",
    "        if temp_s == temp_t:\n",
    "            answer += [\"YES\"]\n",
    "            break\n",
    "    \n",
    "        temp_s_count = collections.Counter(list(temp_s))\n",
    "        temp_t_count = collections.Counter(list(temp_t))\n",
    "        # print(temp_s_count, temp_t_count)\n",
    "        \n",
    "        sub_s = (temp_s_count - temp_t_count).most_common()\n",
    "        sub_b = (temp_t_count - temp_s_count).most_common()\n",
    "        \n",
    "        iter_length = len(sub_s+sub_s)\n",
    "\n",
    "        for ind, val in enumerate(sub_s+sub_b):\n",
    "            temp_val = val[1]\n",
    "            print(val, temp_val)\n",
    "\n",
    "            if temp_val >3:\n",
    "                answer += [\"NO\"]\n",
    "                break\n",
    "\n",
    "            if ind == iter_length-1:\n",
    "                answer += [\"YES\"]\n",
    "\n",
    "    return answer\n",
    "\n",
    "if __name__ == '__main__':"
   ]
  },
  {
   "cell_type": "code",
   "execution_count": null,
   "metadata": {
    "collapsed": true
   },
   "outputs": [],
   "source": [
    "s=['aaa', 'aba'] \n",
    "t=['aab', 'aaa']"
   ]
  },
  {
   "cell_type": "code",
   "execution_count": 12,
   "metadata": {
    "collapsed": true
   },
   "outputs": [],
   "source": [
    "s=['aaa']\n",
    "t=['aab']"
   ]
  },
  {
   "cell_type": "code",
   "execution_count": 30,
   "metadata": {
    "collapsed": true
   },
   "outputs": [],
   "source": [
    "s = ['aaa']\n",
    "t = ['aaa']"
   ]
  },
  {
   "cell_type": "code",
   "execution_count": 30,
   "metadata": {},
   "outputs": [
    {
     "data": {
      "text/plain": [
       "True"
      ]
     },
     "execution_count": 30,
     "metadata": {},
     "output_type": "execute_result"
    }
   ],
   "source": [
    "s == t"
   ]
  },
  {
   "cell_type": "code",
   "execution_count": 14,
   "metadata": {
    "collapsed": true
   },
   "outputs": [],
   "source": [
    "ind = 0"
   ]
  },
  {
   "cell_type": "code",
   "execution_count": 31,
   "metadata": {
    "scrolled": false
   },
   "outputs": [
    {
     "data": {
      "text/plain": [
       "['YES']"
      ]
     },
     "execution_count": 31,
     "metadata": {},
     "output_type": "execute_result"
    }
   ],
   "source": [
    "areAlmostEquivalent(s,t)"
   ]
  },
  {
   "cell_type": "markdown",
   "metadata": {},
   "source": [
    "# 3번 문제"
   ]
  },
  {
   "cell_type": "markdown",
   "metadata": {},
   "source": [
    "## 구해야 하는 것"
   ]
  },
  {
   "cell_type": "markdown",
   "metadata": {},
   "source": [
    "- 학생이 뭔가의 연산?을 하려고 함.\n",
    "- 빅 워드를 컴프레스 하는 작업(?)\n",
    "- 작업은 다음으로 구성됨.\n",
    "    - K의 연속된 동일한 문자들을 선택함. \n",
    "    - 그것들을 삭제함.\n",
    "    - 이 작업을 가능한 계속? 반복함.\n",
    "    - 이 작업을 마무리 했을 때 나오는 문자는 무엇인가?"
   ]
  },
  {
   "cell_type": "markdown",
   "metadata": {},
   "source": [
    "## 주어지는 것"
   ]
  },
  {
   "cell_type": "markdown",
   "metadata": {},
   "source": [
    "- 체크? 삭제?할 연속되는 문자열의 개수\n",
    "- 문자열의 리스트\n",
    "    - 최대 길이는 10^5\n",
    "- 알파벳 개수는 대소문자 52개, 소문자는 26개"
   ]
  },
  {
   "cell_type": "markdown",
   "metadata": {},
   "source": [
    "## 어떻게 구할까"
   ]
  },
  {
   "cell_type": "markdown",
   "metadata": {},
   "source": [
    "- 반복문의 사용은 피할수 없을듯...\n",
    "- 연속적인 문자임.\n",
    "- 반복적으로 문자열을 카운트하고, 카운트 갯수중에서 3을 넘는게 있으면 제외.\n",
    "- 3넘는게 안나올때까지 반복"
   ]
  },
  {
   "cell_type": "markdown",
   "metadata": {},
   "source": [
    "## 내 풀이"
   ]
  },
  {
   "cell_type": "markdown",
   "metadata": {},
   "source": [
    "### 처음 풀이"
   ]
  },
  {
   "cell_type": "code",
   "execution_count": null,
   "metadata": {
    "collapsed": true
   },
   "outputs": [],
   "source": [
    "def compressWord(word, K):\n",
    "    \n",
    "    flag = True\n",
    "    \n",
    "    while flag:\n",
    "#         print(word)\n",
    "        flag = False\n",
    "    \n",
    "        count_list = []\n",
    "        cnt = 1\n",
    "        char = \"\"\n",
    "\n",
    "        for i in word:\n",
    "            if cnt == K:\n",
    "                cnt = 1\n",
    "                char = \"\"\n",
    "                flag = True\n",
    "            if char == i:\n",
    "                cnt +=1\n",
    "                \n",
    "            else:\n",
    "                count_list += [(char,cnt)]                \n",
    "                char = i\n",
    "                cnt = 1\n",
    "                \n",
    "        if cnt < K:\n",
    "            count_list += [(char,cnt)]\n",
    "            \n",
    "        print(count_list)\n",
    "        \n",
    "        word =\"\"\n",
    "        for i in count_list:\n",
    "            word += i[0]*i[1]\n",
    "        print(word)\n",
    "        \n",
    "    return word\n",
    "    "
   ]
  },
  {
   "cell_type": "markdown",
   "metadata": {},
   "source": [
    "### 풀이 개선"
   ]
  },
  {
   "cell_type": "code",
   "execution_count": 54,
   "metadata": {
    "collapsed": true
   },
   "outputs": [],
   "source": [
    "import itertools\n",
    "def compressWord(word, K):\n",
    "    \n",
    "    flag = True\n",
    "    \n",
    "    while flag:\n",
    "\n",
    "        flag = False\n",
    "        count_list = []\n",
    "#         test = []\n",
    "        # Count each charater's consecutive number\n",
    "        for (key, group) in itertools.groupby(word):\n",
    "            count_list += [[key, len(list(group))]]\n",
    "#             test += [[key, list(group)]]\n",
    "        print(count_list)\n",
    "\n",
    "        word =\"\"\n",
    "        # iteration and deleting over 'K' consecutive character\n",
    "        for i in range(len(count_list)):\n",
    "            temp_char = count_list[i]\n",
    "            print(temp_char)\n",
    "\n",
    "            if temp_char[1]>=K:\n",
    "                temp_char[1] = temp_char[1]-K\n",
    "                count_list[i] = [temp_char[0], temp_char[1]]\n",
    "                flag = True\n",
    "            \n",
    "            word += temp_char[0]*temp_char[1]\n",
    "        print(word)\n",
    "        \n",
    "    return word"
   ]
  },
  {
   "cell_type": "code",
   "execution_count": 38,
   "metadata": {
    "collapsed": true
   },
   "outputs": [],
   "source": [
    "word = \"abbcccb\"\n",
    "K = 3"
   ]
  },
  {
   "cell_type": "code",
   "execution_count": 40,
   "metadata": {
    "collapsed": true
   },
   "outputs": [],
   "source": [
    "word = \"aaaaa\"\n",
    "K=2"
   ]
  },
  {
   "cell_type": "code",
   "execution_count": null,
   "metadata": {
    "collapsed": true
   },
   "outputs": [],
   "source": [
    "word = \"aba\"\n",
    "K = 2"
   ]
  },
  {
   "cell_type": "code",
   "execution_count": 46,
   "metadata": {
    "collapsed": true
   },
   "outputs": [],
   "source": [
    "word = \"baac\"\n",
    "K = 2"
   ]
  },
  {
   "cell_type": "code",
   "execution_count": 55,
   "metadata": {
    "scrolled": true
   },
   "outputs": [
    {
     "name": "stdout",
     "output_type": "stream",
     "text": [
      "[['b', 1], ['a', 2], ['c', 1]]\n",
      "['b', 1]\n",
      "['a', 2]\n",
      "['c', 1]\n",
      "bc\n",
      "[['b', 1], ['c', 1]]\n",
      "['b', 1]\n",
      "['c', 1]\n",
      "bc\n"
     ]
    },
    {
     "data": {
      "text/plain": [
       "'bc'"
      ]
     },
     "execution_count": 55,
     "metadata": {},
     "output_type": "execute_result"
    }
   ],
   "source": [
    "compressWord(word,K)"
   ]
  },
  {
   "cell_type": "code",
   "execution_count": null,
   "metadata": {
    "collapsed": true
   },
   "outputs": [],
   "source": []
  }
 ],
 "metadata": {
  "kernelspec": {
   "display_name": "Python 3",
   "language": "python",
   "name": "python3"
  },
  "language_info": {
   "codemirror_mode": {
    "name": "ipython",
    "version": 3
   },
   "file_extension": ".py",
   "mimetype": "text/x-python",
   "name": "python",
   "nbconvert_exporter": "python",
   "pygments_lexer": "ipython3",
   "version": "3.6.8"
  }
 },
 "nbformat": 4,
 "nbformat_minor": 2
}
