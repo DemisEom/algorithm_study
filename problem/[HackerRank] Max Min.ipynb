{
 "cells": [
  {
   "cell_type": "markdown",
   "metadata": {},
   "source": [
    "# [HackerRank] Max Min"
   ]
  },
  {
   "cell_type": "markdown",
   "metadata": {},
   "source": [
    "## 구해야 하는 것"
   ]
  },
  {
   "cell_type": "markdown",
   "metadata": {},
   "source": [
    "- 정수의 배열arr과 하나의 정수k를 입력으로 받음.\n",
    "- k길이 만큼의 arr의 subarr을 만드는데 unfairness를 최소화 해야함.\n",
    "- unfairness는?\n",
    "    - max(subarr)-min(subarr)\n",
    "    "
   ]
  },
  {
   "cell_type": "markdown",
   "metadata": {},
   "source": [
    "## 주어지는 것"
   ]
  },
  {
   "cell_type": "markdown",
   "metadata": {},
   "source": [
    "- 길이 정수 k와 정수를 포함한 리스트 arr\n",
    "    - arr의 최대 길이는 10^5\n",
    " "
   ]
  },
  {
   "cell_type": "markdown",
   "metadata": {},
   "source": [
    "## 어떻게 구할까?"
   ]
  },
  {
   "cell_type": "markdown",
   "metadata": {},
   "source": [
    "- 가장먼저?\n",
    "    - 그리디하게 하는것.\n",
    "    - queue를 하나 두고서 계속해서 max, min을 따져가면서 최종 값을 구하기.\n",
    "- 문제에서는 계산된 값을 구하면 된다고 함. 하나씩 따질 필요가 있을까? \n",
    "- 다르게 생각해보면 가운데 값은 중요하지 않음.\n",
    "- 차이가 최소인 두값을 찾으면 됨.\n"
   ]
  },
  {
   "cell_type": "markdown",
   "metadata": {},
   "source": [
    "## 내 풀이"
   ]
  },
  {
   "cell_type": "code",
   "execution_count": 1,
   "metadata": {},
   "outputs": [],
   "source": [
    "def maxMin(k, arr):\n",
    "\n",
    "    sorted_arr = sorted(arr)\n",
    "    unfairness = sorted_arr[-1]\n",
    "    left_ind=0\n",
    "    print(sorted_arr)\n",
    "    \n",
    "    for i in range(k,len(sorted_arr)):\n",
    "        \n",
    "        print(sorted_arr[left_ind:i])\n",
    "#         temp_seq = sorted_arr[left_ind:i]\n",
    "        temp_unfairness = sorted_arr[left_ind:i][-1]-sorted_arr[left_ind:i][0]\n",
    "        left_ind +=1\n",
    "        unfairness = min(temp_unfairness, unfairness)\n",
    "        \n",
    "    return unfairness"
   ]
  },
  {
   "cell_type": "code",
   "execution_count": 2,
   "metadata": {
    "collapsed": true
   },
   "outputs": [],
   "source": [
    "def maxMin(k, arr):\n",
    "        ans = 10**9\n",
    "        arr_s = sorted(arr)\n",
    "        for i in range(len(arr) - k + 1):\n",
    "                sub_arr_min = arr_s[i]\n",
    "                sub_arr_max = arr_s[i+k-1]\n",
    "                ans = min(sub_arr_max - sub_arr_min, ans)\n",
    "        return ans"
   ]
  },
  {
   "cell_type": "code",
   "execution_count": 3,
   "metadata": {
    "collapsed": true
   },
   "outputs": [],
   "source": [
    "k = 3\n",
    "arr = [10, 100, 300, 200, 1000, 20, 30]"
   ]
  },
  {
   "cell_type": "code",
   "execution_count": 4,
   "metadata": {
    "collapsed": true
   },
   "outputs": [],
   "source": [
    "k=2\n",
    "arr = [1,\n",
    "2,\n",
    "1,\n",
    "2,\n",
    "1]"
   ]
  },
  {
   "cell_type": "code",
   "execution_count": 5,
   "metadata": {
    "collapsed": true
   },
   "outputs": [],
   "source": [
    "k = 25\n",
    "arr = [7652,\n",
    "1377,\n",
    "7089,\n",
    "2736,\n",
    "4748,\n",
    "1615,\n",
    "4235,\n",
    "3461,\n",
    "3895,\n",
    "8328,\n",
    "175,\n",
    "8131,\n",
    "4877,\n",
    "5606,\n",
    "4730,\n",
    "3563,\n",
    "2210,\n",
    "966,\n",
    "7842,\n",
    "9551,\n",
    "152,\n",
    "9079,\n",
    "5366,\n",
    "2158,\n",
    "1236,\n",
    "8046,\n",
    "2660,\n",
    "5528,\n",
    "544,\n",
    "6965,\n",
    "2428,\n",
    "8197,\n",
    "4694,\n",
    "5869,\n",
    "7285,\n",
    "5794,\n",
    "3837,\n",
    "1521,\n",
    "9255,\n",
    "4084,\n",
    "9849,\n",
    "5782,\n",
    "2215,\n",
    "4726,\n",
    "1388,\n",
    "3297,\n",
    "4641,\n",
    "9950,\n",
    "615,\n",
    "8836,\n",
    "5853,\n",
    "768,\n",
    "4267,\n",
    "1219,\n",
    "9278,\n",
    "5503,\n",
    "9265,\n",
    "8290,\n",
    "7383,\n",
    "6162,\n",
    "5255,\n",
    "6163,\n",
    "711,\n",
    "6301,\n",
    "2033,\n",
    "7996,\n",
    "2095,\n",
    "2222,\n",
    "9517,\n",
    "7702,\n",
    "6306,\n",
    "5718,\n",
    "3484,\n",
    "4873,\n",
    "6797,\n",
    "1224,\n",
    "8170,\n",
    "1438,\n",
    "1175,\n",
    "8785,\n",
    "274,\n",
    "3380,\n",
    "5905,\n",
    "4541,\n",
    "4600,\n",
    "5183,\n",
    "6396,\n",
    "3865,\n",
    "3473,\n",
    "3780,\n",
    "27,\n",
    "5080,\n",
    "9943,\n",
    "738,\n",
    "7733,\n",
    "8328,\n",
    "5087,\n",
    "9828,\n",
    "550,\n",
    "4604]"
   ]
  },
  {
   "cell_type": "code",
   "execution_count": 6,
   "metadata": {
    "collapsed": true
   },
   "outputs": [],
   "source": [
    "k = 3\n",
    "arr = [3,\n",
    "100,\n",
    "200,\n",
    "300,\n",
    "350,\n",
    "400,\n",
    "401,\n",
    "402]"
   ]
  },
  {
   "cell_type": "code",
   "execution_count": 7,
   "metadata": {},
   "outputs": [
    {
     "data": {
      "text/plain": [
       "2"
      ]
     },
     "execution_count": 7,
     "metadata": {},
     "output_type": "execute_result"
    }
   ],
   "source": [
    "maxMin(k,arr)"
   ]
  }
 ],
 "metadata": {
  "kernelspec": {
   "display_name": "Python 3",
   "language": "python",
   "name": "python3"
  },
  "language_info": {
   "codemirror_mode": {
    "name": "ipython",
    "version": 3
   },
   "file_extension": ".py",
   "mimetype": "text/x-python",
   "name": "python",
   "nbconvert_exporter": "python",
   "pygments_lexer": "ipython3",
   "version": "3.6.8"
  }
 },
 "nbformat": 4,
 "nbformat_minor": 2
}
