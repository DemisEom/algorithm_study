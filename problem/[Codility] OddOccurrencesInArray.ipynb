{
 "cells": [
  {
   "cell_type": "markdown",
   "metadata": {},
   "source": [
    "# [Codility] OddOccurrencesInArray"
   ]
  },
  {
   "cell_type": "markdown",
   "metadata": {},
   "source": [
    "## 구해야 하는 것"
   ]
  },
  {
   "cell_type": "markdown",
   "metadata": {},
   "source": [
    "- 비어있지 않은 n개의 정수로 구정된 배열이 있음.\n",
    "- 배열은 odd숫자를 원소로 가지고 있음. 각 원소는 같은 값을 가지는 인덱스끼리는 페어를 이룰수 있음.\n",
    "- 짝이 이뤄지지 않는 숫자가 어떤건지 찾아서 리턴하기"
   ]
  },
  {
   "cell_type": "markdown",
   "metadata": {},
   "source": [
    "## 주어지는 것 배열 "
   ]
  },
  {
   "cell_type": "markdown",
   "metadata": {},
   "source": [
    "- 홀수로 이루어진 배열 하나"
   ]
  },
  {
   "cell_type": "markdown",
   "metadata": {},
   "source": [
    "## 어떻게 구할까"
   ]
  },
  {
   "cell_type": "markdown",
   "metadata": {},
   "source": [
    "- 원소들을 쭉 슬라이딩 윈도우 해서 값을 찾는다?\n",
    "    - 원소 개수의 범위가 10억이 최대. 그리디하게 하면 타임아웃걸릴듯...\n",
    "- 원소들의 합을 사용?\n"
   ]
  },
  {
   "cell_type": "markdown",
   "metadata": {},
   "source": [
    "## 내 풀이"
   ]
  },
  {
   "cell_type": "code",
   "execution_count": 20,
   "metadata": {
    "collapsed": true
   },
   "outputs": [],
   "source": [
    "def solution(A):\n",
    "    odd_map = {}\n",
    "    \n",
    "    for i in A:\n",
    "        if i in odd_map:\n",
    "            del odd_map[i] \n",
    "        else:\n",
    "            odd_map[i] = 0\n",
    "    \n",
    "    return list(odd_map.keys())[0]\n"
   ]
  },
  {
   "cell_type": "code",
   "execution_count": 21,
   "metadata": {
    "collapsed": true
   },
   "outputs": [],
   "source": [
    "A = [9,3,9,3,9,7,9]"
   ]
  },
  {
   "cell_type": "code",
   "execution_count": 22,
   "metadata": {},
   "outputs": [
    {
     "data": {
      "text/plain": [
       "7"
      ]
     },
     "execution_count": 22,
     "metadata": {},
     "output_type": "execute_result"
    }
   ],
   "source": [
    "solution(A)"
   ]
  },
  {
   "cell_type": "markdown",
   "metadata": {},
   "source": [
    "- 사실 안되야 맞는거 같음. 제한 조건이 최대 10억길이인데 실제 테스트 케이스에서는 100만이 최대임."
   ]
  }
 ],
 "metadata": {
  "kernelspec": {
   "display_name": "Python 3",
   "language": "python",
   "name": "python3"
  },
  "language_info": {
   "codemirror_mode": {
    "name": "ipython",
    "version": 3
   },
   "file_extension": ".py",
   "mimetype": "text/x-python",
   "name": "python",
   "nbconvert_exporter": "python",
   "pygments_lexer": "ipython3",
   "version": "3.6.8"
  }
 },
 "nbformat": 4,
 "nbformat_minor": 2
}
