{
 "cells": [
  {
   "cell_type": "markdown",
   "metadata": {},
   "source": [
    "# [프로그래머스] 라면공장 - 힙"
   ]
  },
  {
   "cell_type": "markdown",
   "metadata": {},
   "source": [
    "## 구해야 하는 것"
   ]
  },
  {
   "cell_type": "markdown",
   "metadata": {},
   "source": [
    "- 밀가루를 하루에 1톤 사용함.\n",
    "- k일 이후에 밀가루를 공급받을수 있음. 해외 공장에서 수입하자.\n",
    "- 최소한의 횟수로 밀가루를 공급받고 싶음.\n",
    "- 현재 남아있는 밀가루 수량, 공급 일정, 해당 시점에 공급 가능한 밀가루 수량, 원래 공장으로 부터 공급받을수 있는 시점 k\n",
    "- 밀가루가 떨어지지 않고 공장을 운영하기 위해 최소 몇번 해외 공장으로 부터 공급받아야 하는가"
   ]
  },
  {
   "cell_type": "markdown",
   "metadata": {},
   "source": [
    "## 주어지는 것"
   ]
  },
  {
   "cell_type": "markdown",
   "metadata": {},
   "source": [
    "- 보유 하고 있는 스톡 stock\n",
    "- 공급 가능일, 그날 공급하는 밀가루의 양 dates, supplies\n",
    "- 국내 공장 가동 시작일 k"
   ]
  },
  {
   "cell_type": "markdown",
   "metadata": {},
   "source": [
    "## 어떻게 구할까?"
   ]
  },
  {
   "cell_type": "markdown",
   "metadata": {},
   "source": []
  },
  {
   "cell_type": "markdown",
   "metadata": {},
   "source": [
    "## 내 풀이"
   ]
  },
  {
   "cell_type": "code",
   "execution_count": 161,
   "metadata": {},
   "outputs": [],
   "source": [
    "\n",
    "import bisect\n",
    "def solution(stock, dates, supplies, k):\n",
    "    answer = 0\n",
    "    \n",
    "    supplies_cnt = 0\n",
    "    prev = 0\n",
    "    \n",
    "    while True:\n",
    "        \n",
    "        if stock >= k:\n",
    "            return supplies_cnt\n",
    "        \n",
    "        supplies_cnt += 1\n",
    "        \n",
    "        ind = bisect.bisect(dates, stock)\n",
    "        print(prev, ind, dates, stock)\n",
    "        \n",
    "        max_stock = max(supplies[prev:ind])\n",
    "        stock += max_stock\n",
    "        \n",
    "        prev = ind\n",
    "        "
   ]
  },
  {
   "cell_type": "code",
   "execution_count": 162,
   "metadata": {
    "collapsed": true
   },
   "outputs": [],
   "source": [
    "stock = 4\n",
    "dates = [4,10,15]\n",
    "supplies = [20,5,10]\n",
    "k = 30\n"
   ]
  },
  {
   "cell_type": "code",
   "execution_count": 37,
   "metadata": {},
   "outputs": [
    {
     "data": {
      "text/plain": [
       "4"
      ]
     },
     "execution_count": 37,
     "metadata": {},
     "output_type": "execute_result"
    }
   ],
   "source": [
    "dates[0] "
   ]
  },
  {
   "cell_type": "code",
   "execution_count": 113,
   "metadata": {
    "scrolled": true
   },
   "outputs": [
    {
     "data": {
      "text/plain": [
       "1"
      ]
     },
     "execution_count": 113,
     "metadata": {},
     "output_type": "execute_result"
    }
   ],
   "source": [
    "bisect.bisect(dates,4)"
   ]
  },
  {
   "cell_type": "code",
   "execution_count": 143,
   "metadata": {},
   "outputs": [
    {
     "data": {
      "text/plain": [
       "1"
      ]
     },
     "execution_count": 143,
     "metadata": {},
     "output_type": "execute_result"
    }
   ],
   "source": [
    "supplies.index(5)"
   ]
  },
  {
   "cell_type": "code",
   "execution_count": null,
   "metadata": {
    "collapsed": true
   },
   "outputs": [],
   "source": []
  }
 ],
 "metadata": {
  "kernelspec": {
   "display_name": "Python 3",
   "language": "python",
   "name": "python3"
  },
  "language_info": {
   "codemirror_mode": {
    "name": "ipython",
    "version": 3
   },
   "file_extension": ".py",
   "mimetype": "text/x-python",
   "name": "python",
   "nbconvert_exporter": "python",
   "pygments_lexer": "ipython3",
   "version": "3.6.8"
  }
 },
 "nbformat": 4,
 "nbformat_minor": 2
}
