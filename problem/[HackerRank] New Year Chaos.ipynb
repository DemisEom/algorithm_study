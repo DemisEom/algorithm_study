{
 "cells": [
  {
   "cell_type": "markdown",
   "metadata": {},
   "source": [
    "# [HackerRank] New Year Chaos\n"
   ]
  },
  {
   "cell_type": "markdown",
   "metadata": {},
   "source": [
    "## 구해야 하는 것"
   ]
  },
  {
   "cell_type": "markdown",
   "metadata": {},
   "source": [
    "- 신년에 롤러코스터 줄을 서고 있음. 큐!\n",
    "- 줄을 서고 있는 사람은 바로 앞 사람과 위치를 바꿀수 있음. 이때 자리를 바꾸더라도 최초 자리의 스티커는 그대로 보유하고 있음.\n",
    "- 한 사람은 최대 두 사람에게 뇌물을 주고 자리를 바꿀수 있음.\n",
    "- 이런 대기열에서 순서대로 되어 있다가 현재 상태로 만들기 위해 필요한 최소 뇌물수를 알아보자."
   ]
  },
  {
   "cell_type": "markdown",
   "metadata": {},
   "source": [
    "## 주어지는 것"
   ]
  },
  {
   "cell_type": "markdown",
   "metadata": {},
   "source": [
    "- t : 주어지는 쌍, 페어의 개수\n",
    "    - 페어의 첫번째 줄, 정수 : 사람이 줄서있는 인원수\n",
    "    - n개의 현재 순서가 바뀐 인원들이 들어가 있는 배열"
   ]
  },
  {
   "cell_type": "markdown",
   "metadata": {},
   "source": [
    "## 어떻게 구할까"
   ]
  },
  {
   "cell_type": "markdown",
   "metadata": {},
   "source": [
    "- 일단 순서대로 되어 있는 리스트를 하나 만들자.\n",
    "- 앞뒤가 바뀔수 있다.  -> 정렬 문제. 그중에서 버블 소팅을 생각해보자.\n",
    "    - 실제 소팅을 할 필요는 없다. 길이도 길고 바뀌 포지션이 아닌 바뀐 횟수를 물어보는것!\n",
    "- 바꿀수 없는 경우는 어떻게 판단할까?"
   ]
  },
  {
   "cell_type": "markdown",
   "metadata": {},
   "source": [
    "## 내 풀이"
   ]
  },
  {
   "cell_type": "code",
   "execution_count": 26,
   "metadata": {},
   "outputs": [],
   "source": [
    "def minimumBribes(q):\n",
    "    num_bribes = 0 \n",
    "    \n",
    "    ind_q = [i-1 for i in q]\n",
    "\n",
    "    for ind, value in enumerate(ind_q):\n",
    "        if value-ind > 2:\n",
    "            print(\"Too chaotic\")\n",
    "            return\n",
    "        print(range(max(value-1,0), ind))\n",
    "        \n",
    "        for j in range(max(value-1,0), ind):\n",
    "            if ind_q[j] > value:\n",
    "                num_bribes += 1\n",
    "    \n",
    "    print(num_bribes)\n"
   ]
  }
 ],
 "metadata": {
  "kernelspec": {
   "display_name": "Python 3",
   "language": "python",
   "name": "python3"
  },
  "language_info": {
   "codemirror_mode": {
    "name": "ipython",
    "version": 3
   },
   "file_extension": ".py",
   "mimetype": "text/x-python",
   "name": "python",
   "nbconvert_exporter": "python",
   "pygments_lexer": "ipython3",
   "version": "3.6.8"
  }
 },
 "nbformat": 4,
 "nbformat_minor": 2
}
