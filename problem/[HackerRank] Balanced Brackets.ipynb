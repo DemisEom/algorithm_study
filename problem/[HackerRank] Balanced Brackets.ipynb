{
 "cells": [
  {
   "cell_type": "markdown",
   "metadata": {},
   "source": [
    "# [HackerRank] Balanced Brackets"
   ]
  },
  {
   "cell_type": "markdown",
   "metadata": {},
   "source": [
    "## 구해야 하는 것"
   ]
  },
  {
   "cell_type": "markdown",
   "metadata": {},
   "source": [
    "- (), {},[]와 같은 괄호의 종류들이 있음.\n",
    "- 같은 종류의 매칭이 되는것이 페어임. 페어가 제대로 이뤄지지 않는 경우 unbalnced하다고 함.\n",
    "- 다음 조건을 만족할 때 balnced하다고 함.\n",
    "    - 언매칭되는 괄호가 없을때\n",
    "    - 매칭되는 괄호안의 서브괄호들도 매칭이 제대로 될 때.\n",
    "- 이러한 조건이 있을 때, 주어지는 괄호의 문자열이 balance한지 아닌지 출력하시오. "
   ]
  },
  {
   "cell_type": "markdown",
   "metadata": {},
   "source": [
    "## 주어지는 것"
   ]
  },
  {
   "cell_type": "markdown",
   "metadata": {},
   "source": [
    "- 괄호의 문자열\n",
    "    - 최대길이는 10^3\n",
    "    - 종류는 [],{},()"
   ]
  },
  {
   "cell_type": "markdown",
   "metadata": {},
   "source": [
    "## 어떻게 구할까"
   ]
  },
  {
   "cell_type": "markdown",
   "metadata": {},
   "source": [
    "- 스택을 잘 활용하자."
   ]
  },
  {
   "cell_type": "markdown",
   "metadata": {},
   "source": [
    "## 내 풀이"
   ]
  },
  {
   "cell_type": "code",
   "execution_count": 1,
   "metadata": {},
   "outputs": [],
   "source": [
    "def isBalanced(s):\n",
    "    \n",
    "    list_s = list(s)\n",
    "    bracket = []\n",
    "    end_bracket = [\")\",\"}\",\"]\"]\n",
    "    \n",
    "    while list_s:\n",
    "        \n",
    "        temp_s = list_s.pop(0)\n",
    "        print(temp_s,\"//\",bracket,\"//\",)\n",
    "\n",
    "        if len(bracket)>0 and temp_s in end_bracket:\n",
    "            if bracket[-1] == \"(\" and temp_s == \")\":\n",
    "                bracket.pop()\n",
    "            elif bracket[-1] == \"{\" and temp_s == \"}\":\n",
    "                bracket.pop()\n",
    "            elif bracket[-1] == \"[\" and temp_s == \"]\":\n",
    "                bracket.pop()\n",
    "            else:\n",
    "                return \"NO\"\n",
    "        \n",
    "        else:\n",
    "            bracket += [temp_s]\n",
    "            \n",
    "    return \"YES\""
   ]
  },
  {
   "cell_type": "code",
   "execution_count": 2,
   "metadata": {
    "collapsed": true
   },
   "outputs": [],
   "source": [
    "def isBalanced(s):\n",
    "    \n",
    "    stack = []\n",
    "    \n",
    "    right_bracket = [\")\",\"}\",\"]\"]\n",
    "    left_bracket = [\"(\",\"{\",\"[\"]\n",
    "    pair_map = {a:b for a,b in zip(right_bracket, left_bracket)}\n",
    "    \n",
    "    for c in s:\n",
    "        if c in left_bracket:\n",
    "            stack.append(c)\n",
    "        elif c in right_bracket:\n",
    "            if not stack or stack.pop() != pair_map[c]:\n",
    "                return \"NO\"\n",
    "            \n",
    "    return \"YES\""
   ]
  },
  {
   "cell_type": "code",
   "execution_count": 3,
   "metadata": {
    "collapsed": true
   },
   "outputs": [],
   "source": [
    "s = \"{[()]}\""
   ]
  },
  {
   "cell_type": "code",
   "execution_count": 4,
   "metadata": {
    "collapsed": true
   },
   "outputs": [],
   "source": [
    "s = \"}[]}\""
   ]
  },
  {
   "cell_type": "code",
   "execution_count": 5,
   "metadata": {
    "collapsed": true
   },
   "outputs": [],
   "source": [
    "s = \"}][}}(}][))]\""
   ]
  },
  {
   "cell_type": "code",
   "execution_count": 6,
   "metadata": {},
   "outputs": [
    {
     "data": {
      "text/plain": [
       "'NO'"
      ]
     },
     "execution_count": 6,
     "metadata": {},
     "output_type": "execute_result"
    }
   ],
   "source": [
    "isBalanced(s)"
   ]
  },
  {
   "cell_type": "markdown",
   "metadata": {},
   "source": [
    "## 다른 사람 풀이"
   ]
  },
  {
   "cell_type": "markdown",
   "metadata": {},
   "source": [
    "- 3개 테스트 케이스를 끝까지 해결 못해서 다른 사람 풀이를 참고 ㅠ"
   ]
  },
  {
   "cell_type": "code",
   "execution_count": 7,
   "metadata": {
    "collapsed": true
   },
   "outputs": [],
   "source": [
    "def isBalanced(s):\n",
    "    stack = []\n",
    "    closer = {'{': '}', '[': ']', '(': ')'}\n",
    "    for bracket in s:\n",
    "        if bracket in {'}',']',')'}:\n",
    "            if not stack or closer[stack.pop()] != bracket:\n",
    "                return \"NO\"\n",
    "        else:\n",
    "            stack.append(bracket)\n",
    "    return \"NO\" if stack else \"YES\""
   ]
  }
 ],
 "metadata": {
  "kernelspec": {
   "display_name": "Python 3",
   "language": "python",
   "name": "python3"
  },
  "language_info": {
   "codemirror_mode": {
    "name": "ipython",
    "version": 3
   },
   "file_extension": ".py",
   "mimetype": "text/x-python",
   "name": "python",
   "nbconvert_exporter": "python",
   "pygments_lexer": "ipython3",
   "version": "3.6.8"
  }
 },
 "nbformat": 4,
 "nbformat_minor": 2
}
