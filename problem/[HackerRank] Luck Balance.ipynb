{
 "cells": [
  {
   "cell_type": "markdown",
   "metadata": {},
   "source": [
    "# [HackerRank] Luck Balance"
   ]
  },
  {
   "cell_type": "markdown",
   "metadata": {},
   "source": [
    "## 구해야 하는 것"
   ]
  },
  {
   "cell_type": "markdown",
   "metadata": {},
   "source": [
    "- 운 밸런스? 최초에는 0.\n",
    "- 두개의 리스트가 존재함, L, T.\n",
    "- L은 운의 양. 경기에서 이기면 값이 줄고, 지면 값이 늘어난다.\n",
    "- T는 경기의 중요도. 1이면 경기가 중요하고, 0이면 중요하지 않음.\n",
    "- 출력을 해야하는 건 운의 최대치.\n",
    "- 최소 K번은 이겨야 함. 이겨야하는거는 중요한 경기."
   ]
  },
  {
   "cell_type": "markdown",
   "metadata": {},
   "source": [
    "## 주어지는 것"
   ]
  },
  {
   "cell_type": "markdown",
   "metadata": {},
   "source": [
    "- 최소 이겨야하는 숫자와 [[L,T]] 구조의 이중 리스트\n",
    "- 리스트의 길이는 최대 10^4"
   ]
  },
  {
   "cell_type": "markdown",
   "metadata": {},
   "source": [
    "## 어떻게 구할것인가"
   ]
  },
  {
   "cell_type": "markdown",
   "metadata": {},
   "source": [
    "- 운을 최소로 하려면?\n",
    "    - 최소로 이겨야 하는 것들은 그 값이 작은 것들로 해야함."
   ]
  },
  {
   "cell_type": "markdown",
   "metadata": {},
   "source": [
    "## 내 풀이"
   ]
  },
  {
   "cell_type": "code",
   "execution_count": 1,
   "metadata": {
    "collapsed": true
   },
   "outputs": [],
   "source": [
    "def luckBalance(k, contests):\n",
    "    \n",
    "    important_score = [ i[0] for i in contests if i[1]==1]\n",
    "    important_score.sort()\n",
    "    len_import = len(important_score)\n",
    "    \n",
    "    unimportant_score = [i[0] for i in contests if i[1]==0]\n",
    "    \n",
    "    return sum(unimportant_score)+sum(important_score[len_import-k:])-sum(important_score[:len_import-k])"
   ]
  },
  {
   "cell_type": "code",
   "execution_count": 2,
   "metadata": {
    "collapsed": true
   },
   "outputs": [],
   "source": [
    "k=3\n",
    "contests = [[5, 1], [2, 1], [1, 1], [8, 1], [10, 0], [5, 0]]"
   ]
  },
  {
   "cell_type": "code",
   "execution_count": 3,
   "metadata": {},
   "outputs": [
    {
     "data": {
      "text/plain": [
       "29"
      ]
     },
     "execution_count": 3,
     "metadata": {},
     "output_type": "execute_result"
    }
   ],
   "source": [
    "luckBalance(k, contests)"
   ]
  },
  {
   "cell_type": "code",
   "execution_count": 4,
   "metadata": {},
   "outputs": [
    {
     "name": "stdout",
     "output_type": "stream",
     "text": [
      "[[1, 1], [2, 1], [5, 0], [5, 1], [8, 1], [10, 0]]\n"
     ]
    }
   ],
   "source": [
    "print(sorted(contests))"
   ]
  },
  {
   "cell_type": "code",
   "execution_count": null,
   "metadata": {
    "collapsed": true
   },
   "outputs": [],
   "source": []
  }
 ],
 "metadata": {
  "kernelspec": {
   "display_name": "Python 3",
   "language": "python",
   "name": "python3"
  },
  "language_info": {
   "codemirror_mode": {
    "name": "ipython",
    "version": 3
   },
   "file_extension": ".py",
   "mimetype": "text/x-python",
   "name": "python",
   "nbconvert_exporter": "python",
   "pygments_lexer": "ipython3",
   "version": "3.6.8"
  }
 },
 "nbformat": 4,
 "nbformat_minor": 2
}
