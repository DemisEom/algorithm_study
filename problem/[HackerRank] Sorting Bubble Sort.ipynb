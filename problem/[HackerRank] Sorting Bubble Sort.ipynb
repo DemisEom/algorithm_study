{
 "cells": [
  {
   "cell_type": "markdown",
   "metadata": {},
   "source": [
    "# [HackerRank] Sorting Bubble Sort"
   ]
  },
  {
   "cell_type": "markdown",
   "metadata": {},
   "source": [
    "## 구해야 하는 것"
   ]
  },
  {
   "cell_type": "markdown",
   "metadata": {},
   "source": [
    "- 오름차순으로 버블정렬을 할때, 스왑된 케이스와 가장 앞에 있는 수, 마지막에 있는 수를 출력하자"
   ]
  },
  {
   "cell_type": "markdown",
   "metadata": {},
   "source": [
    "## 내 풀이"
   ]
  },
  {
   "cell_type": "code",
   "execution_count": 66,
   "metadata": {},
   "outputs": [],
   "source": [
    "def countSwaps(a):\n",
    "    cnt = 0\n",
    "    \n",
    "    for i in range(len(a)):\n",
    "        for j in range(len(a)-i-1):\n",
    "            if a[j] > a[j+1]:\n",
    "                a[j], a[j+1] = a[j+1], a[j]\n",
    "                cnt += 1\n",
    "    print(\"Array is sorted in \", cnt)\n",
    "    print(\"First Element:\", a[0])\n",
    "    print(\"Last Element:\", a[-1])\n",
    "            \n",
    "        "
   ]
  },
  {
   "cell_type": "code",
   "execution_count": 65,
   "metadata": {},
   "outputs": [
    {
     "name": "stdout",
     "output_type": "stream",
     "text": [
      "0 0 [5, 4, 3, 2, 1]\n",
      "0 1 [4, 5, 3, 2, 1]\n",
      "0 2 [4, 3, 5, 2, 1]\n",
      "0 3 [4, 3, 2, 5, 1]\n",
      "1 0 [4, 3, 2, 1, 5]\n",
      "1 1 [3, 4, 2, 1, 5]\n",
      "1 2 [3, 2, 4, 1, 5]\n",
      "2 0 [3, 2, 1, 4, 5]\n",
      "2 1 [2, 3, 1, 4, 5]\n",
      "3 0 [2, 1, 3, 4, 5]\n",
      "[1, 2, 3, 4, 5]\n",
      "Array is sorted in  10\n",
      "First Element: 1\n",
      "Last Element: 5\n"
     ]
    }
   ],
   "source": [
    "countSwaps([5,4,3,2,1])"
   ]
  },
  {
   "cell_type": "code",
   "execution_count": null,
   "metadata": {
    "collapsed": true
   },
   "outputs": [],
   "source": []
  }
 ],
 "metadata": {
  "kernelspec": {
   "display_name": "Python 3",
   "language": "python",
   "name": "python3"
  },
  "language_info": {
   "codemirror_mode": {
    "name": "ipython",
    "version": 3
   },
   "file_extension": ".py",
   "mimetype": "text/x-python",
   "name": "python",
   "nbconvert_exporter": "python",
   "pygments_lexer": "ipython3",
   "version": "3.6.8"
  }
 },
 "nbformat": 4,
 "nbformat_minor": 2
}
