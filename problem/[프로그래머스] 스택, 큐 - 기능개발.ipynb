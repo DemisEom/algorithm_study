{
 "cells": [
  {
   "cell_type": "markdown",
   "metadata": {},
   "source": [
    "# [프로그래머스] 스택, 큐 - 기능개발"
   ]
  },
  {
   "cell_type": "markdown",
   "metadata": {},
   "source": [
    "## 주어진건?  \n",
    "- 현재 진행상태\n",
    "- 각 작업 별 하루 진행 속도\n"
   ]
  },
  {
   "cell_type": "markdown",
   "metadata": {},
   "source": [
    "## 어떻게?  \n",
    "- 진행상태 + 진행속도 => 이걸 반복.\n",
    "- 진행상태의 제일 앞이 100 넘으면 전체 100 넘는 애들을 전부 pop -> return에 넣기."
   ]
  },
  {
   "cell_type": "markdown",
   "metadata": {},
   "source": [
    "## 내 풀이"
   ]
  },
  {
   "cell_type": "code",
   "execution_count": 1,
   "metadata": {},
   "outputs": [],
   "source": [
    "def solution(progresses, speeds):\n",
    "    answer = []\n",
    "    while progresses:\n",
    "        progresses = [progresses[i]+speeds[i] for i in range(len(progresses))]\n",
    "\n",
    "        if progresses[0]>= 100:\n",
    "            flag = [i >= 100 for i in progresses]\n",
    "            cnt = 0\n",
    "            \n",
    "            for i in flag:\n",
    "                if i is True:\n",
    "                    cnt+=1\n",
    "                    progresses.pop(0)\n",
    "                    speeds.pop(0)\n",
    "                else:\n",
    "                    break;\n",
    "                    \n",
    "            answer.append(cnt)\n",
    "                        \n",
    "    return answer"
   ]
  },
  {
   "cell_type": "code",
   "execution_count": null,
   "metadata": {
    "collapsed": true
   },
   "outputs": [],
   "source": []
  },
  {
   "cell_type": "code",
   "execution_count": null,
   "metadata": {
    "collapsed": true
   },
   "outputs": [],
   "source": []
  },
  {
   "cell_type": "markdown",
   "metadata": {},
   "source": [
    "## 다른 사람 풀이"
   ]
  },
  {
   "cell_type": "code",
   "execution_count": null,
   "metadata": {
    "collapsed": true
   },
   "outputs": [],
   "source": []
  }
 ],
 "metadata": {
  "kernelspec": {
   "display_name": "Python 3",
   "language": "python",
   "name": "python3"
  },
  "language_info": {
   "codemirror_mode": {
    "name": "ipython",
    "version": 3
   },
   "file_extension": ".py",
   "mimetype": "text/x-python",
   "name": "python",
   "nbconvert_exporter": "python",
   "pygments_lexer": "ipython3",
   "version": "3.6.8"
  }
 },
 "nbformat": 4,
 "nbformat_minor": 2
}
