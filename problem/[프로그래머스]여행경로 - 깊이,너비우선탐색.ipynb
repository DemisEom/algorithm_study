{
 "cells": [
  {
   "cell_type": "markdown",
   "metadata": {},
   "source": [
    "# [프로그래머스]여행경로 - 깊이,너비우선탐색"
   ]
  },
  {
   "cell_type": "markdown",
   "metadata": {},
   "source": [
    "## 구해야 하는 것?"
   ]
  },
  {
   "cell_type": "markdown",
   "metadata": {},
   "source": [
    "- \"현재 -> 목적지\"가 주어진 티켓들의 목록을 통해 전부 사용하여 방문 하는 순서를 찾기.\n",
    "- 모든 가능 경로가 2개 이상일 경우에는 알파벳 순서가 앞서는 경로로 간다.\n"
   ]
  },
  {
   "cell_type": "markdown",
   "metadata": {},
   "source": [
    "## 주어 지는 것?"
   ]
  },
  {
   "cell_type": "markdown",
   "metadata": {},
   "source": [
    "- 티켓이 들어있는 2중 리스트, 원소들은 문자열."
   ]
  },
  {
   "cell_type": "markdown",
   "metadata": {},
   "source": [
    "## 어떻게 풀 것인가?"
   ]
  },
  {
   "cell_type": "markdown",
   "metadata": {},
   "source": [
    "- 그래프 탐색 문제로 생각하자. DFS, BFS를 사용하면 될것으로 생각됨.\n",
    "- 시작 노드는 무조건 \"ICN\"\n",
    "    - \"ICN\"이 여러개 있을때 우선 순위는 어떻게 할것인가?\n",
    "    - \"ICN\"이 출발인 리스트들을 모아서 정렬함.\n",
    "- 동일한 티켓이 있는 경우는 없는가?\n",
    "    - \n"
   ]
  },
  {
   "cell_type": "markdown",
   "metadata": {},
   "source": [
    "## 내 풀이"
   ]
  },
  {
   "cell_type": "code",
   "execution_count": 1,
   "metadata": {},
   "outputs": [],
   "source": [
    "def solution(tickets):\n",
    "    \n",
    "    start_node_list = []\n",
    "    \n",
    "    for i in tickets:\n",
    "        if i[0] == \"ICN\":\n",
    "            start_node_list += [i]\n",
    "    start_node_list.sort()\n",
    "    \n",
    "    visited = [\"ICN\"]\n",
    "    stack = [start_node_list[0]]\n",
    "    \n",
    "    while stack:\n",
    "        node = stack.pop(0)\n",
    "#         print(\"node : \",node[1])\n",
    "        for i in range(len(tickets)):\n",
    "            if tickets[i][0] == node[1]:\n",
    "                visited += [node[1]]\n",
    "                stack += [tickets[i]]\n",
    "                tickets[i][0] = \"\"\n",
    "#                 print(\"visited : \" ,visited)\n",
    "                break\n",
    "\n",
    "    visited += [node[1]]\n",
    "     \n",
    "    return visited\n"
   ]
  },
  {
   "cell_type": "code",
   "execution_count": 2,
   "metadata": {
    "collapsed": true
   },
   "outputs": [],
   "source": [
    "tickets = [[\"ICN\", \"JFK\"], [\"HND\", \"IAD\"], [\"JFK\", \"HND\"]]"
   ]
  },
  {
   "cell_type": "code",
   "execution_count": 3,
   "metadata": {
    "collapsed": true
   },
   "outputs": [],
   "source": [
    "tickets = [[\"ICN\", \"SFO\"], [\"ICN\", \"ATL\"], [\"SFO\", \"ATL\"], [\"ATL\", \"ICN\"], [\"ATL\",\"SFO\"]]"
   ]
  },
  {
   "cell_type": "code",
   "execution_count": 4,
   "metadata": {},
   "outputs": [
    {
     "data": {
      "text/plain": [
       "['ICN', 'ATL', 'ICN', 'SFO', 'ATL', 'SFO']"
      ]
     },
     "execution_count": 4,
     "metadata": {},
     "output_type": "execute_result"
    }
   ],
   "source": [
    "solution(tickets)"
   ]
  },
  {
   "cell_type": "markdown",
   "metadata": {},
   "source": [
    "## 다른 사람 풀이"
   ]
  },
  {
   "cell_type": "code",
   "execution_count": 6,
   "metadata": {
    "collapsed": true
   },
   "outputs": [],
   "source": [
    "from collections import defaultdict \n",
    "\n",
    "def dfs(graph, N, key, footprint):\n",
    "    print(footprint)\n",
    "\n",
    "    if len(footprint) == N + 1:\n",
    "        return footprint\n",
    "\n",
    "    for idx, country in enumerate(graph[key]):\n",
    "        graph[key].pop(idx)\n",
    "\n",
    "        tmp = footprint[:]\n",
    "        tmp.append(country)\n",
    "\n",
    "        ret = dfs(graph, N, country, tmp)\n",
    "\n",
    "        graph[key].insert(idx, country)\n",
    "\n",
    "        if ret:\n",
    "            return ret\n",
    "\n",
    "\n",
    "def solution(tickets):\n",
    "    answer = []\n",
    "\n",
    "    graph = defaultdict(list)\n",
    "\n",
    "    N = len(tickets)\n",
    "    for ticket in tickets:\n",
    "        graph[ticket[0]].append(ticket[1])\n",
    "        graph[ticket[0]].sort()\n",
    "\n",
    "    answer = dfs(graph, N, \"ICN\", [\"ICN\"])\n",
    "\n",
    "    return answer\n"
   ]
  }
 ],
 "metadata": {
  "kernelspec": {
   "display_name": "Python 3",
   "language": "python",
   "name": "python3"
  },
  "language_info": {
   "codemirror_mode": {
    "name": "ipython",
    "version": 3
   },
   "file_extension": ".py",
   "mimetype": "text/x-python",
   "name": "python",
   "nbconvert_exporter": "python",
   "pygments_lexer": "ipython3",
   "version": "3.6.8"
  }
 },
 "nbformat": 4,
 "nbformat_minor": 2
}
