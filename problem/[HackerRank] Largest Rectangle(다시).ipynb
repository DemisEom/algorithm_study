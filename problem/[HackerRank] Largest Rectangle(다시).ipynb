{
 "cells": [
  {
   "cell_type": "markdown",
   "metadata": {},
   "source": [
    "# [HackerRank] Largest Rectangle"
   ]
  },
  {
   "cell_type": "markdown",
   "metadata": {},
   "source": [
    "## 구해야 하는 것"
   ]
  },
  {
   "cell_type": "markdown",
   "metadata": {},
   "source": [
    "- 부동산 개발자들이 오래되고 공실의 건물을 없애고 쇼핑몰을 만들고자 함.\n",
    "- 쇼핑몰을 가장크게 지을수 있는 공간을 찾자.\n",
    "- 건물들의 높이가 있을 때, 몇개의 인접한 건물들로 구성되는 가장큰 네모는 다음과 같다.\n",
    "    - 선택된 건물개수 * 그중에서 가장 낮은 높이.\n",
    "- 건물의 높이들이 주어졌을 때, 가장 넓이가 큰 경우를 구해라.\n",
    "    "
   ]
  },
  {
   "cell_type": "markdown",
   "metadata": {},
   "source": [
    "## 주어지는 것"
   ]
  },
  {
   "cell_type": "markdown",
   "metadata": {},
   "source": [
    "- 건물의 높이가 담겨있는 리스트\n",
    "    - 길이는 최대 10^5\n",
    "    - 값의 범위는 최대 10^6"
   ]
  },
  {
   "cell_type": "markdown",
   "metadata": {},
   "source": [
    "## 어떻게 풀것인가"
   ]
  },
  {
   "cell_type": "markdown",
   "metadata": {},
   "source": [
    "- 스택과 큐를 활용해보자.\n",
    "- 처음부터 하나씩 입력을 넣자.\n",
    "    - 다음 값을 넣었을 때 값이 더 크다면 인큐.\n",
    "    - 앞을 뺀게 더 크다면 디큐.\n",
    "    "
   ]
  },
  {
   "cell_type": "markdown",
   "metadata": {},
   "source": [
    "## 내풀이"
   ]
  },
  {
   "cell_type": "code",
   "execution_count": 32,
   "metadata": {
    "collapsed": true
   },
   "outputs": [],
   "source": [
    "def largestRectangle(h):\n",
    "    \n",
    "    large = []\n",
    "    height_queue = []\n",
    "    \n",
    "    for height in h:\n",
    "        \n",
    "        if len(height_queue) == 0:\n",
    "            height_queue += [height]\n",
    "            continue\n",
    "\n",
    "        temp_min = min(height_queue)\n",
    "        \n",
    "        if len(height_queue)>1:\n",
    "            sub_size = len(height_queue) * min(min(height_queue[1:]),height)\n",
    "        else:\n",
    "            sub_size = 0\n",
    "        \n",
    "        new_min = min(temp_min, height)\n",
    "        \n",
    "        add_size = (len(height_queue)+1) * new_min\n",
    "        \n",
    "        print(add_size, sub_size)\n",
    "        \n",
    "        if add_size > sub_size:\n",
    "            height_queue+=[height]\n",
    "        else:\n",
    "            height_queue+=[height]\n",
    "            height_queue.pop(0)\n",
    "            \n",
    "        large += [len(height_queue) * min(height_queue)]\n",
    "    \n",
    "    return max(large)"
   ]
  },
  {
   "cell_type": "code",
   "execution_count": 29,
   "metadata": {
    "collapsed": true
   },
   "outputs": [],
   "source": [
    "h = [1,2,3,4,5]"
   ]
  },
  {
   "cell_type": "code",
   "execution_count": 33,
   "metadata": {
    "scrolled": true
   },
   "outputs": [
    {
     "name": "stdout",
     "output_type": "stream",
     "text": [
      "2 0\n",
      "3 4\n",
      "6 6\n",
      "9 8\n",
      "0 0\n",
      "0 0\n"
     ]
    },
    {
     "data": {
      "text/plain": [
       "9"
      ]
     },
     "execution_count": 33,
     "metadata": {},
     "output_type": "execute_result"
    }
   ],
   "source": [
    "largestRectangle(h)"
   ]
  },
  {
   "cell_type": "markdown",
   "metadata": {},
   "source": [
    "## 다른 사람 풀이"
   ]
  },
  {
   "cell_type": "markdown",
   "metadata": {},
   "source": [
    "- 테스트 케이스에서 계속 틀려서 결국 discussion 참고...\n",
    "- 문제 설명을 잘해주는 영상이 있어서 가져왔다.\n",
    "    - https://www.youtube.com/watch?v=ZmnqCZp9bBs&list=PLrmLmBdmIlptv-uwAgP8k5pGdlHedncq1\n",
    "    - 먼저 스택을 사용해서 현재 max값보다 더 큰 값이 들어온다면 계속해서 그 인덱스를 스택에 넣어준다.\n",
    "    - 그후에 스택에서 값을 pop해준다.\n",
    "    - pop 해주면서 area를 계산한다. max * (i -1 - 스택값)\n",
    "        - pop이 empty인 경우에는 i*pop"
   ]
  },
  {
   "cell_type": "code",
   "execution_count": 27,
   "metadata": {
    "collapsed": true
   },
   "outputs": [],
   "source": [
    "def largestRectangle(h):\n",
    "    s = []\n",
    "    ans = len(h)\n",
    "    h.append(0)\n",
    "    \n",
    "    for i in range(len(h)):\n",
    "        print(i, s, ans)\n",
    "        left_index = i\n",
    "        while len(s) > 0 and s[-1][0] >= h[i]:\n",
    "            last = s.pop()\n",
    "            left_index = last[1]\n",
    "            ans = max(ans, h[i] * (i + 1 - last[1]))\n",
    "            print(ans, h[i], i + 1 - last[1])\n",
    "            ans = max(ans, last[0] * (i - last[1]))\n",
    "            print(ans, last[0], i - last[1])\n",
    "        s.append((h[i], left_index))\n",
    "    \n",
    "    return ans"
   ]
  },
  {
   "cell_type": "code",
   "execution_count": 30,
   "metadata": {
    "scrolled": true
   },
   "outputs": [
    {
     "name": "stdout",
     "output_type": "stream",
     "text": [
      "0 [] 5\n",
      "1 [(1, 0)] 5\n",
      "2 [(1, 0), (2, 1)] 5\n",
      "3 [(1, 0), (2, 1), (3, 2)] 5\n",
      "4 [(1, 0), (2, 1), (3, 2), (4, 3)] 5\n",
      "5 [(1, 0), (2, 1), (3, 2), (4, 3), (5, 4)] 5\n",
      "5 0 2\n",
      "5 5 1\n",
      "5 0 3\n",
      "8 4 2\n",
      "8 0 4\n",
      "9 3 3\n",
      "9 0 5\n",
      "9 2 4\n",
      "9 0 6\n",
      "9 1 5\n"
     ]
    },
    {
     "data": {
      "text/plain": [
       "9"
      ]
     },
     "execution_count": 30,
     "metadata": {},
     "output_type": "execute_result"
    }
   ],
   "source": [
    "largestRectangle(h)"
   ]
  }
 ],
 "metadata": {
  "kernelspec": {
   "display_name": "Python 3",
   "language": "python",
   "name": "python3"
  },
  "language_info": {
   "codemirror_mode": {
    "name": "ipython",
    "version": 3
   },
   "file_extension": ".py",
   "mimetype": "text/x-python",
   "name": "python",
   "nbconvert_exporter": "python",
   "pygments_lexer": "ipython3",
   "version": "3.6.8"
  }
 },
 "nbformat": 4,
 "nbformat_minor": 2
}
