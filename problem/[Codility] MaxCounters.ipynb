{
 "cells": [
  {
   "cell_type": "markdown",
   "metadata": {},
   "source": [
    "# [Codility] MaxCounters"
   ]
  },
  {
   "cell_type": "markdown",
   "metadata": {},
   "source": [
    "## 구해야 하는 것"
   ]
  },
  {
   "cell_type": "markdown",
   "metadata": {},
   "source": [
    "- 카운터가 주어져 있다고 함. 이 N카운터로 두가지 작업, 기능을  할수 있음.\n",
    "    - increase : 배열에서 n카운터에 해당하는 값이 있다면 값을 1 증가\n",
    "    - max counter : N+1인 값이 있다면 그 시점에서 모든 배열들이 가장 큰 값을 다 갖는다."
   ]
  },
  {
   "cell_type": "markdown",
   "metadata": {},
   "source": [
    "## 주어지는 것"
   ]
  },
  {
   "cell_type": "markdown",
   "metadata": {},
   "source": [
    "- 정렬되지 않으 배열\n",
    "    - 최대 길이 10만"
   ]
  },
  {
   "cell_type": "markdown",
   "metadata": {},
   "source": [
    "## 어떻게 구할것인가"
   ]
  },
  {
   "cell_type": "markdown",
   "metadata": {},
   "source": [
    "- 정렬을 할수는 없음.\n",
    "- 그리디하게? 아니면 N+1이 존재하는 인덱스를 기준으로 리스트를 나눈다?"
   ]
  },
  {
   "cell_type": "markdown",
   "metadata": {},
   "source": [
    "## 내 풀이"
   ]
  },
  {
   "cell_type": "code",
   "execution_count": 1,
   "metadata": {
    "collapsed": true
   },
   "outputs": [],
   "source": [
    "def solution(N, A):\n",
    "    \n",
    "    counter_list = [0]*N\n",
    "    \n",
    "    for i in A:\n",
    "        print(i)\n",
    "        if i == N+1:\n",
    "            counter_list = [max(counter_list)]*N\n",
    "        else:\n",
    "            counter_list[i-1] += 1\n",
    "        print(counter_list)\n",
    "        \n",
    "    return counter_list"
   ]
  },
  {
   "cell_type": "markdown",
   "metadata": {},
   "source": [
    "- 역시나 그리디하게 했을 경우 타임아웃이 나온다.\n",
    "- 시간 복잡도를 줄이기 위한 방법을 고민해 보자."
   ]
  },
  {
   "cell_type": "markdown",
   "metadata": {},
   "source": [
    "## 다른 사람 코드"
   ]
  },
  {
   "cell_type": "code",
   "execution_count": 52,
   "metadata": {
    "collapsed": true
   },
   "outputs": [],
   "source": [
    "def solution(N, A):\n",
    "\n",
    "    counters = N * [0]\n",
    "    next_max_counter =  max_counter = 0\n",
    "\n",
    "    for oper in A:\n",
    "        if oper <= N:\n",
    "            current_counter = counters[oper-1] = max(counters[oper-1] +1, max_counter+1)\n",
    "            next_max_counter = max(current_counter, next_max_counter)\n",
    "        else:\n",
    "            max_counter = next_max_counter\n",
    "\n",
    "    return [c if c > max_counter else max_counter for c in counters]"
   ]
  },
  {
   "cell_type": "code",
   "execution_count": 57,
   "metadata": {
    "collapsed": true
   },
   "outputs": [],
   "source": [
    "\n",
    "def solution(N, A):\n",
    "    result = [0]*N    # The list to be returned\n",
    "    max_counter = 0   # The used value in previous max_counter command\n",
    "    current_max = 0   # The current maximum value of any counter\n",
    "    for command in A:\n",
    "        if 1 <= command <= N:\n",
    "            # increase(X) command\n",
    "            if max_counter > result[command-1]:\n",
    "                # lazy write\n",
    "                result[command-1] = max_counter\n",
    "            result[command-1] += 1\n",
    "            if current_max < result[command-1]:\n",
    "                current_max = result[command-1]\n",
    "        else:\n",
    "            # max_counter command\n",
    "            # just record the current maximum value for later write\n",
    "            max_counter = current_max\n",
    "    for index in range(0,N):\n",
    "        if result[index] < max_counter:\n",
    "            # This element has never been used/updated after previous\n",
    "            #     max_counter command\n",
    "            result[index] = max_counter\n",
    "    return result"
   ]
  },
  {
   "cell_type": "code",
   "execution_count": 55,
   "metadata": {},
   "outputs": [],
   "source": [
    "N = 5\n",
    "A = [3, 4, 4, 6, 1, 4, 4]"
   ]
  },
  {
   "cell_type": "code",
   "execution_count": 53,
   "metadata": {
    "collapsed": true
   },
   "outputs": [],
   "source": [
    "N = 1\n",
    "A = [2,1,1,2,1]"
   ]
  },
  {
   "cell_type": "code",
   "execution_count": 56,
   "metadata": {},
   "outputs": [
    {
     "data": {
      "text/plain": [
       "[3, 2, 2, 4, 2]"
      ]
     },
     "execution_count": 56,
     "metadata": {},
     "output_type": "execute_result"
    }
   ],
   "source": [
    "solution(N, A)"
   ]
  },
  {
   "cell_type": "code",
   "execution_count": null,
   "metadata": {
    "collapsed": true
   },
   "outputs": [],
   "source": [
    "N"
   ]
  }
 ],
 "metadata": {
  "kernelspec": {
   "display_name": "Python 3",
   "language": "python",
   "name": "python3"
  },
  "language_info": {
   "codemirror_mode": {
    "name": "ipython",
    "version": 3
   },
   "file_extension": ".py",
   "mimetype": "text/x-python",
   "name": "python",
   "nbconvert_exporter": "python",
   "pygments_lexer": "ipython3",
   "version": "3.6.8"
  }
 },
 "nbformat": 4,
 "nbformat_minor": 2
}
