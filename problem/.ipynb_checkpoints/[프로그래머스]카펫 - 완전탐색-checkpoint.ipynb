{
 "cells": [
  {
   "cell_type": "markdown",
   "metadata": {},
   "source": [
    "# [프로그래머스]카펫 - 완전탐색"
   ]
  },
  {
   "cell_type": "markdown",
   "metadata": {},
   "source": [
    "## 뭘 구해야하지?"
   ]
  },
  {
   "cell_type": "markdown",
   "metadata": {},
   "source": [
    "- 갈색이랑 빨간색이 주어졌을때 예제 그림과 같은 패턴의 카펫의 사이즈를 구하기."
   ]
  },
  {
   "cell_type": "markdown",
   "metadata": {},
   "source": [
    "## 뭐가 주어지지?"
   ]
  },
  {
   "cell_type": "markdown",
   "metadata": {},
   "source": [
    "- 갈색 타일과 빨간 타일의 개수"
   ]
  },
  {
   "cell_type": "markdown",
   "metadata": {},
   "source": [
    "## 어떻게 풀까?"
   ]
  },
  {
   "cell_type": "markdown",
   "metadata": {},
   "source": [
    "- 카펫은 빨간색을 둘러싸는 형태임.\n",
    "- 레드를 기준으로 갈색을 카운트? 하는 형태로 가면 될듯함.\n",
    "- 레드의 개수가 늘어나면 직선으로 가나 정사각? 혹은 직사각으로 가나? -> 두 경우 모두를 따져야 함. 그래서 갈색 개수가 맞는거로 가야함.  예를 들어 빨간색이 8이다. 그러면 1x8, 2x4가 가능함.\n",
    "- 근데 제한사항을 보면 갈색이 8~5000, 빨간색이 1~2,000,000임. 갈색을 기준으로 생각해야할듯함.\n",
    "- 소인수 분해? 소인수 분해를 해서 나오는 쌍들이 있는데 그 쌍들에서 각각 -2를 해서 곱한게 빨간색의 개수이면 ㅇㅋ?\n"
   ]
  },
  {
   "cell_type": "markdown",
   "metadata": {},
   "source": [
    "## 내 풀이"
   ]
  },
  {
   "cell_type": "code",
   "execution_count": 34,
   "metadata": {},
   "outputs": [],
   "source": [
    "import math\n",
    "\n",
    "def solution(brown, red):\n",
    "    answer = []\n",
    "    \n",
    "    total = brown+red\n",
    "    \n",
    "    for i in range(2, int(math.sqrt(total))+1):\n",
    "        if total%i == 0 and (int(total/i)-2)*(i-2) ==red:\n",
    "            return [int(total/i), i]\n",
    "            "
   ]
  },
  {
   "cell_type": "code",
   "execution_count": 35,
   "metadata": {
    "scrolled": false
   },
   "outputs": [
    {
     "data": {
      "text/plain": [
       "[8, 6]"
      ]
     },
     "execution_count": 35,
     "metadata": {},
     "output_type": "execute_result"
    }
   ],
   "source": [
    "solution(24,24)"
   ]
  }
 ],
 "metadata": {
  "kernelspec": {
   "display_name": "Python 3",
   "language": "python",
   "name": "python3"
  },
  "language_info": {
   "codemirror_mode": {
    "name": "ipython",
    "version": 3
   },
   "file_extension": ".py",
   "mimetype": "text/x-python",
   "name": "python",
   "nbconvert_exporter": "python",
   "pygments_lexer": "ipython3",
   "version": "3.6.8"
  }
 },
 "nbformat": 4,
 "nbformat_minor": 2
}
