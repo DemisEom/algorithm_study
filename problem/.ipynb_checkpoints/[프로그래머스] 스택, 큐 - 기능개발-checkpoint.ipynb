{
 "cells": [
  {
   "cell_type": "markdown",
   "metadata": {},
   "source": [
    "# [프로그래머스] 스택, 큐 - 기능개발"
   ]
  },
  {
   "cell_type": "markdown",
   "metadata": {},
   "source": [
    "## 주어진건?  \n",
    "- 현재 진행상태\n",
    "- 각 작업 별 하루 진행 속도\n"
   ]
  },
  {
   "cell_type": "markdown",
   "metadata": {},
   "source": [
    "## 어떻게?  \n",
    "- 진행상태 + 진행속도 => 이걸 반복.\n",
    "- 진행상태의 제일 앞이 100 넘으면 전체 100 넘는 애들을 전부 pop -> return에 넣기."
   ]
  },
  {
   "cell_type": "markdown",
   "metadata": {},
   "source": [
    "## 내 풀이"
   ]
  },
  {
   "cell_type": "code",
   "execution_count": 197,
   "metadata": {},
   "outputs": [],
   "source": [
    "def solution(progresses, speeds):\n",
    "    answer = []\n",
    "    while progresses:\n",
    "        \n",
    "        progresses = [progresses[i]+speeds[i] for i in range(len(progresses))]\n",
    "        print(progresses)\n",
    "\n",
    "        if progresses[0]>= 100:\n",
    "            flag = [i >= 100 for i in progresses]\n",
    "            \n",
    "            for i in flag:\n",
    "                if i is True:\n",
    "                    answer.append(cnt)\n",
    "                    progresses.pop(0)\n",
    "                    speeds.pop(0)\n",
    "                else:\n",
    "                    break;\n",
    "                        \n",
    "    return answer"
   ]
  },
  {
   "cell_type": "code",
   "execution_count": 198,
   "metadata": {
    "collapsed": true
   },
   "outputs": [],
   "source": [
    "pro = [93,30,55]\n",
    "speed = [1,30,5]"
   ]
  },
  {
   "cell_type": "code",
   "execution_count": 199,
   "metadata": {
    "scrolled": true
   },
   "outputs": [
    {
     "name": "stdout",
     "output_type": "stream",
     "text": [
      "[94, 60, 60, 80]\n",
      "[95, 90, 65, 90]\n",
      "[96, 120, 70, 100]\n",
      "[97, 150, 75, 110]\n",
      "[98, 180, 80, 120]\n",
      "[99, 210, 85, 130]\n",
      "[100, 240, 90, 140]\n",
      "[150]\n"
     ]
    },
    {
     "data": {
      "text/plain": [
       "[3, 1]"
      ]
     },
     "execution_count": 199,
     "metadata": {},
     "output_type": "execute_result"
    }
   ],
   "source": [
    "solution([93, 30, 55,70], [1, 30, 5,10])"
   ]
  },
  {
   "cell_type": "code",
   "execution_count": 185,
   "metadata": {
    "collapsed": true
   },
   "outputs": [],
   "source": [
    "progresses = [100, 240, 90, 140]"
   ]
  },
  {
   "cell_type": "code",
   "execution_count": 186,
   "metadata": {
    "collapsed": true
   },
   "outputs": [],
   "source": [
    "flag = [i >= 100 for i in progresses]"
   ]
  },
  {
   "cell_type": "code",
   "execution_count": 187,
   "metadata": {},
   "outputs": [
    {
     "data": {
      "text/plain": [
       "[True, True, False, True]"
      ]
     },
     "execution_count": 187,
     "metadata": {},
     "output_type": "execute_result"
    }
   ],
   "source": [
    "flag"
   ]
  },
  {
   "cell_type": "code",
   "execution_count": 188,
   "metadata": {},
   "outputs": [
    {
     "data": {
      "text/plain": [
       "2"
      ]
     },
     "execution_count": 188,
     "metadata": {},
     "output_type": "execute_result"
    }
   ],
   "source": [
    "flag.index(False)"
   ]
  },
  {
   "cell_type": "code",
   "execution_count": 201,
   "metadata": {},
   "outputs": [
    {
     "name": "stdout",
     "output_type": "stream",
     "text": [
      "True\n",
      "True\n",
      "False\n",
      "True\n"
     ]
    }
   ],
   "source": [
    "for i in flag:\n",
    "    print(i)"
   ]
  },
  {
   "cell_type": "code",
   "execution_count": null,
   "metadata": {
    "collapsed": true
   },
   "outputs": [],
   "source": []
  }
 ],
 "metadata": {
  "kernelspec": {
   "display_name": "Python 3",
   "language": "python",
   "name": "python3"
  },
  "language_info": {
   "codemirror_mode": {
    "name": "ipython",
    "version": 3
   },
   "file_extension": ".py",
   "mimetype": "text/x-python",
   "name": "python",
   "nbconvert_exporter": "python",
   "pygments_lexer": "ipython3",
   "version": "3.6.8"
  }
 },
 "nbformat": 4,
 "nbformat_minor": 2
}
