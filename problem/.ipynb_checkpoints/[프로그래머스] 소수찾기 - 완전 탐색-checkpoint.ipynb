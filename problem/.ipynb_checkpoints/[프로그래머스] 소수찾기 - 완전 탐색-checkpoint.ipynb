{
 "cells": [
  {
   "cell_type": "markdown",
   "metadata": {},
   "source": [
    "# [프로그래머스] 소수찾기 - 완전 탐색"
   ]
  },
  {
   "cell_type": "markdown",
   "metadata": {},
   "source": [
    "## 뭘 구해야하지?\n"
   ]
  },
  {
   "cell_type": "markdown",
   "metadata": {},
   "source": [
    "- 주어진 숫자 문자열로 생성 가능한 만들수 있는 소수의 개수를 구하자."
   ]
  },
  {
   "cell_type": "markdown",
   "metadata": {},
   "source": [
    "# 뭐가 주어지지?\n"
   ]
  },
  {
   "cell_type": "markdown",
   "metadata": {},
   "source": [
    "- 입력으로 숫자 문자열이 주어짐.\n",
    "- 숫자의 문자열 주어지는것은 7이하의 문자열. 즉 7개의 숫자가 최대임."
   ]
  },
  {
   "cell_type": "markdown",
   "metadata": {},
   "source": [
    "## 어떻게 풀까?"
   ]
  },
  {
   "cell_type": "markdown",
   "metadata": {},
   "source": [
    "1.문자열로 만들 수 있는 모든 숫자들 찾기 -> 각 수마다 소수 여부 판단  \n",
    "2.뒷 자리에 오면 안되는 것들 기준으로 조합수 생각하기."
   ]
  },
  {
   "cell_type": "markdown",
   "metadata": {},
   "source": [
    "- 소수? 1과 자기 자신으로만 나눠지는 애들. -> 1과 자기 자신말고 나눠지면 안됨.  \n",
    "2,3,5,7,11,13,17,19,23,29,31,37......\n"
   ]
  },
  {
   "cell_type": "markdown",
   "metadata": {},
   "source": [
    "- 7개의 숫자로 만들수 있는 자연수의 경우? 7! 너무 많음... 근데 이거밖에 없어보임...\n",
    "- 일단, 주어진 숫자열로 만들수 있는 모든 숫자를 포함하는 리스트를 만들자. 맥시멈이 10^7\n",
    "- 리스트의 숫자를 반복해서 얘가 소수인지 아닌지를 판단하자.\n"
   ]
  },
  {
   "cell_type": "markdown",
   "metadata": {},
   "source": [
    "## 내 풀이"
   ]
  },
  {
   "cell_type": "code",
   "execution_count": 112,
   "metadata": {},
   "outputs": [],
   "source": [
    "import itertools\n",
    "import math\n",
    "\n",
    "def make_all_possible_list(numbers):\n",
    "    all_list = []\n",
    "    for i in range(1,len(numbers)+1):\n",
    "        all_list += list((map(''.join,itertools.permutations(numbers,i))))\n",
    "        all_list = list(set([int(i) for i in all_list]))\n",
    "    return all_list\n",
    "\n",
    "def check_decimal(number):\n",
    "    number = int(number)\n",
    "    \n",
    "    print(\"===========\")\n",
    "#     print(number)\n",
    "#     print(\"===========\")\n",
    "    sqrt_number = int(math.sqrt(number))\n",
    "    \n",
    "    if number == 1 or number == 0:\n",
    "        return False\n",
    "    \n",
    "    for i in range(2, (number-1)):\n",
    "#         print(i)\n",
    "        if number%i == 0:\n",
    "            return False\n",
    "    return True\n",
    "\n",
    "def solution(numbers):\n",
    "    \n",
    "    answer = 0\n",
    "    \n",
    "    num_list = make_all_possible_list(numbers)\n",
    "    print(num_list)\n",
    "    \n",
    "    for i in range(len(num_list)):\n",
    "        if check_decimal(num_list[i]) == True:\n",
    "            answer += 1\n",
    "#             print(num_list[i])\n",
    "    return answer"
   ]
  },
  {
   "cell_type": "code",
   "execution_count": 110,
   "metadata": {
    "collapsed": true
   },
   "outputs": [],
   "source": [
    "numbers =\"011\""
   ]
  },
  {
   "cell_type": "code",
   "execution_count": 113,
   "metadata": {
    "scrolled": true
   },
   "outputs": [
    {
     "name": "stdout",
     "output_type": "stream",
     "text": [
      "[0, 1, 101, 10, 11, 110]\n",
      "===========\n",
      "===========\n",
      "===========\n",
      "===========\n",
      "===========\n",
      "===========\n"
     ]
    },
    {
     "data": {
      "text/plain": [
       "2"
      ]
     },
     "execution_count": 113,
     "metadata": {},
     "output_type": "execute_result"
    }
   ],
   "source": [
    "solution(numbers)"
   ]
  },
  {
   "cell_type": "markdown",
   "metadata": {},
   "source": [
    "- 체크해야하는 경우의 수가 많아서 고민이었는데 됨..."
   ]
  },
  {
   "cell_type": "markdown",
   "metadata": {
    "collapsed": true
   },
   "source": [
    "## 다른 사람 풀이\n"
   ]
  },
  {
   "cell_type": "markdown",
   "metadata": {},
   "source": [
    "\n",
    "https://ju-nam2.tistory.com/19"
   ]
  },
  {
   "cell_type": "code",
   "execution_count": null,
   "metadata": {
    "collapsed": true
   },
   "outputs": [],
   "source": []
  }
 ],
 "metadata": {
  "kernelspec": {
   "display_name": "Python 3",
   "language": "python",
   "name": "python3"
  },
  "language_info": {
   "codemirror_mode": {
    "name": "ipython",
    "version": 3
   },
   "file_extension": ".py",
   "mimetype": "text/x-python",
   "name": "python",
   "nbconvert_exporter": "python",
   "pygments_lexer": "ipython3",
   "version": "3.6.8"
  }
 },
 "nbformat": 4,
 "nbformat_minor": 2
}
