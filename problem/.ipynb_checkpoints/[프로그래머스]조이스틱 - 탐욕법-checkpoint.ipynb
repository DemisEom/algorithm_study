{
 "cells": [
  {
   "cell_type": "markdown",
   "metadata": {},
   "source": [
    "# [프로그래머스]조이스틱 - 탐욕법"
   ]
  },
  {
   "cell_type": "markdown",
   "metadata": {},
   "source": [
    "## 뭐를 구해야하지?\n"
   ]
  },
  {
   "cell_type": "markdown",
   "metadata": {},
   "source": [
    "- 주어진 문자열의 각각을 만들기 위해서 얼만큼 움직여야 하는가, 최소로"
   ]
  },
  {
   "cell_type": "markdown",
   "metadata": {},
   "source": [
    "## 주어지는게 뭐지"
   ]
  },
  {
   "cell_type": "markdown",
   "metadata": {},
   "source": [
    "- 문자열.\n",
    "- 글자수가 몇인지. 그리고 글자들은 처음은 A로 세팅되어 있음.\n",
    "- A에서 아래로 가면 Z.\n",
    "- 대문자만 존재. A~Z까지 몇개이지? "
   ]
  },
  {
   "cell_type": "markdown",
   "metadata": {},
   "source": [
    "## 어떻게 구하지?"
   ]
  },
  {
   "cell_type": "markdown",
   "metadata": {},
   "source": [
    "- 좌우의 결정?\n",
    "    - 예제의 3글자인 경우가 특수 경우아닐까?\n",
    "        - 양끝을 제외한 나머지가 A인 경우는 왼쪽으로 가면 될듯\n",
    "        - 2번쨰가 A인 경우인가?\n",
    "    - 나머지 경우는 다 한 방향으로만 움직여도 될듯\n",
    "- 위 아래의 결정?\n",
    "    - 알파벳 리스트를 만들어서 중간보다 작으면 위로, 크면 아래로\n",
    "    \n",
    "- return(좌우 움직임 필요 + 위 아래 움직임 필요)\n",
    "    - 좌우 움직임 => 2번째가 A = len-2, 아니면 len-1\n",
    "    - 위 아래 움직임 => 각 인덱스에서 비교하는 연산을 넣기."
   ]
  },
  {
   "cell_type": "markdown",
   "metadata": {},
   "source": [
    "## 내 풀이"
   ]
  },
  {
   "cell_type": "code",
   "execution_count": 33,
   "metadata": {
    "collapsed": true
   },
   "outputs": [],
   "source": [
    "from string import ascii_uppercase\n",
    "\n",
    "def delete_a(name):\n",
    "    name = list(name)\n",
    "    while True:\n",
    "        if name[1] == 'A':\n",
    "            name.pop(1)\n",
    "        else:\n",
    "            break;\n",
    "    return len(name)-1\n",
    "\n",
    "def top_down(name):\n",
    "    alphabet = list(ascii_uppercase)\n",
    "    cnt = 0\n",
    "    \n",
    "    for i in name:\n",
    "        ind = alphabet.index(i) \n",
    "        if ind >= 13 : \n",
    "            cnt += 25-ind+1\n",
    "        else:\n",
    "            cnt +=ind\n",
    "            \n",
    "    return cnt\n",
    "\n",
    "def solution(name):\n",
    "    \n",
    "    \n",
    "    left_right_cnt = delete_a(name)\n",
    "\n",
    "    top_down_cnt = top_down(name)\n",
    "    \n",
    "#     if name[1] == \"A\":\n",
    "#         left_right_cnt = len(name)-2\n",
    "#     else:\n",
    "#         left_right_cnt = len(name)-1\n",
    "    \n",
    "    return top_down_cnt + left_right_cnt"
   ]
  },
  {
   "cell_type": "code",
   "execution_count": 37,
   "metadata": {
    "collapsed": true
   },
   "outputs": [],
   "source": [
    "name = \"JEROEN\""
   ]
  },
  {
   "cell_type": "code",
   "execution_count": 35,
   "metadata": {
    "collapsed": true
   },
   "outputs": [],
   "source": [
    "name = \"JAN\""
   ]
  },
  {
   "cell_type": "code",
   "execution_count": 38,
   "metadata": {},
   "outputs": [
    {
     "data": {
      "text/plain": [
       "56"
      ]
     },
     "execution_count": 38,
     "metadata": {},
     "output_type": "execute_result"
    }
   ],
   "source": [
    "solution(name)"
   ]
  },
  {
   "cell_type": "code",
   "execution_count": null,
   "metadata": {
    "collapsed": true
   },
   "outputs": [],
   "source": []
  }
 ],
 "metadata": {
  "kernelspec": {
   "display_name": "Python 3",
   "language": "python",
   "name": "python3"
  },
  "language_info": {
   "codemirror_mode": {
    "name": "ipython",
    "version": 3
   },
   "file_extension": ".py",
   "mimetype": "text/x-python",
   "name": "python",
   "nbconvert_exporter": "python",
   "pygments_lexer": "ipython3",
   "version": "3.6.8"
  }
 },
 "nbformat": 4,
 "nbformat_minor": 2
}
