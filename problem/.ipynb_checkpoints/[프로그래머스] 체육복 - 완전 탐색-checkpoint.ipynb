{
 "cells": [
  {
   "cell_type": "markdown",
   "metadata": {},
   "source": [
    "# [프로그래머스] 체육복 - 완전 탐색"
   ]
  },
  {
   "cell_type": "markdown",
   "metadata": {},
   "source": [
    "## 뭘 구해야하지?"
   ]
  },
  {
   "cell_type": "markdown",
   "metadata": {},
   "source": [
    "- 체육복 여벌을 가지고 있는 사람이 도둑 맞은 사람한테 빌려줘서 없는 사람의 수를 최소로 하자."
   ]
  },
  {
   "cell_type": "markdown",
   "metadata": {},
   "source": [
    "## 뭐가 주어지니?"
   ]
  },
  {
   "cell_type": "markdown",
   "metadata": {},
   "source": [
    "- 전체 학생의수\n",
    "- 도난당한 학생의 번호\n",
    "- 여벌 체육복을 가져온 학생의 번호\n",
    "- return은 체육 수업을 들을 수 있는 학생의 최댓값!"
   ]
  },
  {
   "cell_type": "markdown",
   "metadata": {},
   "source": [
    "## 어떻게 구할까"
   ]
  },
  {
   "cell_type": "markdown",
   "metadata": {},
   "source": [
    "- 도난 당한 학생들의 리스트와 여벌 리스트를 비교 -> 도난 리스트에서 pop -> return n-len(lost)\n",
    "- 비교 수를 줄이기 위해서 도난 당한 번호랑 빌려주는 아이의 번호 차이가 2이상 나면 break"
   ]
  },
  {
   "cell_type": "markdown",
   "metadata": {},
   "source": [
    "## 내 풀이"
   ]
  },
  {
   "cell_type": "code",
   "execution_count": 109,
   "metadata": {},
   "outputs": [],
   "source": [
    "def delete_both(lost, reserve):\n",
    "    temp_lost = list(set(lost)-set(reserve))\n",
    "    temp_reserve = list(set(reserve)-set(lost))\n",
    "    return temp_lost, temp_reserve\n",
    "\n",
    "\n",
    "def solution(n, lost, reserve):   \n",
    "    lost, reserve = delete_both(lost, reserve)\n",
    "    answer = len(lost)\n",
    "    \n",
    "    for i in range(len(lost)):\n",
    "        for j in range(len(reserve)):\n",
    "            if reserve[j] == lost[i]+1 or reserve[j] == lost[i]-1:\n",
    "                lost[i] = 0\n",
    "                reserve [j] = 0\n",
    "                answer -= 1\n",
    "                print(lost, reserve)\n",
    "    return n-answer"
   ]
  },
  {
   "cell_type": "code",
   "execution_count": 110,
   "metadata": {
    "collapsed": true
   },
   "outputs": [],
   "source": [
    "n = 5\n",
    "lost = [2, 4]\n",
    "reserve = [1,3,5]"
   ]
  },
  {
   "cell_type": "code",
   "execution_count": 111,
   "metadata": {
    "scrolled": false
   },
   "outputs": [
    {
     "name": "stdout",
     "output_type": "stream",
     "text": [
      "[0, 4] [0, 3, 5]\n",
      "[0, 0] [0, 0, 5]\n"
     ]
    },
    {
     "data": {
      "text/plain": [
       "5"
      ]
     },
     "execution_count": 111,
     "metadata": {},
     "output_type": "execute_result"
    }
   ],
   "source": [
    "solution(5,[2, 4],[1, 3, 5])"
   ]
  }
 ],
 "metadata": {
  "kernelspec": {
   "display_name": "Python 3",
   "language": "python",
   "name": "python3"
  },
  "language_info": {
   "codemirror_mode": {
    "name": "ipython",
    "version": 3
   },
   "file_extension": ".py",
   "mimetype": "text/x-python",
   "name": "python",
   "nbconvert_exporter": "python",
   "pygments_lexer": "ipython3",
   "version": "3.6.8"
  }
 },
 "nbformat": 4,
 "nbformat_minor": 2
}
