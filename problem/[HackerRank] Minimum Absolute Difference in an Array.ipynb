{
 "cells": [
  {
   "cell_type": "markdown",
   "metadata": {},
   "source": [
    "# [HackerRank] Minimum Absolute Difference in an Array"
   ]
  },
  {
   "cell_type": "markdown",
   "metadata": {},
   "source": [
    "## 구해야 하는 것"
   ]
  },
  {
   "cell_type": "markdown",
   "metadata": {},
   "source": [
    "- 주어지는 배열, 리스트의 원소들의 2개의 빼기, 차이의 절대값이 작을때의 값을 구하시오."
   ]
  },
  {
   "cell_type": "markdown",
   "metadata": {},
   "source": [
    "## 주어지는 것"
   ]
  },
  {
   "cell_type": "markdown",
   "metadata": {},
   "source": [
    "- 최대 길이 10^5인 리스트\n",
    "    - 원소들의 값의 범위는 -10^9~10^9"
   ]
  },
  {
   "cell_type": "markdown",
   "metadata": {},
   "source": [
    "## 어떻게 풀것인가?"
   ]
  },
  {
   "cell_type": "markdown",
   "metadata": {},
   "source": [
    "- 절대값 자체가  큰 두개의 숫자를 뺸다?\n",
    "- 부호의 영향? 부호에 따라 리스트를 나눈다."
   ]
  },
  {
   "cell_type": "markdown",
   "metadata": {},
   "source": [
    "## 내 풀이"
   ]
  },
  {
   "cell_type": "code",
   "execution_count": 21,
   "metadata": {
    "collapsed": true
   },
   "outputs": [],
   "source": [
    "def minimumAbsoluteDifference(arr):\n",
    "    plus = [i for i in arr if i>=0]\n",
    "    minus = [i for i in arr if i<=0]\n",
    "    \n",
    "    plus.sort()\n",
    "    minus.sort()\n",
    "    \n",
    "    print(plus, minus)\n",
    "    \n",
    "    diff = []\n",
    "    \n",
    "    for i in range(1,len(plus)):\n",
    "        if len(plus)<2:\n",
    "            break\n",
    "        pre = plus[i-1]\n",
    "        nex = plus[i]\n",
    "        \n",
    "        diff += [abs(nex-pre)]\n",
    "        \n",
    "    for i in range(1,len(minus)):\n",
    "        if len(minus)<2:\n",
    "            break\n",
    "        pre = minus[i-1]\n",
    "        nex = minus[i]\n",
    "        \n",
    "        diff += [abs(nex-pre)]\n",
    "        \n",
    "    return min(diff)"
   ]
  },
  {
   "cell_type": "code",
   "execution_count": 22,
   "metadata": {},
   "outputs": [],
   "source": [
    "arr = [-59, -36, -13, 1, -53, -92, -2, -96, -54, 75]"
   ]
  },
  {
   "cell_type": "code",
   "execution_count": 24,
   "metadata": {
    "collapsed": true
   },
   "outputs": [],
   "source": [
    "arr = [1, -3 ,71 ,68 ,17]"
   ]
  },
  {
   "cell_type": "code",
   "execution_count": 25,
   "metadata": {},
   "outputs": [
    {
     "name": "stdout",
     "output_type": "stream",
     "text": [
      "[1, 17, 68, 71] [-3]\n"
     ]
    },
    {
     "data": {
      "text/plain": [
       "3"
      ]
     },
     "execution_count": 25,
     "metadata": {},
     "output_type": "execute_result"
    }
   ],
   "source": [
    "minimumAbsoluteDifference(arr)"
   ]
  }
 ],
 "metadata": {
  "kernelspec": {
   "display_name": "Python 3",
   "language": "python",
   "name": "python3"
  },
  "language_info": {
   "codemirror_mode": {
    "name": "ipython",
    "version": 3
   },
   "file_extension": ".py",
   "mimetype": "text/x-python",
   "name": "python",
   "nbconvert_exporter": "python",
   "pygments_lexer": "ipython3",
   "version": "3.6.8"
  }
 },
 "nbformat": 4,
 "nbformat_minor": 2
}
