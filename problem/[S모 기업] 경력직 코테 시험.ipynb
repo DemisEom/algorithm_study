{
 "cells": [
  {
   "cell_type": "markdown",
   "metadata": {},
   "source": [
    " # XX 게임\n",
    " "
   ]
  },
  {
   "cell_type": "markdown",
   "metadata": {},
   "source": [
    "## 문제 이해"
   ]
  },
  {
   "cell_type": "markdown",
   "metadata": {},
   "source": [
    "- 플레이어들의 편을 나누어야함. 대기실에 들어온 순서와 등급에 따른 팀 편성.\n",
    "- 순서와 등급\n",
    "- 먼저 들어온 플레이어가 팀 먼저 할당\n",
    "- 새로 들어온 플레이어는 새팀 혹은 모든 팀원의 등급이 해당 플레이어의 등급보다 낮은 팀에만 배정 가능\n",
    "- 숫자가 작을수록 낮은 등급, 즉 숫자가 큰게 높은 등급\n",
    "- 팀은 할당되면 끝임\n",
    "- 팀 수는 적을수록 좋음.\n",
    "- 결과값으로 몇개의 팀이 나오는지 확인해야함.\n"
   ]
  },
  {
   "cell_type": "markdown",
   "metadata": {},
   "source": [
    "## 주어지는 것?\n",
    "\n"
   ]
  },
  {
   "cell_type": "markdown",
   "metadata": {},
   "source": [
    "- 대기실 도착 수선에 따른 플레이어 등급이 담긴 배열 state\n",
    "    - state = [2,3,4] 이런느낌일듯"
   ]
  },
  {
   "cell_type": "markdown",
   "metadata": {},
   "source": [
    "## 어떻게 풀까?\n",
    "\n"
   ]
  },
  {
   "cell_type": "markdown",
   "metadata": {},
   "source": [
    "- 먼저 각 팀의 인원수는 중요하지 않음. 중요한거는 팀의 개수와 등급의 합\n",
    "- 리스트를 사용하자.\n",
    "- 리스트의 각 인덱스에 팀 랭크의 합을 넣고 반복문 돌면서 자기보다 값 작은곳에 더하기\n",
    "- 마지막에는 팀의 개수 리턴\n",
    "- 이거 고민인게 반복 돌다가 둘다 들어갈수 있는 경우에는 더 작은값에 넣어야하나?"
   ]
  },
  {
   "cell_type": "code",
   "execution_count": 3,
   "metadata": {
    "collapsed": true
   },
   "outputs": [],
   "source": [
    "team_rank = []"
   ]
  },
  {
   "cell_type": "code",
   "execution_count": 5,
   "metadata": {},
   "outputs": [],
   "source": [
    "team_rank.append(1)"
   ]
  },
  {
   "cell_type": "code",
   "execution_count": 6,
   "metadata": {
    "scrolled": true
   },
   "outputs": [
    {
     "data": {
      "text/plain": [
       "1"
      ]
     },
     "execution_count": 6,
     "metadata": {},
     "output_type": "execute_result"
    }
   ],
   "source": [
    "len(team_rank)"
   ]
  },
  {
   "cell_type": "markdown",
   "metadata": {},
   "source": [
    "## 풀이"
   ]
  },
  {
   "cell_type": "code",
   "execution_count": 74,
   "metadata": {
    "collapsed": true
   },
   "outputs": [],
   "source": [
    "state = [5,3,4,6,2,1]"
   ]
  },
  {
   "cell_type": "code",
   "execution_count": 78,
   "metadata": {
    "collapsed": true
   },
   "outputs": [],
   "source": [
    "state = [6,2,3,4,1,5]"
   ]
  },
  {
   "cell_type": "markdown",
   "metadata": {},
   "source": [
    "### 이중 반복문 사용하는 방법... 이거는 테스트케이스에서 안될수도..."
   ]
  },
  {
   "cell_type": "code",
   "execution_count": 79,
   "metadata": {},
   "outputs": [
    {
     "name": "stdout",
     "output_type": "stream",
     "text": [
      "team 6 | player 2 | [6]\n",
      "team 2 | player 3 | [2, 6]\n",
      "team 3 | player 4 | [3, 6]\n",
      "team 4 | player 1 | [4, 6]\n",
      "team 6 | player 1 | [4, 6]\n",
      "team 1 | player 5 | [1, 4, 6]\n",
      "[4, 5, 6]\n",
      "3\n"
     ]
    }
   ],
   "source": [
    "team_score_list = []\n",
    "\n",
    "# 맨 처음 애는 팀 일단 먼저 할당해주자\n",
    "team_score_list.append(state.pop(0))\n",
    "\n",
    "\n",
    "# 이중 반복문 사용해서 사람별로 각팀 스코어 비교해서 넣자\n",
    "for player_score in state:\n",
    "    \n",
    "    size = len(team_score_list)\n",
    "    for (idx, team_score) in enumerate(team_score_list):\n",
    "        print(\"team\",team_score,\"|\",\"player\", player_score, \"|\", team_score_list)\n",
    "        \n",
    "        # 총합 등급이 낮은 팀 있다면 바꾸기 넘기기\n",
    "        if team_score < player_score:\n",
    "                team_score_list[idx] = player_score \n",
    "                team_score_list.sort()\n",
    "                break; # 합산한 경우에는 해당 반복문 빠져나오기\n",
    "                \n",
    "        if idx == (size-1):\n",
    "            #끝까지 반복문 못 빠져나오면 들어갈수 있는 팀이 없는것이니 새로 추가\n",
    "            team_score_list.append(player_score)\n",
    "            team_score_list.sort()\n",
    "            break;\n",
    "            \n",
    "print(team_score_list)\n",
    "print(len(team_score_list))"
   ]
  },
  {
   "cell_type": "code",
   "execution_count": null,
   "metadata": {
    "collapsed": true
   },
   "outputs": [],
   "source": []
  },
  {
   "cell_type": "markdown",
   "metadata": {},
   "source": [
    "# 성공적인 여행"
   ]
  },
  {
   "cell_type": "markdown",
   "metadata": {},
   "source": [
    "# 문제 이해"
   ]
  },
  {
   "cell_type": "markdown",
   "metadata": {},
   "source": [
    "- 매트릭스\n",
    "- 0,0부터 2,1처럼 되어 있음\n",
    "- a,b면 a+1, b+1로 이동해야함.\n",
    "- 좌표가 도시의 크기보다 커질경우?\n",
    "    - ((a+1)%x, (b+1)%y)\n",
    "    - x, y는 도시의 크기임\n",
    "    - 도시의 크기는 2*3\n",
    "- 성공적인 여행이 가능한지를 알려주는 솔루션\n",
    "- 성공적인 여행은 도시의 모든 마을을 여행할수 있는 것"
   ]
  },
  {
   "cell_type": "markdown",
   "metadata": {},
   "source": [
    "## 어떻게 풀까?"
   ]
  },
  {
   "cell_type": "code",
   "execution_count": null,
   "metadata": {
    "collapsed": true
   },
   "outputs": [],
   "source": []
  },
  {
   "cell_type": "code",
   "execution_count": null,
   "metadata": {
    "collapsed": true
   },
   "outputs": [],
   "source": []
  },
  {
   "cell_type": "code",
   "execution_count": null,
   "metadata": {
    "collapsed": true
   },
   "outputs": [],
   "source": []
  },
  {
   "cell_type": "code",
   "execution_count": null,
   "metadata": {
    "collapsed": true
   },
   "outputs": [],
   "source": []
  }
 ],
 "metadata": {
  "kernelspec": {
   "display_name": "Python 3",
   "language": "python",
   "name": "python3"
  },
  "language_info": {
   "codemirror_mode": {
    "name": "ipython",
    "version": 3
   },
   "file_extension": ".py",
   "mimetype": "text/x-python",
   "name": "python",
   "nbconvert_exporter": "python",
   "pygments_lexer": "ipython3",
   "version": "3.6.8"
  }
 },
 "nbformat": 4,
 "nbformat_minor": 2
}
