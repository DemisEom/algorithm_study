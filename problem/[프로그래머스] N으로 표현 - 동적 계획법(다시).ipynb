{
 "cells": [
  {
   "cell_type": "markdown",
   "metadata": {},
   "source": [
    "# [프로그래머스] N으로 표현 - 동적 계획법"
   ]
  },
  {
   "cell_type": "markdown",
   "metadata": {},
   "source": [
    "## 구해야 하는 것"
   ]
  },
  {
   "cell_type": "markdown",
   "metadata": {
    "collapsed": true
   },
   "source": [
    "- \n"
   ]
  },
  {
   "cell_type": "markdown",
   "metadata": {
    "collapsed": true
   },
   "source": [
    "## 내 풀이"
   ]
  },
  {
   "cell_type": "code",
   "execution_count": null,
   "metadata": {
    "collapsed": true
   },
   "outputs": [],
   "source": []
  },
  {
   "cell_type": "markdown",
   "metadata": {},
   "source": [
    "## 다른 사람 풀이"
   ]
  },
  {
   "cell_type": "code",
   "execution_count": null,
   "metadata": {
    "collapsed": true
   },
   "outputs": [],
   "source": [
    "def solution(N, number):\n",
    "    answer = 0\n",
    "    partial = [[],[N],[],[],[],[],[],[],[]]\n",
    "    for i in range(1,9):\n",
    "        for a in partial[i]:\n",
    "            if a == number:\n",
    "                answer = i\n",
    "                break\n",
    "        if(answer != 0 or i == 8):\n",
    "            break\n",
    "        for j in range(1,i+1):\n",
    "            for k in range(1,i+1):\n",
    "                if j+k == i+1 and j >= k:\n",
    "                    for c in partial[j]:\n",
    "                        for d in partial[k]:\n",
    "                            if c+d not in partial[i+1]:\n",
    "                                partial[i+1].append(c+d)\n",
    "                            if c-d not in partial[i+1]:\n",
    "                                partial[i+1].append(c-d)\n",
    "                            if c*d not in partial[i+1]:\n",
    "                                partial[i+1].append(c*d)\n",
    "                            if c!= 0:\n",
    "                                if d//c not in partial[i+1]:\n",
    "                                    partial[i+1].append(d//c)\n",
    "                            if d-c not in partial[i+1]:\n",
    "                                partial[i+1].append(d-c)\n",
    "                            if d != 0:\n",
    "                                if c//d not in partial[i+1]:\n",
    "                                    partial[i+1].append(c//d)\n",
    "        sum = N\n",
    "        for j in range(i):\n",
    "            sum *= 10\n",
    "            sum += N\n",
    "        if sum not in partial[i+1]:\n",
    "            partial[i+1].append(sum)\n",
    "        \n",
    "    if answer == 0:\n",
    "        answer = -1\n",
    "    return answer"
   ]
  },
  {
   "cell_type": "code",
   "execution_count": null,
   "metadata": {
    "collapsed": true
   },
   "outputs": [],
   "source": []
  }
 ],
 "metadata": {
  "kernelspec": {
   "display_name": "Python 3",
   "language": "python",
   "name": "python3"
  },
  "language_info": {
   "codemirror_mode": {
    "name": "ipython",
    "version": 3
   },
   "file_extension": ".py",
   "mimetype": "text/x-python",
   "name": "python",
   "nbconvert_exporter": "python",
   "pygments_lexer": "ipython3",
   "version": "3.6.8"
  }
 },
 "nbformat": 4,
 "nbformat_minor": 2
}
