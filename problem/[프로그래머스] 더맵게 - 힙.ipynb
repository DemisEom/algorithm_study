{
 "cells": [
  {
   "cell_type": "markdown",
   "metadata": {},
   "source": [
    "# [프로그래머스] 더맵게 - 힙"
   ]
  },
  {
   "cell_type": "markdown",
   "metadata": {},
   "source": [
    "## 구해야 하는 것"
   ]
  },
  {
   "cell_type": "markdown",
   "metadata": {},
   "source": [
    "- 모든 음식의 스코빌 지수를 K이상으로 만들고 싶음.\n",
    "- 이를 위해 가장낮은 두개의 음식을 아래와 같이 특별한 방법으로 섞어 새로운음식으로 만듬\n",
    "    - 섞은 음식의 지수 = 가장 맵지 않은 음식 + (두번쨰로 맵지 않은 음식)*2\n",
    "- 모든 음식이 K이상이 될때까지 반복"
   ]
  },
  {
   "cell_type": "markdown",
   "metadata": {},
   "source": [
    "## 어떻게 구할까"
   ]
  },
  {
   "cell_type": "markdown",
   "metadata": {},
   "source": [
    "- 배열 정렬 하고 큐에서 제거, 새로운 수치를 입력. 이것을 반복"
   ]
  },
  {
   "cell_type": "markdown",
   "metadata": {},
   "source": [
    "## 내 풀이"
   ]
  },
  {
   "cell_type": "code",
   "execution_count": null,
   "metadata": {
    "collapsed": true
   },
   "outputs": [],
   "source": [
    "import bisect"
   ]
  },
  {
   "cell_type": "code",
   "execution_count": 6,
   "metadata": {
    "collapsed": true
   },
   "outputs": [],
   "source": [
    "def solution(scoville, K):\n",
    "    scoville.sort()\n",
    "    \n",
    "    mix_cnt = 0\n",
    "    \n",
    "    while True:\n",
    "        if scoville[0] > K:\n",
    "            break;\n",
    "        elif len(scoville) <3 and sum(scoville)<K:\n",
    "            return -1\n",
    "            \n",
    "        mix_cnt += 1\n",
    "        \n",
    "        most_min = scoville.pop(0)\n",
    "        second_min = scoville.pop(0)\n",
    "        \n",
    "        new = most_min + (second_min*2)\n",
    "        \n",
    "        scoville += [new]\n",
    "\n",
    "        scoville.sort()\n",
    "        \n",
    "    return mix_cnt"
   ]
  },
  {
   "cell_type": "code",
   "execution_count": 23,
   "metadata": {
    "collapsed": true
   },
   "outputs": [],
   "source": [
    "import heapq\n",
    "\n",
    "def solution(scoville, K):\n",
    "    heapq.heapify(scoville)\n",
    "    \n",
    "    mix_cnt = 0\n",
    "    \n",
    "    while True:\n",
    "        if scoville[0] > K:\n",
    "            break;\n",
    "        elif len(scoville) <3 and sum(scoville)<K:\n",
    "            return -1\n",
    "            \n",
    "            \n",
    "        mix_cnt += 1\n",
    "        \n",
    "        most_min = heapq.heappop(scoville)\n",
    "        second_min = heapq.heappop(scoville)\n",
    "        \n",
    "        new = most_min + (second_min*2)\n",
    "        \n",
    "        heapq.heappush(scoville, new)\n",
    "        \n",
    "    return mix_cnt"
   ]
  },
  {
   "cell_type": "markdown",
   "metadata": {},
   "source": [
    "- 스택, 큐로 풀경우 효율성 면에서 풀리지 않음.\n",
    "- 우선순위 큐를 사용해서 풀어야 통과"
   ]
  }
 ],
 "metadata": {
  "kernelspec": {
   "display_name": "Python 3",
   "language": "python",
   "name": "python3"
  },
  "language_info": {
   "codemirror_mode": {
    "name": "ipython",
    "version": 3
   },
   "file_extension": ".py",
   "mimetype": "text/x-python",
   "name": "python",
   "nbconvert_exporter": "python",
   "pygments_lexer": "ipython3",
   "version": "3.6.8"
  }
 },
 "nbformat": 4,
 "nbformat_minor": 2
}
