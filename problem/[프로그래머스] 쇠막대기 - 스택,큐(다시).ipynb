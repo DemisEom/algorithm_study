{
 "cells": [
  {
   "cell_type": "markdown",
   "metadata": {},
   "source": [
    "# [프로그래머스] 쇠막대기 - 스택/큐"
   ]
  },
  {
   "cell_type": "markdown",
   "metadata": {},
   "source": [
    "## 뭘 해야하지?"
   ]
  },
  {
   "cell_type": "markdown",
   "metadata": {},
   "source": [
    "- 쇠막대기를 자를때 나오는 조각의 개수를 확인하자.\n",
    "- 쇠막대기는 긴거 순서대로 올라간다.\n",
    "- 괄호가 양쪽에 있는게 레이저. 이거를 통해서 쇠막대기가 잘라짐.\n",
    "- 나란히 있는 괄호 ()이거는 레이저지만 (()())이거는 크게 테두리 있는거가 쇠막대기를 의미함. 따라서 이경우에는 하나의 쇠막대기에 두 레이저가 들어갔으니 조각은 3개가 됨."
   ]
  },
  {
   "cell_type": "markdown",
   "metadata": {},
   "source": [
    "## 뭐가 주어지지?"
   ]
  },
  {
   "cell_type": "markdown",
   "metadata": {},
   "source": [
    "- 입력으로 괄호 (,)의 문자열이 주어짐."
   ]
  },
  {
   "cell_type": "markdown",
   "metadata": {},
   "source": [
    "## 어떻게 풀것인가?\n"
   ]
  },
  {
   "cell_type": "markdown",
   "metadata": {},
   "source": [
    "- 개수를 셀까? 예를 들어서 지금부터 막대기가 시작! 그러고 막개기가 끝날때까지의 레이저개수를 세면 레이저 + 1개로 잘라짐."
   ]
  },
  {
   "cell_type": "markdown",
   "metadata": {},
   "source": [
    "- 리스트로 바꾼다음에 계속 큐에서 뽑아낸다고 생각하자.\n",
    "- (가 시작되고 )가 바로 안나오면 레이저가 아님 쇠막대기임.\n",
    "- (가 시작되고 )가 바로 나오면 레이저임.\n",
    "- 조각의 개수는 현재까지 나온 쇠막대기 + 레이저수"
   ]
  },
  {
   "cell_type": "markdown",
   "metadata": {},
   "source": [
    "## 내 풀이"
   ]
  },
  {
   "cell_type": "code",
   "execution_count": 12,
   "metadata": {
    "collapsed": true
   },
   "outputs": [],
   "source": [
    "def solution(arrangement):\n",
    "    num_stick = 0\n",
    "    answer = 0\n",
    "    \n",
    "    for i in arrangement:\n",
    "        if i ==\"(\":\n",
    "            num_stick +=1\n",
    "            offset = 1          \n",
    "        else:\n",
    "            if offset == 1:\n",
    "                num_stick -=1\n",
    "                answer += num_stick\n",
    "                offset = 0\n",
    "            else:\n",
    "                num_stick -=1\n",
    "                answer +=1\n",
    "\n",
    "    return answer"
   ]
  },
  {
   "cell_type": "code",
   "execution_count": 13,
   "metadata": {},
   "outputs": [
    {
     "data": {
      "text/plain": [
       "17"
      ]
     },
     "execution_count": 13,
     "metadata": {},
     "output_type": "execute_result"
    }
   ],
   "source": [
    "solution(\"()(((()())(())()))(())\")"
   ]
  },
  {
   "cell_type": "markdown",
   "metadata": {},
   "source": [
    "- 조건을 잘 따져보자.\n",
    "- 열리고 닫혔을 때 언제 열렸을떄 언제 닫혔을때 늘어나는지를 생각해야한다."
   ]
  },
  {
   "cell_type": "code",
   "execution_count": null,
   "metadata": {
    "collapsed": true
   },
   "outputs": [],
   "source": []
  }
 ],
 "metadata": {
  "kernelspec": {
   "display_name": "Python 3",
   "language": "python",
   "name": "python3"
  },
  "language_info": {
   "codemirror_mode": {
    "name": "ipython",
    "version": 3
   },
   "file_extension": ".py",
   "mimetype": "text/x-python",
   "name": "python",
   "nbconvert_exporter": "python",
   "pygments_lexer": "ipython3",
   "version": "3.6.8"
  }
 },
 "nbformat": 4,
 "nbformat_minor": 2
}
