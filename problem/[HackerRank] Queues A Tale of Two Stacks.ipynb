{
 "cells": [
  {
   "cell_type": "markdown",
   "metadata": {},
   "source": [
    "# [HackerRank] Queues A Tale of Two Stacks"
   ]
  },
  {
   "cell_type": "markdown",
   "metadata": {},
   "source": [
    "## 구해야 하는 것"
   ]
  },
  {
   "cell_type": "markdown",
   "metadata": {},
   "source": [
    "- 큐는 인큐와 디큐 두가지의 연산을 가지고 있음.\n",
    "- 3가지의 연산을 준다.\n",
    "    - 1, 인큐 put\n",
    "    - 2, 디큐 pop\n",
    "    - 3 큐의 가장앞 원소를 출력 peek"
   ]
  },
  {
   "cell_type": "markdown",
   "metadata": {},
   "source": [
    "## 내 풀이"
   ]
  },
  {
   "cell_type": "code",
   "execution_count": 1,
   "metadata": {
    "collapsed": true
   },
   "outputs": [],
   "source": [
    "class MyQueue(object):\n",
    "    def __init__(self):\n",
    "        self.queue = []\n",
    "    \n",
    "    def peek(self):\n",
    "        # last element\n",
    "        if len(self.queue)>0:\n",
    "            last_ele = self.queue[0]\n",
    "            return last_ele\n",
    "        \n",
    "    def pop(self):\n",
    "        #디큐\n",
    "        self.queue.pop(0)\n",
    "\n",
    "    def put(self, value):\n",
    "        #enqueue\n",
    "        self.queue += [value]"
   ]
  }
 ],
 "metadata": {
  "kernelspec": {
   "display_name": "Python 3",
   "language": "python",
   "name": "python3"
  },
  "language_info": {
   "codemirror_mode": {
    "name": "ipython",
    "version": 3
   },
   "file_extension": ".py",
   "mimetype": "text/x-python",
   "name": "python",
   "nbconvert_exporter": "python",
   "pygments_lexer": "ipython3",
   "version": "3.6.8"
  }
 },
 "nbformat": 4,
 "nbformat_minor": 2
}
