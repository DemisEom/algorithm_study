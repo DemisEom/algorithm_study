{
 "cells": [
  {
   "cell_type": "markdown",
   "metadata": {},
   "source": [
    "# [HackerRank] Largest Rectangle"
   ]
  },
  {
   "cell_type": "markdown",
   "metadata": {},
   "source": [
    "## 구해야 하는 것"
   ]
  },
  {
   "cell_type": "markdown",
   "metadata": {},
   "source": [
    "- 부동산 개발자들이 오래되고 공실의 건물을 없애고 쇼핑몰을 만들고자 함.\n",
    "- 쇼핑몰을 가장크게 지을수 있는 공간을 찾자.\n",
    "- 건물들의 높이가 있을 때, 몇개의 인접한 건물들로 구성되는 가장큰 네모는 다음과 같다.\n",
    "    - 선택된 건물개수 * 그중에서 가장 낮은 높이.\n",
    "- 건물의 높이들이 주어졌을 때, 가장 넓이가 큰 경우를 구해라.\n",
    "    "
   ]
  },
  {
   "cell_type": "markdown",
   "metadata": {},
   "source": [
    "## 주어지는 것"
   ]
  },
  {
   "cell_type": "markdown",
   "metadata": {},
   "source": [
    "- 건물의 높이가 담겨있는 리스트\n",
    "    - 길이는 최대 10^5\n",
    "    - 값의 범위는 최대 10^6"
   ]
  },
  {
   "cell_type": "markdown",
   "metadata": {},
   "source": [
    "## 어떻게 풀것인가"
   ]
  },
  {
   "cell_type": "markdown",
   "metadata": {},
   "source": [
    "- 스택과 큐를 활용해보자.\n",
    "- 처음부터 하나씩 입력을 넣자.\n",
    "    - 다음 값을 넣었을 때 값이 더 크다면 인큐.\n",
    "    - 앞을 뺀게 더 크다면 디큐.\n",
    "    "
   ]
  },
  {
   "cell_type": "markdown",
   "metadata": {},
   "source": [
    "## 내풀이"
   ]
  },
  {
   "cell_type": "code",
   "execution_count": 64,
   "metadata": {
    "collapsed": true
   },
   "outputs": [],
   "source": [
    "def largestRectangle(h):\n",
    "    \n",
    "    large = []\n",
    "    height_queue = []\n",
    "    \n",
    "    for height in h:\n",
    "        \n",
    "        if len(height_queue) == 0:\n",
    "            height_queue += [height]\n",
    "            continue\n",
    "\n",
    "        temp_min = min(height_queue)\n",
    "        \n",
    "        if len(height_queue)>1:\n",
    "            sub_size = len(height_queue) * min(min(height_queue[1:]),height)\n",
    "        else:\n",
    "            sub_size = 0\n",
    "\n",
    "        add_size = (len(height_queue)+1) * min(temp_min, height)\n",
    "#         max_size = max(add_size, sub_size)\n",
    "        \n",
    "        print(add_size, sub_size)\n",
    "        \n",
    "        if add_size >= sub_size:\n",
    "            height_queue+=[height]\n",
    "        else:\n",
    "            height_queue+=[height]\n",
    "            height_queue.pop(0)\n",
    "            \n",
    "        large += [len(height_queue) * min(height_queue)]\n",
    "    \n",
    "    return max(large)"
   ]
  },
  {
   "cell_type": "code",
   "execution_count": 65,
   "metadata": {
    "collapsed": true
   },
   "outputs": [],
   "source": [
    "h = [1,2,3,4,5]"
   ]
  },
  {
   "cell_type": "code",
   "execution_count": 66,
   "metadata": {
    "scrolled": true
   },
   "outputs": [
    {
     "name": "stdout",
     "output_type": "stream",
     "text": [
      "2 0\n",
      "3 4\n",
      "6 6\n",
      "8 9\n"
     ]
    },
    {
     "data": {
      "text/plain": [
       "9"
      ]
     },
     "execution_count": 66,
     "metadata": {},
     "output_type": "execute_result"
    }
   ],
   "source": [
    "largestRectangle(h)"
   ]
  },
  {
   "cell_type": "code",
   "execution_count": null,
   "metadata": {
    "collapsed": true
   },
   "outputs": [],
   "source": []
  }
 ],
 "metadata": {
  "kernelspec": {
   "display_name": "Python 3",
   "language": "python",
   "name": "python3"
  },
  "language_info": {
   "codemirror_mode": {
    "name": "ipython",
    "version": 3
   },
   "file_extension": ".py",
   "mimetype": "text/x-python",
   "name": "python",
   "nbconvert_exporter": "python",
   "pygments_lexer": "ipython3",
   "version": "3.6.8"
  }
 },
 "nbformat": 4,
 "nbformat_minor": 2
}
