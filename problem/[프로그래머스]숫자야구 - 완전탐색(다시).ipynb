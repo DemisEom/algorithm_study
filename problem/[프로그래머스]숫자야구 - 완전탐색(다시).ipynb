{
 "cells": [
  {
   "cell_type": "markdown",
   "metadata": {},
   "source": [
    "# [프로그래머스]숫자야구 - 완전탐색"
   ]
  },
  {
   "cell_type": "markdown",
   "metadata": {},
   "source": [
    "## 뭘 구해야하지?"
   ]
  },
  {
   "cell_type": "markdown",
   "metadata": {},
   "source": [
    "- 숫자 입력에 대해서 판단을 해야함.\n",
    "- 판단은 3가지.\n",
    "- 볼 : 숫자는 맞지만, 위치가 틀림\n",
    "- 스트라이크 : 숫자와 위치가 모두 맞음\n",
    "- 아웃 : 숫자와 위치가 모두 틀림"
   ]
  },
  {
   "cell_type": "markdown",
   "metadata": {},
   "source": [
    "## 주어지는것"
   ]
  },
  {
   "cell_type": "markdown",
   "metadata": {},
   "source": [
    "- [질문한 세자리수, 스트라이크수, 볼의 수] * n\n",
    "- 이때 가능한 모든수의 종류"
   ]
  },
  {
   "cell_type": "markdown",
   "metadata": {},
   "source": [
    "## 어떻게 풀것인가?"
   ]
  },
  {
   "cell_type": "markdown",
   "metadata": {},
   "source": [
    "- 스트라이크 볼의 경우에 따라서 숫자를 체크해야함.\n",
    "- 볼과 스트라이크... 교집합? 겹치는 값?\n",
    "- 스트라이크들로 자리 잡고 볼로 경우의수 나누기?\n",
    "- 맞춰야 하는거는 3개의 숫자."
   ]
  },
  {
   "cell_type": "markdown",
   "metadata": {},
   "source": [
    "## 내 풀이"
   ]
  },
  {
   "cell_type": "code",
   "execution_count": null,
   "metadata": {
    "collapsed": true
   },
   "outputs": [],
   "source": []
  },
  {
   "cell_type": "code",
   "execution_count": null,
   "metadata": {
    "collapsed": true
   },
   "outputs": [],
   "source": []
  },
  {
   "cell_type": "code",
   "execution_count": 2,
   "metadata": {
    "collapsed": true
   },
   "outputs": [],
   "source": [
    "baseball = [[123, 1, 1], [356, 1, 0], [327, 2, 0], [489, 0, 1]]"
   ]
  },
  {
   "cell_type": "markdown",
   "metadata": {
    "collapsed": true
   },
   "source": [
    "## 다른 사람 풀이"
   ]
  },
  {
   "cell_type": "code",
   "execution_count": null,
   "metadata": {
    "collapsed": true
   },
   "outputs": [],
   "source": [
    "from itertools import permutations\n",
    "\n",
    "def check_score(question, candidate, s, b):\n",
    "    strike = 0\n",
    "    for i in range(len(question)):\n",
    "        if question[i] == candidate[i]:\n",
    "            strike += 1\n",
    "            if s != strike:\n",
    "            return False\n",
    "        ball = len(set(question) & set(candidate))-strike\n",
    "        if b != ball:\n",
    "            return False\n",
    "    return True\n",
    "\n",
    "\n",
    "def solution(baseball):\n",
    "    lst = list(permutations([1,2,3,4,5,6,7,8,9], 3))\n",
    "    for i in baseball:\n",
    "        for item in lst[:]:\n",
    "            if not check_score([int(i) for i in list(str(i[0]))], item, i[1], i[2]):\n",
    "                lst.remove(item)\n",
    "    return len(lst)"
   ]
  }
 ],
 "metadata": {
  "kernelspec": {
   "display_name": "Python 3",
   "language": "python",
   "name": "python3"
  },
  "language_info": {
   "codemirror_mode": {
    "name": "ipython",
    "version": 3
   },
   "file_extension": ".py",
   "mimetype": "text/x-python",
   "name": "python",
   "nbconvert_exporter": "python",
   "pygments_lexer": "ipython3",
   "version": "3.6.8"
  }
 },
 "nbformat": 4,
 "nbformat_minor": 2
}
