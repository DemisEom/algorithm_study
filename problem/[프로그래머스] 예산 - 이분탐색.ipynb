{
 "cells": [
  {
   "cell_type": "markdown",
   "metadata": {},
   "source": [
    "# [프로그래머스] 예산 - 이분탐색"
   ]
  },
  {
   "cell_type": "markdown",
   "metadata": {},
   "source": [
    "## 구해야 하는 것"
   ]
  },
  {
   "cell_type": "markdown",
   "metadata": {},
   "source": [
    "- 국가의 예산 요청에 대한 배정 문제\n",
    "    - 모든 요청이 배정될수 있는 경우에는 요청한 금액을 그대로 배정\n",
    "    - 모든 요청이 배정될수 없는 경우에는 특정한 정수 상한액을 계산. 그 이상인경우에는 모두 이 상한액을 배정. 상한액 이하의 예산 요청에 대해서는 요청한 대로 배정\n",
    "    - 적잘한 상한액을 설정해서 가능한 최대의 총예산을 분배하자."
   ]
  },
  {
   "cell_type": "markdown",
   "metadata": {},
   "source": [
    "- 예를 들어\n",
    "- 에산이 485, 4개지방 120, 110, 140, 150\n",
    "- 상한액이 127이면 합을 484로 가능."
   ]
  },
  {
   "cell_type": "markdown",
   "metadata": {},
   "source": [
    "## 주어지는 것"
   ]
  },
  {
   "cell_type": "markdown",
   "metadata": {},
   "source": [
    "- 예산 budgets\n",
    "- 총 예산 M\n"
   ]
  },
  {
   "cell_type": "markdown",
   "metadata": {},
   "source": [
    "## 어떻게 구할까"
   ]
  },
  {
   "cell_type": "markdown",
   "metadata": {},
   "source": []
  },
  {
   "cell_type": "code",
   "execution_count": null,
   "metadata": {
    "collapsed": true
   },
   "outputs": [],
   "source": []
  },
  {
   "cell_type": "code",
   "execution_count": null,
   "metadata": {
    "collapsed": true
   },
   "outputs": [],
   "source": []
  },
  {
   "cell_type": "markdown",
   "metadata": {},
   "source": [
    "## 내 풀이"
   ]
  },
  {
   "cell_type": "code",
   "execution_count": 1,
   "metadata": {
    "collapsed": true
   },
   "outputs": [],
   "source": [
    "import bisect"
   ]
  },
  {
   "cell_type": "code",
   "execution_count": 78,
   "metadata": {},
   "outputs": [],
   "source": [
    "import bisect\n",
    "def solution(budgets, M):\n",
    "\n",
    "    if sum(budgets) <= M:\n",
    "        return max(budgets)\n",
    "    \n",
    "    length = len(budgets)\n",
    "    \n",
    "    budgets.sort()\n",
    "    \n",
    "    max_sum = 0\n",
    "    max_threshold = 0\n",
    "    temp_sum = 0\n",
    "    \n",
    "    for i in range(length-1):\n",
    "        temp_sum += budgets[i] \n",
    "        temp_threshold = (M-temp_sum)//(length-i-1)\n",
    "        \n",
    "        ind = bisect.bisect(budgets,temp_threshold)\n",
    "        \n",
    "        temp_max_sum = sum(budgets[:ind])+((length-ind)*temp_threshold)\n",
    "        \n",
    "#         print(i, temp_threshold, temp_max_sum, max_threshold, max_sum)\n",
    "        \n",
    "        if temp_max_sum >= max_sum:\n",
    "            max_sum = temp_max_sum\n",
    "            max_threshold = temp_threshold\n",
    "    \n",
    "    return max_threshold"
   ]
  },
  {
   "cell_type": "code",
   "execution_count": 79,
   "metadata": {
    "collapsed": true
   },
   "outputs": [],
   "source": [
    "budgets = [120, 110, 140, 150]\n",
    "M = 485"
   ]
  },
  {
   "cell_type": "code",
   "execution_count": 80,
   "metadata": {},
   "outputs": [
    {
     "data": {
      "text/plain": [
       "127"
      ]
     },
     "execution_count": 80,
     "metadata": {},
     "output_type": "execute_result"
    }
   ],
   "source": [
    "solution(budgets, M)"
   ]
  }
 ],
 "metadata": {
  "kernelspec": {
   "display_name": "Python 3",
   "language": "python",
   "name": "python3"
  },
  "language_info": {
   "codemirror_mode": {
    "name": "ipython",
    "version": 3
   },
   "file_extension": ".py",
   "mimetype": "text/x-python",
   "name": "python",
   "nbconvert_exporter": "python",
   "pygments_lexer": "ipython3",
   "version": "3.6.8"
  }
 },
 "nbformat": 4,
 "nbformat_minor": 2
}
