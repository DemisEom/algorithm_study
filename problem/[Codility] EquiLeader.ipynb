{
 "cells": [
  {
   "cell_type": "markdown",
   "metadata": {},
   "source": [
    "# [Codility] EquiLeader"
   ]
  },
  {
   "cell_type": "markdown",
   "metadata": {},
   "source": [
    "## 구해야 하는 것"
   ]
  },
  {
   "cell_type": "markdown",
   "metadata": {},
   "source": [
    "- 부분 배열에서 길이의 반 이상 나오는 것을 리더라고 함\n",
    "- 전체 배열의 두 부분 배열의 리더가 같은 경우를 출력하시오."
   ]
  },
  {
   "cell_type": "markdown",
   "metadata": {},
   "source": [
    "## 내 풀이"
   ]
  },
  {
   "cell_type": "code",
   "execution_count": 30,
   "metadata": {},
   "outputs": [],
   "source": [
    "import collections\n",
    "\n",
    "def solution(A):\n",
    "    prev_cnt = collections.Counter()\n",
    "    next_cnt = collections.Counter(A)\n",
    "    cnt = 0\n",
    "    \n",
    "    ind = 1\n",
    "    length = len(A)\n",
    "    \n",
    "    while A:\n",
    "        \n",
    "        temp = A.pop(0)\n",
    "        \n",
    "        prev_cnt.update([temp])\n",
    "        next_cnt.subtract([temp])\n",
    "        print(prev_cnt, next_cnt)\n",
    "        \n",
    "        if prev_cnt.most_common(1)[0][1]>ind/2:\n",
    "            prev_reader = prev_cnt.most_common(1)[0][0]\n",
    "        else: \n",
    "            prev_reader = None\n",
    "            \n",
    "        if next_cnt.most_common(1)[0][1]>(length-ind)/2:\n",
    "            next_reader = next_cnt.most_common(1)[0][0]\n",
    "        else: \n",
    "            next_reader = None\n",
    "        \n",
    "        if prev_reader == next_reader and prev_reader is not None:\n",
    "            cnt += 1\n",
    "        print(prev_reader, next_reader, cnt)\n",
    "    \n",
    "    return cnt"
   ]
  },
  {
   "cell_type": "code",
   "execution_count": 31,
   "metadata": {
    "collapsed": true
   },
   "outputs": [],
   "source": [
    "A = [4, 3, 4, 4, 4, 2]"
   ]
  },
  {
   "cell_type": "code",
   "execution_count": 32,
   "metadata": {},
   "outputs": [
    {
     "name": "stdout",
     "output_type": "stream",
     "text": [
      "Counter({4: 1}) Counter({4: 3, 3: 1, 2: 1})\n",
      "4 4 1\n",
      "Counter({4: 1, 3: 1}) Counter({4: 3, 2: 1, 3: 0})\n",
      "4 4 2\n",
      "Counter({4: 2, 3: 1}) Counter({4: 2, 2: 1, 3: 0})\n",
      "4 None 2\n",
      "Counter({4: 3, 3: 1}) Counter({4: 1, 2: 1, 3: 0})\n",
      "4 None 2\n",
      "Counter({4: 4, 3: 1}) Counter({2: 1, 4: 0, 3: 0})\n",
      "4 None 2\n",
      "Counter({4: 4, 3: 1, 2: 1}) Counter({4: 0, 3: 0, 2: 0})\n",
      "4 None 2\n"
     ]
    },
    {
     "data": {
      "text/plain": [
       "2"
      ]
     },
     "execution_count": 32,
     "metadata": {},
     "output_type": "execute_result"
    }
   ],
   "source": [
    "solution(A)"
   ]
  },
  {
   "cell_type": "code",
   "execution_count": null,
   "metadata": {
    "collapsed": true
   },
   "outputs": [],
   "source": []
  }
 ],
 "metadata": {
  "kernelspec": {
   "display_name": "Python 3",
   "language": "python",
   "name": "python3"
  },
  "language_info": {
   "codemirror_mode": {
    "name": "ipython",
    "version": 3
   },
   "file_extension": ".py",
   "mimetype": "text/x-python",
   "name": "python",
   "nbconvert_exporter": "python",
   "pygments_lexer": "ipython3",
   "version": "3.6.8"
  }
 },
 "nbformat": 4,
 "nbformat_minor": 2
}
