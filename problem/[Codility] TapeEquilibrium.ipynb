{
 "cells": [
  {
   "cell_type": "markdown",
   "metadata": {},
   "source": [
    "# [Codility] TapeEquilibrium"
   ]
  },
  {
   "cell_type": "markdown",
   "metadata": {},
   "source": [
    "## 내 풀이"
   ]
  },
  {
   "cell_type": "code",
   "execution_count": 1,
   "metadata": {
    "collapsed": true
   },
   "outputs": [],
   "source": [
    "def solution(A):\n",
    "    temp = 0\n",
    "    sum_list = []\n",
    "    for i in A:\n",
    "        temp += i\n",
    "        sum_list +=[temp]\n",
    "    \n",
    "    diff_list = [abs(sum(A[:i])-sum(A[i:])) for i in range(1,len(A))]\n",
    "    \n",
    "    return min(diff_list)\n"
   ]
  },
  {
   "cell_type": "markdown",
   "metadata": {},
   "source": [
    "- 이렇게 풀면 퍼포먼스 점수가 0... 타임 아웃이 걸린다."
   ]
  },
  {
   "cell_type": "code",
   "execution_count": 2,
   "metadata": {
    "collapsed": true
   },
   "outputs": [],
   "source": [
    "def solution(A):\n",
    "    sum_From_left = 0\n",
    "    sum_From_Right = sum(A)\n",
    "    diff_list = []\n",
    "    for i in range(1, len(A)):\n",
    "        sum_From_left += A[i-1]\n",
    "        sum_From_Right -= A[i-1]\n",
    "        \n",
    "        diff_list += [abs(sum_From_Right-sum_From_left)]\n",
    "        \n",
    "    return min(diff_list)"
   ]
  },
  {
   "cell_type": "code",
   "execution_count": 3,
   "metadata": {
    "collapsed": true
   },
   "outputs": [],
   "source": [
    "A = [3,1,2,4,3]"
   ]
  },
  {
   "cell_type": "code",
   "execution_count": 4,
   "metadata": {},
   "outputs": [
    {
     "data": {
      "text/plain": [
       "1"
      ]
     },
     "execution_count": 4,
     "metadata": {},
     "output_type": "execute_result"
    }
   ],
   "source": [
    "solution(A)"
   ]
  }
 ],
 "metadata": {
  "kernelspec": {
   "display_name": "Python 3",
   "language": "python",
   "name": "python3"
  },
  "language_info": {
   "codemirror_mode": {
    "name": "ipython",
    "version": 3
   },
   "file_extension": ".py",
   "mimetype": "text/x-python",
   "name": "python",
   "nbconvert_exporter": "python",
   "pygments_lexer": "ipython3",
   "version": "3.6.8"
  }
 },
 "nbformat": 4,
 "nbformat_minor": 2
}
