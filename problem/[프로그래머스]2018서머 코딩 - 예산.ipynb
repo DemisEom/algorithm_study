{
 "cells": [
  {
   "cell_type": "markdown",
   "metadata": {},
   "source": [
    "# [프로그래머스]2018서머 코딩 - 예산"
   ]
  },
  {
   "cell_type": "markdown",
   "metadata": {},
   "source": [
    "## 구해야 하는것?"
   ]
  },
  {
   "cell_type": "markdown",
   "metadata": {},
   "source": [
    "- 부서에 필요한 물품을 지원 -> 부서별로 물품을 구매하는데 필요 금액 조사\n",
    "- 전체 예산이 정해져 있음 -> 최대한 많은 부서의 물품 구매!\n",
    "- 조건  \n",
    "    - 부서별 구매해줄때는 신청한 금액 모두 지원해줘야함.\n",
    "  "
   ]
  },
  {
   "cell_type": "markdown",
   "metadata": {},
   "source": [
    "## 주어지는 것?"
   ]
  },
  {
   "cell_type": "markdown",
   "metadata": {},
   "source": [
    "- 부서별 신청 금액이 들어 있는 배열  \n",
    "    - 1~100이하의 길이\n",
    "    - 각 크기는 1~100,000이하\n",
    "- 총 예산 금액  \n",
    "    - 1~10,000,000이하의 자연수"
   ]
  },
  {
   "cell_type": "markdown",
   "metadata": {},
   "source": [
    "## 어떻게 풀까?"
   ]
  },
  {
   "cell_type": "markdown",
   "metadata": {},
   "source": [
    "- 금액이 적은 부서들을 먼저 지원해주면 전체 수는 증가.  \n",
    "- 작은수 정렬 -> 더해가면서 값비교  \n",
    "    - 배열의 길이가 100이 최대여서 가능."
   ]
  },
  {
   "cell_type": "markdown",
   "metadata": {},
   "source": [
    "## 내 풀이"
   ]
  },
  {
   "cell_type": "code",
   "execution_count": 34,
   "metadata": {
    "collapsed": true
   },
   "outputs": [],
   "source": [
    "def solution(d, budget):\n",
    "    d.sort()\n",
    "    answer = []\n",
    "    \n",
    "    for i in d:\n",
    "        if sum(answer) + i <= budget:\n",
    "            answer += [i]\n",
    "        else : \n",
    "            break;\n",
    "    \n",
    "    return len(answer)"
   ]
  },
  {
   "cell_type": "code",
   "execution_count": 35,
   "metadata": {
    "collapsed": true
   },
   "outputs": [],
   "source": [
    "d = [1,3,2,5,4]\n",
    "budget = 9"
   ]
  },
  {
   "cell_type": "code",
   "execution_count": 36,
   "metadata": {},
   "outputs": [
    {
     "data": {
      "text/plain": [
       "3"
      ]
     },
     "execution_count": 36,
     "metadata": {},
     "output_type": "execute_result"
    }
   ],
   "source": [
    "solution(d, budget)"
   ]
  }
 ],
 "metadata": {
  "kernelspec": {
   "display_name": "Python 3",
   "language": "python",
   "name": "python3"
  },
  "language_info": {
   "codemirror_mode": {
    "name": "ipython",
    "version": 3
   },
   "file_extension": ".py",
   "mimetype": "text/x-python",
   "name": "python",
   "nbconvert_exporter": "python",
   "pygments_lexer": "ipython3",
   "version": "3.6.8"
  }
 },
 "nbformat": 4,
 "nbformat_minor": 2
}
