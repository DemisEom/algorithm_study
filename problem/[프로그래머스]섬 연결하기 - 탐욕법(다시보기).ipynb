{
 "cells": [
  {
   "cell_type": "markdown",
   "metadata": {},
   "source": [
    "# [프로그래머스]섬 연결하기 - 탐욕법"
   ]
  },
  {
   "cell_type": "markdown",
   "metadata": {},
   "source": [
    "## 구해야 하는 것?"
   ]
  },
  {
   "cell_type": "markdown",
   "metadata": {},
   "source": [
    "- 최소의 비용으로 모든 섬이 서로 통행 가능하도록 만드는것.\n",
    "- 다리를 여러번 건너더라도 도달할수만 있으면 통행 가능하다고 봄."
   ]
  },
  {
   "cell_type": "markdown",
   "metadata": {},
   "source": [
    "## 주어지는 것?"
   ]
  },
  {
   "cell_type": "markdown",
   "metadata": {},
   "source": [
    "- 이중 리스트\n",
    "- [i,j,N] -> i에서 j로의 연결 코스트가 N임.\n",
    "- 연결가능한 코스트만 주어짐. 중복은 없음.  0,1과 1,0은 동일한 것으로 봄."
   ]
  },
  {
   "cell_type": "markdown",
   "metadata": {},
   "source": [
    "## 어떻게 풀것인가?"
   ]
  },
  {
   "cell_type": "markdown",
   "metadata": {},
   "source": [
    "- 인접 행렬로 표현했을 때, 각 열에서 가장 작은 값들을 골라서 선택하면 됨. (진짜?)"
   ]
  },
  {
   "cell_type": "markdown",
   "metadata": {},
   "source": [
    "## 내 풀이"
   ]
  },
  {
   "cell_type": "code",
   "execution_count": null,
   "metadata": {
    "collapsed": true
   },
   "outputs": [],
   "source": [
    "def solution(n, costs):\n",
    "    answer = 0\n",
    "\n",
    "    V = set()\n",
    "    for v1, v2, cost in costs:\n",
    "        V.add(v1)\n",
    "        V.add(v2)\n",
    "    sortedCosts = sorted(costs, key = lambda x: x[2])\n",
    "\n",
    "    visited = set()\n",
    "\n",
    "    visited.add(V.pop())\n",
    "    while V:\n",
    "        for i in range(len(sortedCosts)):\n",
    "            v1, v2, cost = sortedCosts[i]\n",
    "            if v1 in visited and v2 in visited:\n",
    "                sortedCosts.pop(i)\n",
    "                break\n",
    "            elif v1 in visited or v2 in visited:\n",
    "                if v1 in V:\n",
    "                    V.remove(v1)\n",
    "                if v2 in V:\n",
    "                    V.remove(v2)\n",
    "                visited.add(v1)\n",
    "                visited.add(v2)\n",
    "                answer += cost\n",
    "                sortedCosts.pop(i)\n",
    "                break\n",
    "\n",
    "    return answer"
   ]
  },
  {
   "cell_type": "code",
   "execution_count": 2,
   "metadata": {
    "collapsed": true
   },
   "outputs": [],
   "source": [
    "n = 4\n",
    "costs = [[0,1,1],[0,2,2],[1,2,5],[1,3,1],[2,3,8]]"
   ]
  }
 ],
 "metadata": {
  "kernelspec": {
   "display_name": "Python 3",
   "language": "python",
   "name": "python3"
  },
  "language_info": {
   "codemirror_mode": {
    "name": "ipython",
    "version": 3
   },
   "file_extension": ".py",
   "mimetype": "text/x-python",
   "name": "python",
   "nbconvert_exporter": "python",
   "pygments_lexer": "ipython3",
   "version": "3.6.8"
  }
 },
 "nbformat": 4,
 "nbformat_minor": 2
}
