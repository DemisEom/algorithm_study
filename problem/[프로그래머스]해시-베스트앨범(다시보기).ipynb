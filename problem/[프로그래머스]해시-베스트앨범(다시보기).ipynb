{
 "cells": [
  {
   "cell_type": "markdown",
   "metadata": {},
   "source": [
    "# [프로그래머스]해시-베스트앨범"
   ]
  },
  {
   "cell_type": "markdown",
   "metadata": {},
   "source": [
    "## 뭘 구해야하지?"
   ]
  },
  {
   "cell_type": "markdown",
   "metadata": {},
   "source": [
    "- 장르 별로 가장많이 재생된 노래를 두개씩 모아서 베스트 앨범 만들고자 함.\n",
    "- 수록 기준(우선순위)은  \n",
    "1.속한 노래가 가장 많이 재생된 장르를 먼저 수록  \n",
    "2.장르 내에서 많이 재생된 노래를 먼저 수록  \n",
    "3.장르내에서 재생횟수가 같은 노래중에서는 고유번호가 낮은 노래는 먼저 수록"
   ]
  },
  {
   "cell_type": "markdown",
   "metadata": {},
   "source": [
    "## 뭐가 주어지지?"
   ]
  },
  {
   "cell_type": "markdown",
   "metadata": {},
   "source": [
    "- 장르를 나타내는 문자열\n",
    "- plays의 각 인덱스가 고유번호\n",
    "- plays는 각 노래들의 재생횟수\n"
   ]
  },
  {
   "cell_type": "markdown",
   "metadata": {},
   "source": [
    "- 예제  \n",
    "genres\tplays\treturn  \n",
    "[classic, pop, classic, classic, pop]\t[500, 600, 150, 800, 2500]\t[4, 1, 3, 0]"
   ]
  },
  {
   "cell_type": "markdown",
   "metadata": {},
   "source": [
    "## 어떻게 풀까?"
   ]
  },
  {
   "cell_type": "markdown",
   "metadata": {},
   "source": [
    "1.장르별 재생횟수를 더해야함.-> 1번 조건  \n",
    "2.징르별로 재생횟수 상위 두개를 뽑아야함 -> 2번조건  \n",
    "3.인덱스를 통해서 3번 조건 처리하기"
   ]
  },
  {
   "cell_type": "markdown",
   "metadata": {},
   "source": [
    "## 내 풀이"
   ]
  },
  {
   "cell_type": "code",
   "execution_count": 5,
   "metadata": {
    "collapsed": true
   },
   "outputs": [],
   "source": [
    "from collections import Counter\n",
    "\n",
    "def solution(genres, plays):\n",
    "    genres_time = [0] * len(list(set(genres)))\n",
    "    answer = []\n",
    "    \n",
    "    \n",
    "    return answer"
   ]
  },
  {
   "cell_type": "code",
   "execution_count": 55,
   "metadata": {
    "collapsed": true
   },
   "outputs": [],
   "source": [
    "genres = [\"classic\", \"pop\", \"classic\", \"classic\", \"pop\"]\n",
    "plays = [500, 600, 150, 800, 2500]"
   ]
  },
  {
   "cell_type": "code",
   "execution_count": 30,
   "metadata": {
    "collapsed": true
   },
   "outputs": [],
   "source": [
    "genres_time = [0] * len(list(set(genres)))"
   ]
  },
  {
   "cell_type": "code",
   "execution_count": 31,
   "metadata": {},
   "outputs": [
    {
     "data": {
      "text/plain": [
       "['pop', 'classic']"
      ]
     },
     "execution_count": 31,
     "metadata": {},
     "output_type": "execute_result"
    }
   ],
   "source": [
    "list(set(genres))"
   ]
  },
  {
   "cell_type": "code",
   "execution_count": 43,
   "metadata": {},
   "outputs": [
    {
     "data": {
      "text/plain": [
       "[[0, 'classic'], [1, 'pop'], [2, 'classic'], [3, 'classic'], [4, 'pop']]"
      ]
     },
     "execution_count": 43,
     "metadata": {},
     "output_type": "execute_result"
    }
   ],
   "source": [
    "[[i, genres[i]] for i in range(len(genres))]"
   ]
  },
  {
   "cell_type": "code",
   "execution_count": 45,
   "metadata": {},
   "outputs": [],
   "source": [
    "test = dict([[i, genres[i]] for i in range(len(genres))])"
   ]
  },
  {
   "cell_type": "code",
   "execution_count": 53,
   "metadata": {},
   "outputs": [
    {
     "name": "stdout",
     "output_type": "stream",
     "text": [
      "classic\n",
      "pop\n",
      "classic\n",
      "classic\n",
      "pop\n"
     ]
    }
   ],
   "source": [
    "for i in test.keys():\n",
    "        print(test[i])"
   ]
  },
  {
   "cell_type": "code",
   "execution_count": 48,
   "metadata": {},
   "outputs": [
    {
     "data": {
      "text/plain": [
       "{0: 'classic', 1: 'pop', 2: 'classic', 3: 'classic', 4: 'pop'}"
      ]
     },
     "execution_count": 48,
     "metadata": {},
     "output_type": "execute_result"
    }
   ],
   "source": [
    "test\n"
   ]
  },
  {
   "cell_type": "markdown",
   "metadata": {},
   "source": [
    "## 다른 사람 풀이"
   ]
  },
  {
   "cell_type": "code",
   "execution_count": 54,
   "metadata": {
    "collapsed": true
   },
   "outputs": [],
   "source": [
    "def solution(genres, plays):\n",
    "    answer = []\n",
    "    d = {e:[] for e in set(genres)}\n",
    "    for e in zip(genres, plays, range(len(plays))):\n",
    "        d[e[0]].append([e[1] , e[2]])\n",
    "    genreSort =sorted(list(d.keys()), key= lambda x: sum( map(lambda y: y[0],d[x])), reverse = True)\n",
    "    for g in genreSort:\n",
    "        temp = [e[1] for e in sorted(d[g],key= lambda x: (x[0], -x[1]), reverse = True)]\n",
    "        answer += temp[:min(len(temp),2)]\n",
    "    return answer"
   ]
  },
  {
   "cell_type": "code",
   "execution_count": null,
   "metadata": {
    "collapsed": true
   },
   "outputs": [],
   "source": [
    "import operator\n",
    "from collections import defaultdict\n",
    "\n",
    "class Music:\n",
    "    def __init__(self, id, g, p):\n",
    "        self.id = id\n",
    "        self.g = g\n",
    "        self.p = p\n",
    "\n",
    "def solution(genres, plays):\n",
    "    db = []\n",
    "    g_db = defaultdict(int)\n",
    "    for i in range(len(genres)):\n",
    "        db.append(Music(i,genres[i],plays[i]))\n",
    "        g_db[genres[i]] += plays[i]\n",
    "    db.sort(key=operator.attrgetter(\"id\"))\n",
    "    db.sort(key=operator.attrgetter(\"p\"),reverse=True)\n",
    "\n",
    "    g_db = sorted(g_db.items(),key=operator.itemgetter(1), reverse=True)\n",
    "\n",
    "    result = []\n",
    "    for g in g_db:\n",
    "        idx = 0\n",
    "        cnt = 0\n",
    "        while cnt <2:\n",
    "            if idx >= len(db):\n",
    "                break\n",
    "            if db[idx].g == g[0]:\n",
    "                result.append(db[idx].id)\n",
    "                cnt += 1\n",
    "            idx += 1\n",
    "    return result\n"
   ]
  }
 ],
 "metadata": {
  "kernelspec": {
   "display_name": "Python 3",
   "language": "python",
   "name": "python3"
  },
  "language_info": {
   "codemirror_mode": {
    "name": "ipython",
    "version": 3
   },
   "file_extension": ".py",
   "mimetype": "text/x-python",
   "name": "python",
   "nbconvert_exporter": "python",
   "pygments_lexer": "ipython3",
   "version": "3.6.8"
  }
 },
 "nbformat": 4,
 "nbformat_minor": 2
}
