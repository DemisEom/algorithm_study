{
 "cells": [
  {
   "cell_type": "markdown",
   "metadata": {},
   "source": [
    "\n",
    "# [프로그래머스] 해시 - 위장"
   ]
  },
  {
   "cell_type": "markdown",
   "metadata": {},
   "source": [
    "## 해야하는 것"
   ]
  },
  {
   "cell_type": "markdown",
   "metadata": {},
   "source": [
    "- 옷 종류가 주어짐.\n",
    "- 옷 종류 별로 하나만 입을수 있음. 안입을수도 있음. 예를 들어 3종류면 1종류, 2종류, 3종류의 조합이 가능\n",
    "- 출력으로 가능한 조합의 경우의 수"
   ]
  },
  {
   "cell_type": "markdown",
   "metadata": {},
   "source": [
    "## 주어진 것"
   ]
  },
  {
   "cell_type": "markdown",
   "metadata": {},
   "source": [
    "- 이중 리스트로 리스트별로 [이름, 종류]로 구성됨. "
   ]
  },
  {
   "cell_type": "markdown",
   "metadata": {},
   "source": [
    "## 어떻게 구할까"
   ]
  },
  {
   "cell_type": "markdown",
   "metadata": {},
   "source": [
    "1.이중리스트를 분리해서 종류별로 분리.  \n",
    "2.각각에서 경우의수는 종류별로 아이템수+1임. 이것들을 곱해주고 하나도 안들어가는경우를 하나 빼자"
   ]
  },
  {
   "cell_type": "markdown",
   "metadata": {},
   "source": [
    "- 예제  \n",
    "[yellow_hat, headgear], [blue_sunglasses, eyewear], [green_turban, headgear]]  \n",
    "=> 헤드기어: 옐로우, 그린 / 아이웨어 : 블루  \n",
    "1.yellow_hat  \n",
    "2.blue_sunglasses  \n",
    "3.green_turban  \n",
    "4.yellow_hat + blue_sunglasses  \n",
    "5.green_turban + blue_sunglasses  "
   ]
  },
  {
   "cell_type": "markdown",
   "metadata": {},
   "source": [
    "## 내 풀이"
   ]
  },
  {
   "cell_type": "code",
   "execution_count": 90,
   "metadata": {
    "collapsed": true
   },
   "outputs": [],
   "source": [
    "from collections import Counter\n",
    "\n",
    "def solution(clothes):\n",
    "    answer = 1\n",
    "    \n",
    "    counter_each_category = Counter([cat for _, cat in clothes])\n",
    "    \n",
    "    for i in counter_each_category:\n",
    "        answer *= counter_each_category[i]+1\n",
    "    \n",
    "    return answer-1"
   ]
  },
  {
   "cell_type": "markdown",
   "metadata": {},
   "source": [
    "- 파이썬 카운터 라이브러리를 알았다면 더 빨리 풀수 있었던 문제.... 카운팅 하는걸 만들다고 카운터를 생각함...  \n",
    "- https://excelsior-cjh.tistory.com/94 여기 참고해서 collection을 좀 공부하자!\n",
    "- https://www.slideshare.net/dahlmoon/collections-20160313 여기도 참고!"
   ]
  },
  {
   "cell_type": "code",
   "execution_count": null,
   "metadata": {
    "collapsed": true
   },
   "outputs": [],
   "source": []
  }
 ],
 "metadata": {
  "kernelspec": {
   "display_name": "Python 3",
   "language": "python",
   "name": "python3"
  },
  "language_info": {
   "codemirror_mode": {
    "name": "ipython",
    "version": 3
   },
   "file_extension": ".py",
   "mimetype": "text/x-python",
   "name": "python",
   "nbconvert_exporter": "python",
   "pygments_lexer": "ipython3",
   "version": "3.6.8"
  }
 },
 "nbformat": 4,
 "nbformat_minor": 2
}
