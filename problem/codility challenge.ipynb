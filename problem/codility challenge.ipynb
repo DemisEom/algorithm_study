{
 "cells": [
  {
   "cell_type": "markdown",
   "metadata": {},
   "source": [
    "# 3문제 챌린지"
   ]
  },
  {
   "cell_type": "markdown",
   "metadata": {},
   "source": [
    "# 1번 문제"
   ]
  },
  {
   "cell_type": "markdown",
   "metadata": {},
   "source": [
    "## 구해야 하는 것"
   ]
  },
  {
   "cell_type": "markdown",
   "metadata": {},
   "source": [
    "- 2차원의 배열이 존재함.\n",
    "- 새들 포인트가 존재함, 이때의 어떠한 정수의 쌍을 (P,Q)\n",
    "- 새들 포인트의 정의\n",
    "    - (P,Q)는 로우에서는 로컬 미니멈, 컬럼에서는 로컬 맥시멈.\n",
    "    - 혹은 로우에서는 로컬 맥시멈, 컬럼에서는 로컬 미니멈.\n",
    "- 주어진 행렬에서 몇개의 새들 포인트를 가지는지 구하자."
   ]
  },
  {
   "cell_type": "markdown",
   "metadata": {},
   "source": [
    "## 주어지는 것"
   ]
  },
  {
   "cell_type": "markdown",
   "metadata": {},
   "source": [
    "- 2차원의 행렬"
   ]
  },
  {
   "cell_type": "markdown",
   "metadata": {},
   "source": [
    "## 어떻게 풀것인가"
   ]
  },
  {
   "cell_type": "markdown",
   "metadata": {},
   "source": [
    "- 로우별, 컬럼 별 최대 최소 값을 구해야 할듯함.\n",
    "- 최대 500*500 사이즈가 주어짐.\n",
    "- 행렬의 각 원소들은 -21억~21억\n",
    "- 정확도에 초점을 맞추자."
   ]
  },
  {
   "cell_type": "code",
   "execution_count": null,
   "metadata": {
    "collapsed": true
   },
   "outputs": [],
   "source": []
  },
  {
   "cell_type": "markdown",
   "metadata": {},
   "source": [
    "## 내 풀이"
   ]
  },
  {
   "cell_type": "code",
   "execution_count": 145,
   "metadata": {},
   "outputs": [],
   "source": [
    "def solution(A):\n",
    "\n",
    "    saddle_cnt = 0\n",
    "    row_local_min = []\n",
    "    row_local_max = []\n",
    "    \n",
    "    # 사이즈가 작을 떄 예외 처리\n",
    "    col_len = len(A[0])\n",
    "    row_len = 0\n",
    "    for i in A:\n",
    "        row_len +=1\n",
    "    \n",
    "    if col_len <3 or row_len<3:\n",
    "        return 0\n",
    "    \n",
    "    # 각 로우별 local min, max 찾기.\n",
    "    for index, row in enumerate(A):\n",
    "        for i in range(1,len(A)-1):\n",
    "            if row[i-1]>row[i] and row[i]<row[i+1]:\n",
    "                row_local_min = [(index, i, row[i])]\n",
    "            \n",
    "            if row[i-1]<row[i] and row[i]>row[i+1]:\n",
    "                row_local_max = [(index, i, row[i])]\n",
    "        print(row_local_min)\n",
    "    \n",
    "        \n",
    "        # 각 로우의 col을 만들어서 col의 local min, max와 같은 값인지 확인하기.\n",
    "        for i, j, row_candidate in row_local_min:\n",
    "            col = [row[j] for row in A]\n",
    "            \n",
    "            for col_ind in range(1,len(col)-1):\n",
    "                if col[col_ind-1]<col[col_ind] and col[col_ind]>col[col_ind+1]:\n",
    "                    if row_candidate == col[col_ind]:\n",
    "                        saddle_cnt += 1\n",
    "                \n",
    "        for i, j, row_candidate in row_local_max:\n",
    "            col = [row[j] for row in A]\n",
    "            \n",
    "            for col_ind in range(1,len(col)-1):\n",
    "                if col[col_ind-1]>col[col_ind] and col[col_ind]<col[col_ind+1]:\n",
    "                    if row_candidate == col[col_ind]:\n",
    "                        saddle_cnt += 1\n",
    "            \n",
    "        \n",
    "    return saddle_cnt"
   ]
  },
  {
   "cell_type": "code",
   "execution_count": 146,
   "metadata": {
    "collapsed": true
   },
   "outputs": [],
   "source": [
    "A = [[0, 1, 9, 3], [7, 5, 8, 3], [9, 2, 9, 4], [4, 6, 7, 1]]"
   ]
  },
  {
   "cell_type": "code",
   "execution_count": 150,
   "metadata": {
    "collapsed": true
   },
   "outputs": [],
   "source": [
    "A = [[0, 1, 9, 3], [7, 5, 8, 3]]"
   ]
  },
  {
   "cell_type": "code",
   "execution_count": 143,
   "metadata": {},
   "outputs": [],
   "source": [
    "row_len = 0\n",
    "for i in A:\n",
    "    row_len +=1"
   ]
  },
  {
   "cell_type": "code",
   "execution_count": 144,
   "metadata": {},
   "outputs": [
    {
     "data": {
      "text/plain": [
       "3"
      ]
     },
     "execution_count": 144,
     "metadata": {},
     "output_type": "execute_result"
    }
   ],
   "source": [
    "row_len "
   ]
  },
  {
   "cell_type": "code",
   "execution_count": 151,
   "metadata": {},
   "outputs": [
    {
     "data": {
      "text/plain": [
       "0"
      ]
     },
     "execution_count": 151,
     "metadata": {},
     "output_type": "execute_result"
    }
   ],
   "source": [
    "solution(A)"
   ]
  },
  {
   "cell_type": "code",
   "execution_count": 46,
   "metadata": {
    "collapsed": true
   },
   "outputs": [],
   "source": [
    "def saddle_points(matrix):\n",
    "    \"\"\"\n",
    "    A saddle point is an element which is greaterh thean or equal to every\n",
    "    element in its row, it must be also less than or equal to every element\n",
    "    in its column.\n",
    "    \"\"\"\n",
    "    # check that matrix in input is a quadratic one.\n",
    "\n",
    "    results = set()\n",
    "    for index, row in enumerate(matrix):\n",
    "        candidates = [(i, x) for i, x in enumerate(row) if x == max(row)]\n",
    "        for i, candidate in candidates:\n",
    "            column = [row[i] for row in matrix]\n",
    "            if candidate == min(column):\n",
    "                results |= {(index, i)}\n",
    "    return results"
   ]
  },
  {
   "cell_type": "code",
   "execution_count": 47,
   "metadata": {},
   "outputs": [
    {
     "name": "stdout",
     "output_type": "stream",
     "text": [
      "[9, 8, 9, 7]\n",
      "[9, 8, 9, 7]\n",
      "[0, 7, 9, 4]\n",
      "[9, 8, 9, 7]\n",
      "[9, 8, 9, 7]\n"
     ]
    },
    {
     "data": {
      "text/plain": [
       "{(3, 2)}"
      ]
     },
     "execution_count": 47,
     "metadata": {},
     "output_type": "execute_result"
    }
   ],
   "source": [
    "saddle_points(A)"
   ]
  },
  {
   "cell_type": "markdown",
   "metadata": {},
   "source": [
    "# 2번문제"
   ]
  },
  {
   "cell_type": "markdown",
   "metadata": {},
   "source": [
    "## 구해야 하는 것"
   ]
  },
  {
   "cell_type": "markdown",
   "metadata": {},
   "source": [
    "- SMS의 텍스트 전송 문제.\n",
    "- 주어지는 K의 숫자보다 같거나 작은 수를 한번에 보낼수 있음.\n",
    "- 이때 문자열의 각 단어들이 잘라지면 안됨.\n",
    "- 이럴때 몇번에 걸쳐서 전송해야 하는 지 구하자."
   ]
  },
  {
   "cell_type": "markdown",
   "metadata": {},
   "source": [
    "## 내 풀이"
   ]
  },
  {
   "cell_type": "code",
   "execution_count": 216,
   "metadata": {},
   "outputs": [],
   "source": [
    "def solution(S, K):\n",
    "    list_S = S.split()\n",
    "    \n",
    "    temp_len = 0\n",
    "    send_cnt = 1\n",
    "    \n",
    "    #리스트로 만들어서 충족 시킬때 마다 큐에서 꺼내기\n",
    "    while list_S:\n",
    "        temp_word = list_S.pop(0)\n",
    "        \n",
    "        # 각 단어의 길이가 주어진 K보다 큰 경우 나누는것 불가능\n",
    "        if len(temp_word) > K:\n",
    "            return -1\n",
    "        \n",
    "        # 리스트로 만들면서 띄워쓰기가 제외되므로 \n",
    "        if len(temp_word)+temp_len+1 <= K:\n",
    "            temp_len += len(temp_word)+1\n",
    "        else:\n",
    "            send_cnt += 1\n",
    "            temp_len = 0\n",
    "            \n",
    "    return send_cnt"
   ]
  },
  {
   "cell_type": "code",
   "execution_count": 217,
   "metadata": {
    "collapsed": true
   },
   "outputs": [],
   "source": [
    "S = \"SMS messages are really short\""
   ]
  },
  {
   "cell_type": "code",
   "execution_count": 218,
   "metadata": {
    "collapsed": true
   },
   "outputs": [],
   "source": [
    "S = \"SMSS\""
   ]
  },
  {
   "cell_type": "code",
   "execution_count": 219,
   "metadata": {
    "collapsed": true
   },
   "outputs": [],
   "source": [
    "K = 3"
   ]
  },
  {
   "cell_type": "code",
   "execution_count": 220,
   "metadata": {},
   "outputs": [
    {
     "data": {
      "text/plain": [
       "-1"
      ]
     },
     "execution_count": 220,
     "metadata": {},
     "output_type": "execute_result"
    }
   ],
   "source": [
    "solution(S,K)"
   ]
  },
  {
   "cell_type": "markdown",
   "metadata": {},
   "source": [
    "# 3번 문제"
   ]
  },
  {
   "cell_type": "markdown",
   "metadata": {},
   "source": [
    "## 구해야 하는 것"
   ]
  },
  {
   "cell_type": "markdown",
   "metadata": {},
   "source": [
    "- 단어가 주어졌을 때, 몇가지 문자들을 제거 하여 문자 순으로 가장 앞으로 나오게 하는 단어의 문자 길이를 구하시오."
   ]
  },
  {
   "cell_type": "code",
   "execution_count": 329,
   "metadata": {},
   "outputs": [],
   "source": [
    "def solution(S):\n",
    "\n",
    "    length_S = len(S)\n",
    "    list_S = list(S)\n",
    "    list_sorted = sorted(list_S)\n",
    "    \n",
    "    word = []\n",
    "    cnt = 0\n",
    "    \n",
    "    for i in range(len(list_S)-1):\n",
    "        temp_pre, temp_next = list_S[i], list_S[i+1]\n",
    "        \n",
    "        if temp_pre < temp_next:\n",
    "            cnt += 1\n",
    "   \n",
    "    return cnt+1"
   ]
  },
  {
   "cell_type": "code",
   "execution_count": 330,
   "metadata": {
    "collapsed": true
   },
   "outputs": [],
   "source": [
    "S = \"banana\""
   ]
  },
  {
   "cell_type": "code",
   "execution_count": 332,
   "metadata": {
    "collapsed": true
   },
   "outputs": [],
   "source": [
    "S = \"abcd\""
   ]
  },
  {
   "cell_type": "code",
   "execution_count": 333,
   "metadata": {},
   "outputs": [
    {
     "data": {
      "text/plain": [
       "4"
      ]
     },
     "execution_count": 333,
     "metadata": {},
     "output_type": "execute_result"
    }
   ],
   "source": [
    "solution(S)"
   ]
  },
  {
   "cell_type": "code",
   "execution_count": 322,
   "metadata": {
    "collapsed": true
   },
   "outputs": [],
   "source": [
    "test = list(S)"
   ]
  },
  {
   "cell_type": "code",
   "execution_count": 323,
   "metadata": {},
   "outputs": [
    {
     "name": "stdout",
     "output_type": "stream",
     "text": [
      "['a', 'a', 'a', 'b', 'n', 'n']\n"
     ]
    }
   ],
   "source": [
    "print(sorted(test))"
   ]
  },
  {
   "cell_type": "code",
   "execution_count": 324,
   "metadata": {},
   "outputs": [
    {
     "data": {
      "text/plain": [
       "True"
      ]
     },
     "execution_count": 324,
     "metadata": {},
     "output_type": "execute_result"
    }
   ],
   "source": [
    "'b' > 'a'"
   ]
  },
  {
   "cell_type": "code",
   "execution_count": null,
   "metadata": {
    "collapsed": true
   },
   "outputs": [],
   "source": []
  }
 ],
 "metadata": {
  "kernelspec": {
   "display_name": "Python 3",
   "language": "python",
   "name": "python3"
  },
  "language_info": {
   "codemirror_mode": {
    "name": "ipython",
    "version": 3
   },
   "file_extension": ".py",
   "mimetype": "text/x-python",
   "name": "python",
   "nbconvert_exporter": "python",
   "pygments_lexer": "ipython3",
   "version": "3.6.8"
  }
 },
 "nbformat": 4,
 "nbformat_minor": 2
}
