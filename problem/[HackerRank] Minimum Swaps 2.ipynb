{
 "cells": [
  {
   "cell_type": "markdown",
   "metadata": {},
   "source": [
    "# [HackerRank] Minimum Swaps 2"
   ]
  },
  {
   "cell_type": "markdown",
   "metadata": {},
   "source": [
    "## 구해야 하는 것"
   ]
  },
  {
   "cell_type": "markdown",
   "metadata": {},
   "source": [
    "-  주어지는 배열에서 최소한의 변경으로 오름차순으로 정렬해라."
   ]
  },
  {
   "cell_type": "markdown",
   "metadata": {},
   "source": [
    "## 주어지는 것 "
   ]
  },
  {
   "cell_type": "markdown",
   "metadata": {},
   "source": [
    "- 정렬되지 않은 배열"
   ]
  },
  {
   "cell_type": "markdown",
   "metadata": {},
   "source": [
    "## 어떻게 풀것인가"
   ]
  },
  {
   "cell_type": "markdown",
   "metadata": {},
   "source": [
    "- 정렬 문제.\n",
    "- 실제 정렬을 할경우와 안할경우\n",
    "    - 실제 정렬\n",
    "        - 예제에서는 작은수를 제일 앞으로 보내고 큰수를 하나씩 뒤로 보내고 있음.\n",
    "        - 최소값을 앞으로 보내는 방법으로 문제를 풀어보자."
   ]
  },
  {
   "cell_type": "markdown",
   "metadata": {},
   "source": [
    "## 내 풀이"
   ]
  },
  {
   "cell_type": "markdown",
   "metadata": {},
   "source": [
    "### 1) 실제 정렬 알고리즘을 구해본다.  \n",
    "실행 시간이 너무 오래걸려서 다른 방법을 찾아본다.  \n",
    "10^5길이가 있음....  \n",
    "최소값을 찾는게 아니라 인덱스 값을 사용해보자"
   ]
  },
  {
   "cell_type": "code",
   "execution_count": 40,
   "metadata": {
    "collapsed": true
   },
   "outputs": [],
   "source": [
    "def minimumSwaps(arr):\n",
    "    ref_arr = sorted(arr)\n",
    "    index_dict = {v: i for i,v in enumerate(arr)}\n",
    "    swaps = 0\n",
    "    \n",
    "    for i,v in enumerate(arr):\n",
    "        correct_value = ref_arr[i]\n",
    "        if v != correct_value:\n",
    "            to_swap_ix = index_dict[correct_value]\n",
    "            arr[to_swap_ix],arr[i] = arr[i], arr[to_swap_ix]\n",
    "            index_dict[v] = to_swap_ix\n",
    "            index_dict[correct_value] = i\n",
    "            swaps += 1\n",
    "            \n",
    "    return swaps"
   ]
  },
  {
   "cell_type": "code",
   "execution_count": 43,
   "metadata": {},
   "outputs": [],
   "source": [
    "test=[1,3,5,2,4,6,7] "
   ]
  },
  {
   "cell_type": "code",
   "execution_count": 44,
   "metadata": {
    "scrolled": true
   },
   "outputs": [
    {
     "data": {
      "text/plain": [
       "3"
      ]
     },
     "execution_count": 44,
     "metadata": {},
     "output_type": "execute_result"
    }
   ],
   "source": [
    "minimumSwaps(test)"
   ]
  }
 ],
 "metadata": {
  "kernelspec": {
   "display_name": "Python 3",
   "language": "python",
   "name": "python3"
  },
  "language_info": {
   "codemirror_mode": {
    "name": "ipython",
    "version": 3
   },
   "file_extension": ".py",
   "mimetype": "text/x-python",
   "name": "python",
   "nbconvert_exporter": "python",
   "pygments_lexer": "ipython3",
   "version": "3.6.8"
  }
 },
 "nbformat": 4,
 "nbformat_minor": 2
}
