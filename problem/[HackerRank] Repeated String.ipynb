{
 "cells": [
  {
   "cell_type": "markdown",
   "metadata": {},
   "source": [
    "# [HackerRank] Repeated String"
   ]
  },
  {
   "cell_type": "markdown",
   "metadata": {},
   "source": [
    "## 구해야 하는 것"
   ]
  },
  {
   "cell_type": "markdown",
   "metadata": {},
   "source": [
    "- 스트링 S를 가지고 있음. 문자열은 소문자들로 되어 있음. 이 문자열을 무한으로 반복한다고 함.\n",
    "- 정수n이 주어지면 처음 n개의 글자 중에서 'a'가 몇번 반복되는지 찾는것.\n"
   ]
  },
  {
   "cell_type": "markdown",
   "metadata": {},
   "source": [
    "## 주어지는 것"
   ]
  },
  {
   "cell_type": "markdown",
   "metadata": {},
   "source": [
    "- 정수 n : 상위 몇번째 글자까지 볼 것인가.\n",
    "- 문자열 s : 무한으로 반복되는 문자열"
   ]
  },
  {
   "cell_type": "markdown",
   "metadata": {},
   "source": [
    "# 어떻게 풀 것인가?"
   ]
  },
  {
   "cell_type": "markdown",
   "metadata": {},
   "source": [
    "- 반복되는 글자의 개수를 확인. -> 그 안에서 a가 몇개있는지 확인.\n",
    "- 보고자 하는 상위 글자가를 볼때 잘라지는 부분안에 'a'가 몇개 있는 지 확인.\n",
    "- 주어진 문자열에서 'a'를 어떻게 찾을것인지 확인 필요"
   ]
  },
  {
   "cell_type": "markdown",
   "metadata": {},
   "source": [
    "## 내 풀이"
   ]
  },
  {
   "cell_type": "code",
   "execution_count": 31,
   "metadata": {},
   "outputs": [],
   "source": [
    "# Complete the repeatedString function below.\n",
    "def repeatedString(s, n):\n",
    "    list_s = list(s)\n",
    "    len_s = len(s)\n",
    "    \n",
    "    a, b = divmod(n, len_s)\n",
    "    \n",
    "    count_a = s.count('a')\n",
    "    \n",
    "    a_count = count_a * a + s[:b].count('a')\n",
    "    \n",
    "    return a_count\n",
    "    "
   ]
  }
 ],
 "metadata": {
  "kernelspec": {
   "display_name": "Python 3",
   "language": "python",
   "name": "python3"
  },
  "language_info": {
   "codemirror_mode": {
    "name": "ipython",
    "version": 3
   },
   "file_extension": ".py",
   "mimetype": "text/x-python",
   "name": "python",
   "nbconvert_exporter": "python",
   "pygments_lexer": "ipython3",
   "version": "3.6.8"
  }
 },
 "nbformat": 4,
 "nbformat_minor": 2
}
