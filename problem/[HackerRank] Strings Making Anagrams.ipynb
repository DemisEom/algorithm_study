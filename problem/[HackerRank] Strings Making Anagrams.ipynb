{
 "cells": [
  {
   "cell_type": "markdown",
   "metadata": {},
   "source": [
    "# [HackerRank] Strings Making Anagrams\n"
   ]
  },
  {
   "cell_type": "markdown",
   "metadata": {},
   "source": [
    "## 구해야 하는 것"
   ]
  },
  {
   "cell_type": "markdown",
   "metadata": {},
   "source": [
    "- 아나그램 문제.\n",
    "- 첫번째 문자를 재정렬해서 두번째 문자열을 만들수 있다면 아나그램이라고 함.\n",
    "- 두개의 문자열이 주어졌을 때, 두개의 문자열이 아나그램으로 만들기 위해 최소한으로 삭제해야 하는 경우의 수."
   ]
  },
  {
   "cell_type": "markdown",
   "metadata": {},
   "source": [
    "## 주어지는 것"
   ]
  },
  {
   "cell_type": "markdown",
   "metadata": {},
   "source": [
    "- 두개의 문자열"
   ]
  },
  {
   "cell_type": "markdown",
   "metadata": {},
   "source": [
    "## 어떻게 구할까"
   ]
  },
  {
   "cell_type": "markdown",
   "metadata": {},
   "source": [
    "- 두 문자를 비교하는 방법이 중요.\n",
    "- 알파벳, 종류는 한정되어있음. 최대 문자열 길이는 10^4.\n",
    "- 다르게 생각해보면 두개의 알파벳 종류와 각 알파벳 개수가 같아져야 함.\n",
    "- 교집합을 찾는다?\n",
    "    - 양쪽 문자열에 서로 없는 것들은 빼기.\n",
    "    - 둘다 있는 문자열은 비교하면서 개수가 같도록 하기."
   ]
  },
  {
   "cell_type": "markdown",
   "metadata": {},
   "source": [
    "## 내 풀이"
   ]
  },
  {
   "cell_type": "code",
   "execution_count": 1,
   "metadata": {
    "collapsed": true
   },
   "outputs": [],
   "source": [
    "from collections import Counter\n",
    "\n",
    "def makeAnagram(a, b):\n",
    "    t1=sum(dict(Counter(a) - Counter(b)).values())\n",
    "    t2=sum(dict(Counter(b) - Counter(a)).values())\n",
    "    \n",
    "    return t1+t2\n",
    "        \n",
    "    "
   ]
  },
  {
   "cell_type": "code",
   "execution_count": 2,
   "metadata": {
    "collapsed": true
   },
   "outputs": [],
   "source": [
    "a =\"cde\"\n",
    "b =\"abc\""
   ]
  },
  {
   "cell_type": "code",
   "execution_count": 3,
   "metadata": {
    "collapsed": true
   },
   "outputs": [],
   "source": [
    "a =\"fsqoiaidfaukvngpsugszsnseskicpejjvytviya\"\n",
    "b =\"ksmfgsxamduovigbasjchnoskolfwjhgetnmnkmcphqmpwnrrwtymjtwxget\""
   ]
  },
  {
   "cell_type": "code",
   "execution_count": 4,
   "metadata": {
    "scrolled": true
   },
   "outputs": [
    {
     "data": {
      "text/plain": [
       "42"
      ]
     },
     "execution_count": 4,
     "metadata": {},
     "output_type": "execute_result"
    }
   ],
   "source": [
    "makeAnagram(a,b)"
   ]
  }
 ],
 "metadata": {
  "kernelspec": {
   "display_name": "Python 3",
   "language": "python",
   "name": "python3"
  },
  "language_info": {
   "codemirror_mode": {
    "name": "ipython",
    "version": 3
   },
   "file_extension": ".py",
   "mimetype": "text/x-python",
   "name": "python",
   "nbconvert_exporter": "python",
   "pygments_lexer": "ipython3",
   "version": "3.6.8"
  }
 },
 "nbformat": 4,
 "nbformat_minor": 2
}
