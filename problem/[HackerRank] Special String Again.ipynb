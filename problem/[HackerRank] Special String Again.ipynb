{
 "cells": [
  {
   "cell_type": "markdown",
   "metadata": {},
   "source": [
    "# [HackerRank] Special String Again"
   ]
  },
  {
   "cell_type": "markdown",
   "metadata": {},
   "source": [
    "## 구해야 하는 것"
   ]
  },
  {
   "cell_type": "markdown",
   "metadata": {},
   "source": [
    "- 두가지 경우 중 하나를 만족하면 스페셜 스트링이라고 함.\n",
    "    - 모든 문자들이 같거나.\n",
    "    - 중간 글자를 제외한 글자들이 같을 때.\n",
    "- 주어진 문자열을 가지고 몇가지의 스페셜 스트링을 만들수 있는지 찾아라."
   ]
  },
  {
   "cell_type": "markdown",
   "metadata": {},
   "source": [
    "## 주어지는 것\n"
   ]
  },
  {
   "cell_type": "markdown",
   "metadata": {},
   "source": [
    "- 문자열 s, 문자열의 길이"
   ]
  },
  {
   "cell_type": "markdown",
   "metadata": {},
   "source": [
    "## 어떻게 풀것인가?"
   ]
  },
  {
   "cell_type": "markdown",
   "metadata": {},
   "source": [
    "- 그리디방법은 제외. 문자열의 최대 길이는 10^6."
   ]
  },
  {
   "cell_type": "markdown",
   "metadata": {},
   "source": [
    "## 내 풀이"
   ]
  },
  {
   "cell_type": "markdown",
   "metadata": {},
   "source": [
    "### 그리디하게 해봤더니 역시나 안됨"
   ]
  },
  {
   "cell_type": "code",
   "execution_count": 81,
   "metadata": {
    "collapsed": true
   },
   "outputs": [],
   "source": [
    "def cnt_special(n, s):\n",
    "    cnt = 0\n",
    "        \n",
    "    for i in range(len(s)-n+1):\n",
    "        temp_s = s[i:i+n]\n",
    "#         print(i, temp_s)\n",
    "        \n",
    "        if temp_s[0]*len(temp_s) == temp_s:\n",
    "            cnt += 1\n",
    "            print(temp_s)\n",
    "            \n",
    "        elif len(temp_s)%2 == 1 and temp_s[:int(len(temp_s)/2)]==temp_s[int(len(temp_s)/2)+1:]:\n",
    "            cnt += 1\n",
    "            print(temp_s)\n",
    "    \n",
    "    return cnt\n",
    "\n",
    "def substrCount(n, s):\n",
    "    cnt = 0\n",
    "    \n",
    "    cnt += len(s)\n",
    "    \n",
    "    for i in range(2,len(s)+1):\n",
    "        print(\"i=\",i)\n",
    "        cnt += cnt_special(i,s)\n",
    "    \n",
    "    return cnt"
   ]
  },
  {
   "cell_type": "markdown",
   "metadata": {},
   "source": [
    "### 순서대로 연속되는 문자의 개수를 세어보자. 그 다음은 경우의 수 문제"
   ]
  },
  {
   "cell_type": "code",
   "execution_count": 77,
   "metadata": {},
   "outputs": [],
   "source": [
    "def substrCount(n, s):\n",
    "    cnt = 0\n",
    "    current = None\n",
    "    fre_list = []\n",
    "    \n",
    "    for i in range(n):\n",
    "        if s[i] == current:\n",
    "            cnt += 1\n",
    "        \n",
    "        else:\n",
    "            if current is not None:\n",
    "                fre_list.append([current, cnt])\n",
    "            current = s[i]\n",
    "            cnt = 1\n",
    "            \n",
    "    fre_list.append([current, cnt])\n",
    "    print(fre_list)\n",
    "    ans = 0\n",
    "        \n",
    "    for i in fre_list:\n",
    "        ans += (i[1]*(i[1]-1))//2\n",
    "    \n",
    "    for i in range(1, len(fre_list)-1):\n",
    "        if fre_list[i-1][0] == fre_list[i+1][0] and fre_list[i][1] == 1:\n",
    "            ans += min(fre_list[i - 1][1], fre_list[i + 1][1])\n",
    "    return ans"
   ]
  },
  {
   "cell_type": "code",
   "execution_count": 78,
   "metadata": {
    "collapsed": true
   },
   "outputs": [],
   "source": [
    "s = \"asasd\""
   ]
  },
  {
   "cell_type": "code",
   "execution_count": 79,
   "metadata": {
    "collapsed": true
   },
   "outputs": [],
   "source": [
    "s = \"aaaa\""
   ]
  },
  {
   "cell_type": "code",
   "execution_count": 80,
   "metadata": {
    "scrolled": true
   },
   "outputs": [
    {
     "name": "stdout",
     "output_type": "stream",
     "text": [
      "[['a', 4]]\n"
     ]
    },
    {
     "data": {
      "text/plain": [
       "6"
      ]
     },
     "execution_count": 80,
     "metadata": {},
     "output_type": "execute_result"
    }
   ],
   "source": [
    "substrCount(len(s), s)"
   ]
  }
 ],
 "metadata": {
  "kernelspec": {
   "display_name": "Python 3",
   "language": "python",
   "name": "python3"
  },
  "language_info": {
   "codemirror_mode": {
    "name": "ipython",
    "version": 3
   },
   "file_extension": ".py",
   "mimetype": "text/x-python",
   "name": "python",
   "nbconvert_exporter": "python",
   "pygments_lexer": "ipython3",
   "version": "3.6.8"
  }
 },
 "nbformat": 4,
 "nbformat_minor": 2
}
